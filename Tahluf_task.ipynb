{
  "cells": [
    {
      "cell_type": "markdown",
      "metadata": {
        "id": "view-in-github",
        "colab_type": "text"
      },
      "source": [
        "<a href=\"https://colab.research.google.com/github/Raghad770/UTK/blob/main/Tahluf_task.ipynb\" target=\"_parent\"><img src=\"https://colab.research.google.com/assets/colab-badge.svg\" alt=\"Open In Colab\"/></a>"
      ]
    },
    {
      "cell_type": "markdown",
      "metadata": {
        "id": "9fe7273d"
      },
      "source": [
        "# Part-2 Coding Exam\n",
        "\n",
        "## Outlines\n",
        "\n",
        "- Creating Arrays\n",
        "- Initial Placeholders\n",
        "- Array Inspection\n",
        "- Array Mathematics\n",
        "- Array Manipulation\n",
        "- DataFrame\n",
        "- Selecting, Boolean Indexing & Setting\n",
        "- Dropping\n",
        "- Retrieving DataFrame Information\n",
        "\n",
        "## Notes\n",
        "- All problems MUST be solved\n",
        "- Read the problems well, before you start solving.\n",
        "- The solution MUST pass all the test cases\n",
        "- Feel free to add more cells to develope the program, BUT make sure you gather them in ONE adequately working code cell.  \n",
        "- You also should create all the numpy input arrays first.\n",
        "\n",
        "### This exam consists of 34 mini-questions based on what you toke in session and also on some simple research you should make online.\n",
        "\n",
        "#### Good Luck"
      ],
      "id": "9fe7273d"
    },
    {
      "cell_type": "markdown",
      "metadata": {
        "id": "3bfe0c94"
      },
      "source": [
        "# Pandas and Numpy"
      ],
      "id": "3bfe0c94"
    },
    {
      "cell_type": "markdown",
      "metadata": {
        "id": "b9c397ee"
      },
      "source": [
        "## Problem 1\n",
        "\n",
        "#### Write a NumPy program to test whether each element of a 1-D array is also present in a second array.\n",
        "#### Expected Output:\n",
        "#### Array1: [ 0 10 20 40 60]\n",
        "#### Array2: [0, 40]\n",
        "#### Compare each element of array1 and array2\n",
        "#### Output: [ True False False True False]"
      ],
      "id": "b9c397ee"
    },
    {
      "cell_type": "code",
      "execution_count": null,
      "metadata": {
        "id": "K7-g4oCUKrTY"
      },
      "outputs": [],
      "source": [
        "import numpy as np"
      ],
      "id": "K7-g4oCUKrTY"
    },
    {
      "cell_type": "code",
      "execution_count": null,
      "metadata": {
        "colab": {
          "base_uri": "https://localhost:8080/"
        },
        "id": "09271c3e",
        "outputId": "8bd5d5c4-84de-4ee0-ac06-d46efc426a37"
      },
      "outputs": [
        {
          "name": "stdout",
          "output_type": "stream",
          "text": [
            "['True', 'False', 'False', 'True', 'False']\n"
          ]
        }
      ],
      "source": [
        "### Write Your Code Here ###\n",
        "Arr1=[ 0,10, 20, 40, 60]\n",
        "Arr2=[0, 40]\n",
        "out_arr=[]\n",
        "flag='false'\n",
        "for i in range(max(len(Arr1),len(Arr2))):\n",
        "  for j in range(min(len(Arr1),len(Arr2))):\n",
        "    if(Arr1[i]==Arr2[j]):\n",
        "      flag='true'\n",
        "      break\n",
        "    else:\n",
        "      flag='false'\n",
        "  if(flag=='true'):\n",
        "      out_arr.append('True')       \n",
        "  else:\n",
        "       out_arr.append('False')  \n",
        "   \n",
        "print(out_arr)\n",
        "  "
      ],
      "id": "09271c3e"
    },
    {
      "cell_type": "markdown",
      "metadata": {
        "id": "80025289"
      },
      "source": [
        "## Problem 2\n",
        "#### Write a NumPy program to get the unique elements of an array\n",
        "#### Expected Output:\n",
        "#### Original array:\n",
        "#### [10 10 20 20 30 30]\n",
        "#### Unique elements of the above array:\n",
        "#### [10 20 30]\n",
        "#### Original array:\n",
        "#### [[1 1]\n",
        "#### [2 3]]\n",
        "#### Unique elements of the above array:\n",
        "#### [1 2 3]"
      ],
      "id": "80025289"
    },
    {
      "cell_type": "code",
      "execution_count": null,
      "metadata": {
        "colab": {
          "base_uri": "https://localhost:8080/"
        },
        "id": "e3b40f43",
        "outputId": "2ce4ba6c-173f-436a-8c5d-b923b2219593"
      },
      "outputs": [
        {
          "name": "stdout",
          "output_type": "stream",
          "text": [
            "original array\n",
            "[1 1 2 3]\n",
            "Unique elements of the above array:\n",
            "[1, 2, 3]\n",
            "original array\n",
            "[10 10 20 20 30 30]\n",
            "Unique elements of the above array:\n",
            "[10, 20, 30]\n"
          ]
        }
      ],
      "source": [
        "### Write Your Code Here ###\n",
        "arr1=np.array([[1, 1]\n",
        ",[2, 3]])\n",
        "arr2=np.array([10, 10, 20, 20, 30, 30])\n",
        "arr1=arr1.flatten()\n",
        "arr2=arr2.flatten()\n",
        "\n",
        "def unique(list1):\n",
        "  print(\"original array\")\n",
        "  print(list1)\n",
        "  # initialize a null list\n",
        "  unique_list = []   \n",
        "  # traverse for all elements\n",
        "  for x in list1:\n",
        "  # check if exists in unique_list or not\n",
        "        if x not in unique_list:\n",
        "            unique_list.append(x)\n",
        "  print(\"Unique elements of the above array:\")         \n",
        "  print(unique_list)\n",
        "\n",
        "unique(arr1)\n",
        "unique(arr2)\n",
        "\n",
        "#print(arr2)\n"
      ],
      "id": "e3b40f43"
    },
    {
      "cell_type": "markdown",
      "metadata": {
        "id": "30dfb8cb"
      },
      "source": [
        "## Problem 3\n",
        "#### Write a NumPy program to sort an along the first, last axis of an array.\n",
        "#### Sample array: [[2,5],[4,4]]\n",
        "#### Expected Output:\n",
        "#### Original array:\n",
        "#### [[4 6]\n",
        "#### [2 1]]\n",
        "#### Sort along the first axis:\n",
        "#### [[2 1]\n",
        "#### [4 6]]\n",
        "#### Sort along the last axis:\n",
        "#### [[1 2]\n",
        "#### [4 6]]"
      ],
      "id": "30dfb8cb"
    },
    {
      "cell_type": "code",
      "execution_count": null,
      "metadata": {
        "colab": {
          "base_uri": "https://localhost:8080/"
        },
        "id": "3ffbb5df",
        "outputId": "5e14b1e5-e35f-4073-be7c-30c798b6b54e"
      },
      "outputs": [
        {
          "name": "stdout",
          "output_type": "stream",
          "text": [
            "Original array: \n",
            "[[2 5]\n",
            " [4 4]]\n",
            "Sort along the first axis: \n",
            "[[2 4]\n",
            " [4 5]]\n",
            "Sort along the last axis: \n",
            "[[2 4]\n",
            " [4 5]]\n"
          ]
        }
      ],
      "source": [
        "### Write Your Code Here ###\n",
        "arr3 = np.array([[2,5],[4,4]])\n",
        "print(\"Original array: \")\n",
        "print(arr3)\n",
        "print(\"Sort along the first axis: \")\n",
        "x = np.sort(arr3, axis=0)\n",
        "print(x)\n",
        "print(\"Sort along the last axis: \")\n",
        "y = np.sort(x, axis=1)\n",
        "print(y)"
      ],
      "id": "3ffbb5df"
    },
    {
      "cell_type": "markdown",
      "metadata": {
        "id": "972e1237"
      },
      "source": [
        "## Problem 4\n",
        "#### Write a NumPy program to count the occurrence of a specified item in a given NumPy array.\n",
        "#### Sample Output:\n",
        "#### Original array:\n",
        "#### [10 20 20 20 20 0 20 30 30 30 0 0 20 20 0]\n",
        "#### [4,1,7,3]"
      ],
      "id": "972e1237"
    },
    {
      "cell_type": "code",
      "execution_count": null,
      "metadata": {
        "colab": {
          "base_uri": "https://localhost:8080/"
        },
        "id": "52243fd8",
        "outputId": "75a189ae-bebf-4cd6-a9df-52314ce71ac5"
      },
      "outputs": [
        {
          "name": "stdout",
          "output_type": "stream",
          "text": [
            "original array:\n",
            "[10 20 20 20 20  0 20 30 30 30  0  0 20 20  0]\n",
            "[4, 1, 7, 3]\n"
          ]
        }
      ],
      "source": [
        "### Write Your Code Here ###\n",
        "arr4=np.array([10, 20, 20 ,20 ,20, 0, 20, 30, 30, 30, 0, 0, 20, 20, 0])\n",
        "item=[0,10,20,30]\n",
        "list=[]\n",
        "def occurenc(org_arr,items):\n",
        "  print(\"original array:\")\n",
        "  print(org_arr)\n",
        "  for i in item:\n",
        "    count=0\n",
        "    for j in arr4:\n",
        "      if i==j:\n",
        "        count=count+1\n",
        "    list.append(count)\n",
        "  print(list)\n",
        "\n",
        "occurenc(arr4,item)\n"
      ],
      "id": "52243fd8"
    },
    {
      "cell_type": "markdown",
      "metadata": {
        "id": "95f5fcf8"
      },
      "source": [
        "## Problem 5\n",
        "#### Write a NumPy program to remove nan values from a given array.\n",
        "#### Sample Output:\n",
        "#### Original array:\n",
        "#### [200. 300. nan nan nan 700.]\n",
        "#### After removing nan values:\n",
        "#### [200. 300. 700.]"
      ],
      "id": "95f5fcf8"
    },
    {
      "cell_type": "code",
      "execution_count": null,
      "metadata": {
        "colab": {
          "base_uri": "https://localhost:8080/"
        },
        "id": "82efca10",
        "outputId": "d6caedcb-2a95-4747-a505-1c82e6280485"
      },
      "outputs": [
        {
          "name": "stdout",
          "output_type": "stream",
          "text": [
            "original array\n",
            "[200. 300.  nan  nan  nan 700.]\n",
            "after removing nan values\n",
            "[200. 300. 700.]\n"
          ]
        }
      ],
      "source": [
        "### Write Your Code Here ###\n",
        "# we can use np.nan\n",
        "arr5=np.array([200., 300. ,np.nan ,np.nan ,np.nan, 700.])\n",
        "print('original array')\n",
        "print(arr5)\n",
        "# remove nan values using numpy.isnan()\n",
        "# and numpy.logical_not\n",
        "b = arr5[np.logical_not(np.isnan(arr5))]\n",
        "print('after removing nan values')\n",
        "print(b)\n",
        "\n"
      ],
      "id": "82efca10"
    },
    {
      "cell_type": "markdown",
      "metadata": {
        "id": "d5bca96c"
      },
      "source": [
        "## Problem 6\n",
        "#### Write a NumPy program to calculate percentiles for a sequence or single-dimensional NumPy array.\n",
        "#### Sample Output:\n",
        "#### 50th percentile (median):\n",
        "#### 3.0\n",
        "#### 40th percentile:\n",
        "#### 2.6\n",
        "#### 90th percentile:\n",
        "#### 4.6"
      ],
      "id": "d5bca96c"
    },
    {
      "cell_type": "code",
      "execution_count": null,
      "metadata": {
        "id": "5eea8266"
      },
      "outputs": [],
      "source": [
        "### Write Your Code Here ###"
      ],
      "id": "5eea8266"
    },
    {
      "cell_type": "markdown",
      "metadata": {
        "id": "ed27b631"
      },
      "source": [
        "## Problem 7\n",
        "#### Write a NumPy program to find indices of elements equal to zero in a NumPy array.\n",
        "#### Sample Output:\n",
        "#### Original array:\n",
        "#### [1 0 2 0 3 0 4 5 6 7 8]\n",
        "#### Indices of elements equal to zero of the said array:\n",
        "#### [1 3 5]"
      ],
      "id": "ed27b631"
    },
    {
      "cell_type": "code",
      "execution_count": null,
      "metadata": {
        "colab": {
          "base_uri": "https://localhost:8080/"
        },
        "id": "583c546a",
        "outputId": "fe7c1dfe-7d93-4892-8a21-f345a9e54acc"
      },
      "outputs": [
        {
          "name": "stdout",
          "output_type": "stream",
          "text": [
            "[1, 3, 5]\n"
          ]
        }
      ],
      "source": [
        "### Write Your Program Here ###\n",
        "arr6=np.array([1 ,0 ,2 ,0 ,3 ,0 ,4 ,5 ,6 ,7 ,8])\n",
        "list=[]\n",
        "for i in range(len(arr6)):\n",
        "  if arr6[i]==0:\n",
        "    list.append(i)\n",
        "print(list)"
      ],
      "id": "583c546a"
    },
    {
      "cell_type": "markdown",
      "metadata": {
        "id": "eebe09b9"
      },
      "source": [
        "## Problem 8\n",
        "\n",
        "#### Write a NumPy program to round elements of the array to the nearest integer, and then calculate the abslute value element wise.\n",
        "#### Sample Output:\n",
        "#### Original array:\n",
        "#### [-0.7 -1.5 -1.7 0.3 1.5 1.8 2. ]\n",
        "#### Round elements of the array to the nearest integer:\n",
        "#### [1. 2. 2. 0. 2. 2. 2.]"
      ],
      "id": "eebe09b9"
    },
    {
      "cell_type": "code",
      "execution_count": null,
      "metadata": {
        "colab": {
          "base_uri": "https://localhost:8080/"
        },
        "id": "ce5fe6b3",
        "outputId": "20fd5df4-53ba-437d-a271-00666515003b"
      },
      "outputs": [
        {
          "name": "stdout",
          "output_type": "stream",
          "text": [
            "original array\n",
            "[-0.7, -1.5, -1.7, 0.3, 1.5, 1.8, 2.0]\n",
            "Round elements of the array to the nearest integer:\n",
            "[1, 2, 2, 0, 2, 2, 2]\n"
          ]
        }
      ],
      "source": [
        "### Write Your Program Here ###\n",
        "org_arr=np.array([-0.7,-1.5, -1.7, 0.3, 1.5, 1.8, 2. ])\n",
        "print(\"original array\")\n",
        "print([-0.7,-1.5, -1.7, 0.3, 1.5, 1.8, 2. ])\n",
        "list=[]\n",
        "\n",
        "def rounding(arr):\n",
        "  for x in arr:\n",
        "    if (abs(x) - abs(int(x))) < 0.5:\n",
        "        x= abs(int(x))\n",
        "    else:\n",
        "        x= abs(int(x)) + 1\n",
        "    list.append(x)\n",
        "\n",
        "rounding(org_arr)    \n",
        "print(\"Round elements of the array to the nearest integer:\")\n",
        "print(list)"
      ],
      "id": "ce5fe6b3"
    },
    {
      "cell_type": "markdown",
      "metadata": {
        "id": "d1ce0e7b"
      },
      "source": [
        "## Problem 9\n",
        "#### Write a NumPy program to calculate the difference between neighboring elements, element-wise, and prepend [0, 0] and append[200] to a given array.\n",
        "#### Sample output:\n",
        "#### Original array:\n",
        "#### [1 3 5 7 0]\n",
        "#### Difference between neighboring elements, element-wise, and prepend [0, 0] and append[200] to the said array:\n",
        "#### [ 0 0 2 2 2 -7 200]\n",
        "#### Note:  difference between neighboring elements means: $out[i] = a[i+1] - a[i]$"
      ],
      "id": "d1ce0e7b"
    },
    {
      "cell_type": "code",
      "execution_count": null,
      "metadata": {
        "colab": {
          "base_uri": "https://localhost:8080/"
        },
        "id": "bb6a6fa2",
        "outputId": "627c708e-2159-4da0-c608-3c121fa87613"
      },
      "outputs": [
        {
          "name": "stdout",
          "output_type": "stream",
          "text": [
            "original array\n",
            "[1 3 5 7 0]\n",
            "Difference between neighboring elements, element-wise, and prepend [0, 0] and append[200] to the said array:\n",
            "[0, 0, 2, 2, 2, -7, 200]\n"
          ]
        }
      ],
      "source": [
        "### Write Your Code Here ###\n",
        "arr=np.array([1 ,3 ,5 ,7 ,0])\n",
        "print(\"original array\")\n",
        "print(arr)\n",
        "arr2=[]\n",
        "arr2.append(0)\n",
        "arr2.append(0)\n",
        "for i in range(0,len(arr)-1):\n",
        "  arr2.append(arr[i+1]-arr[i])\n",
        "arr2.append(200)  \n",
        "print(\"Difference between neighboring elements, element-wise, and prepend [0, 0] and append[200] to the said array:\")\n",
        "print(arr2)"
      ],
      "id": "bb6a6fa2"
    },
    {
      "cell_type": "markdown",
      "metadata": {
        "id": "4f3f15ba"
      },
      "source": [
        "## Problem 10\n",
        "#### Write a NumPy program to get the indices of the sorted elements of a given array.\n",
        "#### Expected Output:\n",
        "#### Original array:\n",
        "#### [1023 5202 6230 1671 1682 5241 4532]\n",
        "#### Indices of the sorted elements of a given array:\n",
        "#### [0 3 4 6 1 5 2]"
      ],
      "id": "4f3f15ba"
    },
    {
      "cell_type": "code",
      "execution_count": null,
      "metadata": {
        "colab": {
          "base_uri": "https://localhost:8080/"
        },
        "id": "e94b4236",
        "outputId": "70395e10-1270-48be-e9e0-f8108861a09d"
      },
      "outputs": [
        {
          "name": "stdout",
          "output_type": "stream",
          "text": [
            "original array\n",
            "[1023 5202 6230 1671 1682 5241 4532]\n",
            "Indices of the sorted elements of a given array:\n",
            "[0, 3, 4, 6, 1, 5, 2]\n"
          ]
        }
      ],
      "source": [
        "### Write Your Code Here ###\n",
        "arr=np.array([1023 ,5202, 6230, 1671 ,1682 ,5241 ,4532])\n",
        "list=[0,1,2,3,4,5,6]\n",
        "\n",
        "print(\"original array\")\n",
        "print(arr)\n",
        "\n",
        "for i in range(len(arr)):\n",
        "  idxj=0\n",
        "  idxi=0\n",
        "  for j in range(i+1,len(arr)):\n",
        "    if arr[j]<arr[i]:\n",
        "      x=arr[j]\n",
        "      arr[j]=arr[i]\n",
        "      arr[i]=x\n",
        "      y=list[j]\n",
        "      list[j]=list[i]\n",
        "      list[i]=y\n",
        "      \n",
        "print(\"Indices of the sorted elements of a given array:\")  \n",
        "print(list)\n",
        "\n"
      ],
      "id": "e94b4236"
    },
    {
      "cell_type": "markdown",
      "metadata": {
        "id": "685a30dd"
      },
      "source": [
        "## Problem 11\n",
        "#### Write a NumPy program to partition a given array in a specified position and move all the smaller elements values to the left of the partition, and the remaining values to the right, in arbitrary order (based on random choice).\n",
        "#### Sample output:\n",
        "#### Original array:\n",
        "#### [ 70 50 20 30 -11 60 50 40]\n",
        "#### After partitioning on 4 the position:\n",
        "#### [-11 30 20 40 50 50 60 70]"
      ],
      "id": "685a30dd"
    },
    {
      "cell_type": "code",
      "execution_count": null,
      "metadata": {
        "colab": {
          "base_uri": "https://localhost:8080/"
        },
        "id": "27720142",
        "outputId": "821074c1-ebd2-4e15-953d-4a57304d5a24"
      },
      "outputs": [
        {
          "name": "stdout",
          "output_type": "stream",
          "text": [
            "original array\n",
            "[ 70  50  20  30 -11  60  50  40]\n",
            "After partitioning on 4 the position:\n",
            "[-11.  70.  50.  20.  30.  60.  50.  40.]\n"
          ]
        }
      ],
      "source": [
        "### Write Your Code Here ###\n",
        "import numpy as np\n",
        "arr=np.array([ 70, 50, 20, 30, -11, 60, 50 ,40])\n",
        "#arr=np.array([ 70, -85, 20, 30, -11, 60, -90 ,40]) for testing\n",
        "print(\"original array\")\n",
        "print(arr)\n",
        "part=4\n",
        "smallList=[]\n",
        "greatList=[]\n",
        "list=[]\n",
        "def partitioning(part,org_arr):\n",
        "  for i in range(len(arr)):\n",
        "    if arr[i]<arr[part]:\n",
        "      smallList.append(arr[i]) \n",
        "\n",
        "    elif arr[i]>arr[part]:\n",
        "      greatList.append(arr[i])\n",
        "     \n",
        "  smallList.append(arr[part])\n",
        "  r1 = np.ediff1d(list, to_begin=smallList, to_end=greatList)  \n",
        "  print(\"After partitioning on 4 the position:\")\n",
        "  print(r1) \n",
        "# print(smallList)\n",
        "#print(greatList) \n",
        "partitioning(part,arr)\n",
        "\n"
      ],
      "id": "27720142"
    },
    {
      "cell_type": "markdown",
      "metadata": {
        "id": "56ead3a8"
      },
      "source": [
        "## Problem 12\n",
        "#### Compute the euclidean distance between two arrays a and b.\n",
        "\n",
        "#### Input:\n",
        "#### [1,2,3,4,5]\n",
        "#### [4,5,6,7,8]\n",
        "#### Euclidean distance is: 6.7082"
      ],
      "id": "56ead3a8"
    },
    {
      "cell_type": "code",
      "execution_count": null,
      "metadata": {
        "colab": {
          "base_uri": "https://localhost:8080/"
        },
        "id": "3af6863f",
        "outputId": "2cce8612-e4fe-4efc-aca7-e3c625fe7f89"
      },
      "outputs": [
        {
          "name": "stdout",
          "output_type": "stream",
          "text": [
            "Euclidean distance is: 6.708203932499369\n",
            "Euclidean distance is: 6.708203932499369\n"
          ]
        }
      ],
      "source": [
        "### Write You Program Here ###\n",
        "from numpy.linalg import norm\n",
        "arr1=np.array([1,2,3,4,5])\n",
        "arr2=np.array([4,5,6,7,8])\n",
        "\n",
        "print(\"Euclidean distance is:\",norm(arr1-arr2))\n",
        "\n",
        "#we can use the mathematical formula\n",
        "dist = np.sqrt(np.sum(np.square(arr1-arr2)))\n",
        "print(\"Euclidean distance is:\",dist)"
      ],
      "id": "3af6863f"
    },
    {
      "cell_type": "markdown",
      "metadata": {
        "id": "65859ed2"
      },
      "source": [
        "## Problem 13\n",
        "#### Find all the peaks in a 1D numpy array a. Peaks are points surrounded by smaller values on both sides.\n",
        "\n",
        "#### Input:\n",
        "\n",
        "#### array([1, 3, 7, 1, 2, 6, 0, 1])\n",
        "\n",
        "#### Desired Output:\n",
        "\n",
        "#### array( [2, 5])\n",
        "#### where, 2 and 5 are the positions of peak values 7 and 6."
      ],
      "id": "65859ed2"
    },
    {
      "cell_type": "code",
      "execution_count": null,
      "metadata": {
        "colab": {
          "base_uri": "https://localhost:8080/"
        },
        "id": "29ba788f",
        "outputId": "092ae436-77dc-4de6-dd4c-b42616bc5204"
      },
      "outputs": [
        {
          "name": "stdout",
          "output_type": "stream",
          "text": [
            "[2, 5]\n"
          ]
        }
      ],
      "source": [
        "### Write You Program Here ###\n",
        "arr=np.array([1, 3, 7, 1, 2, 6, 0, 1])\n",
        "#arr=np.array([1, 3, 7, 1, 9, 6, 8, 1]) for testing\n",
        "list=[]\n",
        "for i in range(1,len(arr)-1):\n",
        "  if arr[i]>arr[i-1] and arr[i]>arr[i+1]:\n",
        "    list.append(i)\n",
        "print(list)"
      ],
      "id": "29ba788f"
    },
    {
      "cell_type": "markdown",
      "metadata": {
        "id": "cb5de21c"
      },
      "source": [
        "## Problem 14\n",
        "#### Find the index of nth repetition of number i .\n",
        "#### Inputs\n",
        "#### array([1, 2, 1, 1, 3, 4, 3, 1, 1, 2, 1, 1, 2])\n",
        "#### n = 5 (from user)\n",
        "#### i = 1 (from user)\n",
        "#### Output\n",
        "#### 8"
      ],
      "id": "cb5de21c"
    },
    {
      "cell_type": "code",
      "execution_count": null,
      "metadata": {
        "colab": {
          "base_uri": "https://localhost:8080/"
        },
        "id": "d9334d6c",
        "outputId": "a4187bc9-d0d7-4fb5-83a5-05d370cd6565"
      },
      "outputs": [
        {
          "name": "stdout",
          "output_type": "stream",
          "text": [
            "8\n"
          ]
        }
      ],
      "source": [
        "### Write Your Code Here ###\n",
        "arr=np.array([1, 2, 1, 1, 3, 4, 3, 1, 1, 2, 1, 1, 2])\n",
        "n=5\n",
        "i=1\n",
        "def repetition_index(n,i,arr):\n",
        "  counter=0\n",
        "  for j in range(len(arr)):\n",
        "    if counter<n:\n",
        "      if arr[j]==i:\n",
        "        counter=counter+1\n",
        "        if  counter==n:\n",
        "          idx=j\n",
        "          print(idx)\n",
        "    if j==len(arr)-1 and counter !=n:\n",
        "      print(\"there is no nth repetion for this number\")   # for handling more cases\n",
        "\n",
        "\n",
        "repetition_index(n,i,arr)\n",
        "\n"
      ],
      "id": "d9334d6c"
    },
    {
      "cell_type": "markdown",
      "metadata": {
        "id": "93888fd4"
      },
      "source": [
        "## Problem 15\n",
        "### In order to solve this set of questions you will use the dataset in the relative directory ./Datasets/tmdb_5000_movies.csv\n"
      ],
      "id": "93888fd4"
    },
    {
      "cell_type": "markdown",
      "metadata": {
        "id": "oX94brCIdyEx"
      },
      "source": [
        "**Open Your CSV file and print the first 10 rows in a good format**"
      ],
      "id": "oX94brCIdyEx"
    },
    {
      "cell_type": "code",
      "execution_count": 4,
      "metadata": {
        "colab": {
          "base_uri": "https://localhost:8080/",
          "height": 1000
        },
        "id": "d5b09cac",
        "outputId": "7705bcd2-fd4f-4e7b-bb02-831425a48393"
      },
      "outputs": [
        {
          "output_type": "execute_result",
          "data": {
            "text/plain": [
              "      budget                                             genres  \\\n",
              "0  237000000  [{\"id\": 28, \"name\": \"Action\"}, {\"id\": 12, \"nam...   \n",
              "1  300000000  [{\"id\": 12, \"name\": \"Adventure\"}, {\"id\": 14, \"...   \n",
              "2  245000000  [{\"id\": 28, \"name\": \"Action\"}, {\"id\": 12, \"nam...   \n",
              "3  250000000  [{\"id\": 28, \"name\": \"Action\"}, {\"id\": 80, \"nam...   \n",
              "4  260000000  [{\"id\": 28, \"name\": \"Action\"}, {\"id\": 12, \"nam...   \n",
              "5  258000000  [{\"id\": 14, \"name\": \"Fantasy\"}, {\"id\": 28, \"na...   \n",
              "6  260000000  [{\"id\": 16, \"name\": \"Animation\"}, {\"id\": 10751...   \n",
              "7  280000000  [{\"id\": 28, \"name\": \"Action\"}, {\"id\": 12, \"nam...   \n",
              "8  250000000  [{\"id\": 12, \"name\": \"Adventure\"}, {\"id\": 14, \"...   \n",
              "9  250000000  [{\"id\": 28, \"name\": \"Action\"}, {\"id\": 12, \"nam...   \n",
              "\n",
              "                                            homepage      id  \\\n",
              "0                        http://www.avatarmovie.com/   19995   \n",
              "1       http://disney.go.com/disneypictures/pirates/     285   \n",
              "2        http://www.sonypictures.com/movies/spectre/  206647   \n",
              "3                 http://www.thedarkknightrises.com/   49026   \n",
              "4               http://movies.disney.com/john-carter   49529   \n",
              "5    http://www.sonypictures.com/movies/spider-man3/     559   \n",
              "6       http://disney.go.com/disneypictures/tangled/   38757   \n",
              "7  http://marvel.com/movies/movie/193/avengers_ag...   99861   \n",
              "8  http://harrypotter.warnerbros.com/harrypottera...     767   \n",
              "9       http://www.batmanvsupermandawnofjustice.com/  209112   \n",
              "\n",
              "                                            keywords original_language  \\\n",
              "0  [{\"id\": 1463, \"name\": \"culture clash\"}, {\"id\":...                en   \n",
              "1  [{\"id\": 270, \"name\": \"ocean\"}, {\"id\": 726, \"na...                en   \n",
              "2  [{\"id\": 470, \"name\": \"spy\"}, {\"id\": 818, \"name...                en   \n",
              "3  [{\"id\": 849, \"name\": \"dc comics\"}, {\"id\": 853,...                en   \n",
              "4  [{\"id\": 818, \"name\": \"based on novel\"}, {\"id\":...                en   \n",
              "5  [{\"id\": 851, \"name\": \"dual identity\"}, {\"id\": ...                en   \n",
              "6  [{\"id\": 1562, \"name\": \"hostage\"}, {\"id\": 2343,...                en   \n",
              "7  [{\"id\": 8828, \"name\": \"marvel comic\"}, {\"id\": ...                en   \n",
              "8  [{\"id\": 616, \"name\": \"witch\"}, {\"id\": 2343, \"n...                en   \n",
              "9  [{\"id\": 849, \"name\": \"dc comics\"}, {\"id\": 7002...                en   \n",
              "\n",
              "                             original_title  \\\n",
              "0                                    Avatar   \n",
              "1  Pirates of the Caribbean: At World's End   \n",
              "2                                   Spectre   \n",
              "3                     The Dark Knight Rises   \n",
              "4                               John Carter   \n",
              "5                              Spider-Man 3   \n",
              "6                                   Tangled   \n",
              "7                   Avengers: Age of Ultron   \n",
              "8    Harry Potter and the Half-Blood Prince   \n",
              "9        Batman v Superman: Dawn of Justice   \n",
              "\n",
              "                                            overview  popularity  \\\n",
              "0  In the 22nd century, a paraplegic Marine is di...  150.437577   \n",
              "1  Captain Barbossa, long believed to be dead, ha...  139.082615   \n",
              "2  A cryptic message from Bond’s past sends him o...  107.376788   \n",
              "3  Following the death of District Attorney Harve...  112.312950   \n",
              "4  John Carter is a war-weary, former military ca...   43.926995   \n",
              "5  The seemingly invincible Spider-Man goes up ag...  115.699814   \n",
              "6  When the kingdom's most wanted-and most charmi...   48.681969   \n",
              "7  When Tony Stark tries to jumpstart a dormant p...  134.279229   \n",
              "8  As Harry begins his sixth year at Hogwarts, he...   98.885637   \n",
              "9  Fearing the actions of a god-like Super Hero l...  155.790452   \n",
              "\n",
              "                                production_companies  \\\n",
              "0  [{\"name\": \"Ingenious Film Partners\", \"id\": 289...   \n",
              "1  [{\"name\": \"Walt Disney Pictures\", \"id\": 2}, {\"...   \n",
              "2  [{\"name\": \"Columbia Pictures\", \"id\": 5}, {\"nam...   \n",
              "3  [{\"name\": \"Legendary Pictures\", \"id\": 923}, {\"...   \n",
              "4        [{\"name\": \"Walt Disney Pictures\", \"id\": 2}]   \n",
              "5  [{\"name\": \"Columbia Pictures\", \"id\": 5}, {\"nam...   \n",
              "6  [{\"name\": \"Walt Disney Pictures\", \"id\": 2}, {\"...   \n",
              "7  [{\"name\": \"Marvel Studios\", \"id\": 420}, {\"name...   \n",
              "8  [{\"name\": \"Warner Bros.\", \"id\": 6194}, {\"name\"...   \n",
              "9  [{\"name\": \"DC Comics\", \"id\": 429}, {\"name\": \"A...   \n",
              "\n",
              "                                production_countries release_date     revenue  \\\n",
              "0  [{\"iso_3166_1\": \"US\", \"name\": \"United States o...   2009-12-10  2787965087   \n",
              "1  [{\"iso_3166_1\": \"US\", \"name\": \"United States o...   2007-05-19   961000000   \n",
              "2  [{\"iso_3166_1\": \"GB\", \"name\": \"United Kingdom\"...   2015-10-26   880674609   \n",
              "3  [{\"iso_3166_1\": \"US\", \"name\": \"United States o...   2012-07-16  1084939099   \n",
              "4  [{\"iso_3166_1\": \"US\", \"name\": \"United States o...   2012-03-07   284139100   \n",
              "5  [{\"iso_3166_1\": \"US\", \"name\": \"United States o...   2007-05-01   890871626   \n",
              "6  [{\"iso_3166_1\": \"US\", \"name\": \"United States o...   2010-11-24   591794936   \n",
              "7  [{\"iso_3166_1\": \"US\", \"name\": \"United States o...   2015-04-22  1405403694   \n",
              "8  [{\"iso_3166_1\": \"GB\", \"name\": \"United Kingdom\"...   2009-07-07   933959197   \n",
              "9  [{\"iso_3166_1\": \"US\", \"name\": \"United States o...   2016-03-23   873260194   \n",
              "\n",
              "   runtime                                   spoken_languages    status  \\\n",
              "0    162.0  [{\"iso_639_1\": \"en\", \"name\": \"English\"}, {\"iso...  Released   \n",
              "1    169.0           [{\"iso_639_1\": \"en\", \"name\": \"English\"}]  Released   \n",
              "2    148.0  [{\"iso_639_1\": \"fr\", \"name\": \"Fran\\u00e7ais\"},...  Released   \n",
              "3    165.0           [{\"iso_639_1\": \"en\", \"name\": \"English\"}]  Released   \n",
              "4    132.0           [{\"iso_639_1\": \"en\", \"name\": \"English\"}]  Released   \n",
              "5    139.0  [{\"iso_639_1\": \"en\", \"name\": \"English\"}, {\"iso...  Released   \n",
              "6    100.0           [{\"iso_639_1\": \"en\", \"name\": \"English\"}]  Released   \n",
              "7    141.0           [{\"iso_639_1\": \"en\", \"name\": \"English\"}]  Released   \n",
              "8    153.0           [{\"iso_639_1\": \"en\", \"name\": \"English\"}]  Released   \n",
              "9    151.0           [{\"iso_639_1\": \"en\", \"name\": \"English\"}]  Released   \n",
              "\n",
              "                                          tagline  \\\n",
              "0                     Enter the World of Pandora.   \n",
              "1  At the end of the world, the adventure begins.   \n",
              "2                           A Plan No One Escapes   \n",
              "3                                 The Legend Ends   \n",
              "4            Lost in our world, found in another.   \n",
              "5                              The battle within.   \n",
              "6        They're taking adventure to new lengths.   \n",
              "7                             A New Age Has Come.   \n",
              "8                           Dark Secrets Revealed   \n",
              "9                              Justice or revenge   \n",
              "\n",
              "                                      title  vote_average  vote_count  \n",
              "0                                    Avatar           7.2       11800  \n",
              "1  Pirates of the Caribbean: At World's End           6.9        4500  \n",
              "2                                   Spectre           6.3        4466  \n",
              "3                     The Dark Knight Rises           7.6        9106  \n",
              "4                               John Carter           6.1        2124  \n",
              "5                              Spider-Man 3           5.9        3576  \n",
              "6                                   Tangled           7.4        3330  \n",
              "7                   Avengers: Age of Ultron           7.3        6767  \n",
              "8    Harry Potter and the Half-Blood Prince           7.4        5293  \n",
              "9        Batman v Superman: Dawn of Justice           5.7        7004  "
            ],
            "text/html": [
              "\n",
              "  <div id=\"df-950a8236-9f7c-43b5-96a7-1e2bd1723f4d\">\n",
              "    <div class=\"colab-df-container\">\n",
              "      <div>\n",
              "<style scoped>\n",
              "    .dataframe tbody tr th:only-of-type {\n",
              "        vertical-align: middle;\n",
              "    }\n",
              "\n",
              "    .dataframe tbody tr th {\n",
              "        vertical-align: top;\n",
              "    }\n",
              "\n",
              "    .dataframe thead th {\n",
              "        text-align: right;\n",
              "    }\n",
              "</style>\n",
              "<table border=\"1\" class=\"dataframe\">\n",
              "  <thead>\n",
              "    <tr style=\"text-align: right;\">\n",
              "      <th></th>\n",
              "      <th>budget</th>\n",
              "      <th>genres</th>\n",
              "      <th>homepage</th>\n",
              "      <th>id</th>\n",
              "      <th>keywords</th>\n",
              "      <th>original_language</th>\n",
              "      <th>original_title</th>\n",
              "      <th>overview</th>\n",
              "      <th>popularity</th>\n",
              "      <th>production_companies</th>\n",
              "      <th>production_countries</th>\n",
              "      <th>release_date</th>\n",
              "      <th>revenue</th>\n",
              "      <th>runtime</th>\n",
              "      <th>spoken_languages</th>\n",
              "      <th>status</th>\n",
              "      <th>tagline</th>\n",
              "      <th>title</th>\n",
              "      <th>vote_average</th>\n",
              "      <th>vote_count</th>\n",
              "    </tr>\n",
              "  </thead>\n",
              "  <tbody>\n",
              "    <tr>\n",
              "      <th>0</th>\n",
              "      <td>237000000</td>\n",
              "      <td>[{\"id\": 28, \"name\": \"Action\"}, {\"id\": 12, \"nam...</td>\n",
              "      <td>http://www.avatarmovie.com/</td>\n",
              "      <td>19995</td>\n",
              "      <td>[{\"id\": 1463, \"name\": \"culture clash\"}, {\"id\":...</td>\n",
              "      <td>en</td>\n",
              "      <td>Avatar</td>\n",
              "      <td>In the 22nd century, a paraplegic Marine is di...</td>\n",
              "      <td>150.437577</td>\n",
              "      <td>[{\"name\": \"Ingenious Film Partners\", \"id\": 289...</td>\n",
              "      <td>[{\"iso_3166_1\": \"US\", \"name\": \"United States o...</td>\n",
              "      <td>2009-12-10</td>\n",
              "      <td>2787965087</td>\n",
              "      <td>162.0</td>\n",
              "      <td>[{\"iso_639_1\": \"en\", \"name\": \"English\"}, {\"iso...</td>\n",
              "      <td>Released</td>\n",
              "      <td>Enter the World of Pandora.</td>\n",
              "      <td>Avatar</td>\n",
              "      <td>7.2</td>\n",
              "      <td>11800</td>\n",
              "    </tr>\n",
              "    <tr>\n",
              "      <th>1</th>\n",
              "      <td>300000000</td>\n",
              "      <td>[{\"id\": 12, \"name\": \"Adventure\"}, {\"id\": 14, \"...</td>\n",
              "      <td>http://disney.go.com/disneypictures/pirates/</td>\n",
              "      <td>285</td>\n",
              "      <td>[{\"id\": 270, \"name\": \"ocean\"}, {\"id\": 726, \"na...</td>\n",
              "      <td>en</td>\n",
              "      <td>Pirates of the Caribbean: At World's End</td>\n",
              "      <td>Captain Barbossa, long believed to be dead, ha...</td>\n",
              "      <td>139.082615</td>\n",
              "      <td>[{\"name\": \"Walt Disney Pictures\", \"id\": 2}, {\"...</td>\n",
              "      <td>[{\"iso_3166_1\": \"US\", \"name\": \"United States o...</td>\n",
              "      <td>2007-05-19</td>\n",
              "      <td>961000000</td>\n",
              "      <td>169.0</td>\n",
              "      <td>[{\"iso_639_1\": \"en\", \"name\": \"English\"}]</td>\n",
              "      <td>Released</td>\n",
              "      <td>At the end of the world, the adventure begins.</td>\n",
              "      <td>Pirates of the Caribbean: At World's End</td>\n",
              "      <td>6.9</td>\n",
              "      <td>4500</td>\n",
              "    </tr>\n",
              "    <tr>\n",
              "      <th>2</th>\n",
              "      <td>245000000</td>\n",
              "      <td>[{\"id\": 28, \"name\": \"Action\"}, {\"id\": 12, \"nam...</td>\n",
              "      <td>http://www.sonypictures.com/movies/spectre/</td>\n",
              "      <td>206647</td>\n",
              "      <td>[{\"id\": 470, \"name\": \"spy\"}, {\"id\": 818, \"name...</td>\n",
              "      <td>en</td>\n",
              "      <td>Spectre</td>\n",
              "      <td>A cryptic message from Bond’s past sends him o...</td>\n",
              "      <td>107.376788</td>\n",
              "      <td>[{\"name\": \"Columbia Pictures\", \"id\": 5}, {\"nam...</td>\n",
              "      <td>[{\"iso_3166_1\": \"GB\", \"name\": \"United Kingdom\"...</td>\n",
              "      <td>2015-10-26</td>\n",
              "      <td>880674609</td>\n",
              "      <td>148.0</td>\n",
              "      <td>[{\"iso_639_1\": \"fr\", \"name\": \"Fran\\u00e7ais\"},...</td>\n",
              "      <td>Released</td>\n",
              "      <td>A Plan No One Escapes</td>\n",
              "      <td>Spectre</td>\n",
              "      <td>6.3</td>\n",
              "      <td>4466</td>\n",
              "    </tr>\n",
              "    <tr>\n",
              "      <th>3</th>\n",
              "      <td>250000000</td>\n",
              "      <td>[{\"id\": 28, \"name\": \"Action\"}, {\"id\": 80, \"nam...</td>\n",
              "      <td>http://www.thedarkknightrises.com/</td>\n",
              "      <td>49026</td>\n",
              "      <td>[{\"id\": 849, \"name\": \"dc comics\"}, {\"id\": 853,...</td>\n",
              "      <td>en</td>\n",
              "      <td>The Dark Knight Rises</td>\n",
              "      <td>Following the death of District Attorney Harve...</td>\n",
              "      <td>112.312950</td>\n",
              "      <td>[{\"name\": \"Legendary Pictures\", \"id\": 923}, {\"...</td>\n",
              "      <td>[{\"iso_3166_1\": \"US\", \"name\": \"United States o...</td>\n",
              "      <td>2012-07-16</td>\n",
              "      <td>1084939099</td>\n",
              "      <td>165.0</td>\n",
              "      <td>[{\"iso_639_1\": \"en\", \"name\": \"English\"}]</td>\n",
              "      <td>Released</td>\n",
              "      <td>The Legend Ends</td>\n",
              "      <td>The Dark Knight Rises</td>\n",
              "      <td>7.6</td>\n",
              "      <td>9106</td>\n",
              "    </tr>\n",
              "    <tr>\n",
              "      <th>4</th>\n",
              "      <td>260000000</td>\n",
              "      <td>[{\"id\": 28, \"name\": \"Action\"}, {\"id\": 12, \"nam...</td>\n",
              "      <td>http://movies.disney.com/john-carter</td>\n",
              "      <td>49529</td>\n",
              "      <td>[{\"id\": 818, \"name\": \"based on novel\"}, {\"id\":...</td>\n",
              "      <td>en</td>\n",
              "      <td>John Carter</td>\n",
              "      <td>John Carter is a war-weary, former military ca...</td>\n",
              "      <td>43.926995</td>\n",
              "      <td>[{\"name\": \"Walt Disney Pictures\", \"id\": 2}]</td>\n",
              "      <td>[{\"iso_3166_1\": \"US\", \"name\": \"United States o...</td>\n",
              "      <td>2012-03-07</td>\n",
              "      <td>284139100</td>\n",
              "      <td>132.0</td>\n",
              "      <td>[{\"iso_639_1\": \"en\", \"name\": \"English\"}]</td>\n",
              "      <td>Released</td>\n",
              "      <td>Lost in our world, found in another.</td>\n",
              "      <td>John Carter</td>\n",
              "      <td>6.1</td>\n",
              "      <td>2124</td>\n",
              "    </tr>\n",
              "    <tr>\n",
              "      <th>5</th>\n",
              "      <td>258000000</td>\n",
              "      <td>[{\"id\": 14, \"name\": \"Fantasy\"}, {\"id\": 28, \"na...</td>\n",
              "      <td>http://www.sonypictures.com/movies/spider-man3/</td>\n",
              "      <td>559</td>\n",
              "      <td>[{\"id\": 851, \"name\": \"dual identity\"}, {\"id\": ...</td>\n",
              "      <td>en</td>\n",
              "      <td>Spider-Man 3</td>\n",
              "      <td>The seemingly invincible Spider-Man goes up ag...</td>\n",
              "      <td>115.699814</td>\n",
              "      <td>[{\"name\": \"Columbia Pictures\", \"id\": 5}, {\"nam...</td>\n",
              "      <td>[{\"iso_3166_1\": \"US\", \"name\": \"United States o...</td>\n",
              "      <td>2007-05-01</td>\n",
              "      <td>890871626</td>\n",
              "      <td>139.0</td>\n",
              "      <td>[{\"iso_639_1\": \"en\", \"name\": \"English\"}, {\"iso...</td>\n",
              "      <td>Released</td>\n",
              "      <td>The battle within.</td>\n",
              "      <td>Spider-Man 3</td>\n",
              "      <td>5.9</td>\n",
              "      <td>3576</td>\n",
              "    </tr>\n",
              "    <tr>\n",
              "      <th>6</th>\n",
              "      <td>260000000</td>\n",
              "      <td>[{\"id\": 16, \"name\": \"Animation\"}, {\"id\": 10751...</td>\n",
              "      <td>http://disney.go.com/disneypictures/tangled/</td>\n",
              "      <td>38757</td>\n",
              "      <td>[{\"id\": 1562, \"name\": \"hostage\"}, {\"id\": 2343,...</td>\n",
              "      <td>en</td>\n",
              "      <td>Tangled</td>\n",
              "      <td>When the kingdom's most wanted-and most charmi...</td>\n",
              "      <td>48.681969</td>\n",
              "      <td>[{\"name\": \"Walt Disney Pictures\", \"id\": 2}, {\"...</td>\n",
              "      <td>[{\"iso_3166_1\": \"US\", \"name\": \"United States o...</td>\n",
              "      <td>2010-11-24</td>\n",
              "      <td>591794936</td>\n",
              "      <td>100.0</td>\n",
              "      <td>[{\"iso_639_1\": \"en\", \"name\": \"English\"}]</td>\n",
              "      <td>Released</td>\n",
              "      <td>They're taking adventure to new lengths.</td>\n",
              "      <td>Tangled</td>\n",
              "      <td>7.4</td>\n",
              "      <td>3330</td>\n",
              "    </tr>\n",
              "    <tr>\n",
              "      <th>7</th>\n",
              "      <td>280000000</td>\n",
              "      <td>[{\"id\": 28, \"name\": \"Action\"}, {\"id\": 12, \"nam...</td>\n",
              "      <td>http://marvel.com/movies/movie/193/avengers_ag...</td>\n",
              "      <td>99861</td>\n",
              "      <td>[{\"id\": 8828, \"name\": \"marvel comic\"}, {\"id\": ...</td>\n",
              "      <td>en</td>\n",
              "      <td>Avengers: Age of Ultron</td>\n",
              "      <td>When Tony Stark tries to jumpstart a dormant p...</td>\n",
              "      <td>134.279229</td>\n",
              "      <td>[{\"name\": \"Marvel Studios\", \"id\": 420}, {\"name...</td>\n",
              "      <td>[{\"iso_3166_1\": \"US\", \"name\": \"United States o...</td>\n",
              "      <td>2015-04-22</td>\n",
              "      <td>1405403694</td>\n",
              "      <td>141.0</td>\n",
              "      <td>[{\"iso_639_1\": \"en\", \"name\": \"English\"}]</td>\n",
              "      <td>Released</td>\n",
              "      <td>A New Age Has Come.</td>\n",
              "      <td>Avengers: Age of Ultron</td>\n",
              "      <td>7.3</td>\n",
              "      <td>6767</td>\n",
              "    </tr>\n",
              "    <tr>\n",
              "      <th>8</th>\n",
              "      <td>250000000</td>\n",
              "      <td>[{\"id\": 12, \"name\": \"Adventure\"}, {\"id\": 14, \"...</td>\n",
              "      <td>http://harrypotter.warnerbros.com/harrypottera...</td>\n",
              "      <td>767</td>\n",
              "      <td>[{\"id\": 616, \"name\": \"witch\"}, {\"id\": 2343, \"n...</td>\n",
              "      <td>en</td>\n",
              "      <td>Harry Potter and the Half-Blood Prince</td>\n",
              "      <td>As Harry begins his sixth year at Hogwarts, he...</td>\n",
              "      <td>98.885637</td>\n",
              "      <td>[{\"name\": \"Warner Bros.\", \"id\": 6194}, {\"name\"...</td>\n",
              "      <td>[{\"iso_3166_1\": \"GB\", \"name\": \"United Kingdom\"...</td>\n",
              "      <td>2009-07-07</td>\n",
              "      <td>933959197</td>\n",
              "      <td>153.0</td>\n",
              "      <td>[{\"iso_639_1\": \"en\", \"name\": \"English\"}]</td>\n",
              "      <td>Released</td>\n",
              "      <td>Dark Secrets Revealed</td>\n",
              "      <td>Harry Potter and the Half-Blood Prince</td>\n",
              "      <td>7.4</td>\n",
              "      <td>5293</td>\n",
              "    </tr>\n",
              "    <tr>\n",
              "      <th>9</th>\n",
              "      <td>250000000</td>\n",
              "      <td>[{\"id\": 28, \"name\": \"Action\"}, {\"id\": 12, \"nam...</td>\n",
              "      <td>http://www.batmanvsupermandawnofjustice.com/</td>\n",
              "      <td>209112</td>\n",
              "      <td>[{\"id\": 849, \"name\": \"dc comics\"}, {\"id\": 7002...</td>\n",
              "      <td>en</td>\n",
              "      <td>Batman v Superman: Dawn of Justice</td>\n",
              "      <td>Fearing the actions of a god-like Super Hero l...</td>\n",
              "      <td>155.790452</td>\n",
              "      <td>[{\"name\": \"DC Comics\", \"id\": 429}, {\"name\": \"A...</td>\n",
              "      <td>[{\"iso_3166_1\": \"US\", \"name\": \"United States o...</td>\n",
              "      <td>2016-03-23</td>\n",
              "      <td>873260194</td>\n",
              "      <td>151.0</td>\n",
              "      <td>[{\"iso_639_1\": \"en\", \"name\": \"English\"}]</td>\n",
              "      <td>Released</td>\n",
              "      <td>Justice or revenge</td>\n",
              "      <td>Batman v Superman: Dawn of Justice</td>\n",
              "      <td>5.7</td>\n",
              "      <td>7004</td>\n",
              "    </tr>\n",
              "  </tbody>\n",
              "</table>\n",
              "</div>\n",
              "      <button class=\"colab-df-convert\" onclick=\"convertToInteractive('df-950a8236-9f7c-43b5-96a7-1e2bd1723f4d')\"\n",
              "              title=\"Convert this dataframe to an interactive table.\"\n",
              "              style=\"display:none;\">\n",
              "        \n",
              "  <svg xmlns=\"http://www.w3.org/2000/svg\" height=\"24px\"viewBox=\"0 0 24 24\"\n",
              "       width=\"24px\">\n",
              "    <path d=\"M0 0h24v24H0V0z\" fill=\"none\"/>\n",
              "    <path d=\"M18.56 5.44l.94 2.06.94-2.06 2.06-.94-2.06-.94-.94-2.06-.94 2.06-2.06.94zm-11 1L8.5 8.5l.94-2.06 2.06-.94-2.06-.94L8.5 2.5l-.94 2.06-2.06.94zm10 10l.94 2.06.94-2.06 2.06-.94-2.06-.94-.94-2.06-.94 2.06-2.06.94z\"/><path d=\"M17.41 7.96l-1.37-1.37c-.4-.4-.92-.59-1.43-.59-.52 0-1.04.2-1.43.59L10.3 9.45l-7.72 7.72c-.78.78-.78 2.05 0 2.83L4 21.41c.39.39.9.59 1.41.59.51 0 1.02-.2 1.41-.59l7.78-7.78 2.81-2.81c.8-.78.8-2.07 0-2.86zM5.41 20L4 18.59l7.72-7.72 1.47 1.35L5.41 20z\"/>\n",
              "  </svg>\n",
              "      </button>\n",
              "      \n",
              "  <style>\n",
              "    .colab-df-container {\n",
              "      display:flex;\n",
              "      flex-wrap:wrap;\n",
              "      gap: 12px;\n",
              "    }\n",
              "\n",
              "    .colab-df-convert {\n",
              "      background-color: #E8F0FE;\n",
              "      border: none;\n",
              "      border-radius: 50%;\n",
              "      cursor: pointer;\n",
              "      display: none;\n",
              "      fill: #1967D2;\n",
              "      height: 32px;\n",
              "      padding: 0 0 0 0;\n",
              "      width: 32px;\n",
              "    }\n",
              "\n",
              "    .colab-df-convert:hover {\n",
              "      background-color: #E2EBFA;\n",
              "      box-shadow: 0px 1px 2px rgba(60, 64, 67, 0.3), 0px 1px 3px 1px rgba(60, 64, 67, 0.15);\n",
              "      fill: #174EA6;\n",
              "    }\n",
              "\n",
              "    [theme=dark] .colab-df-convert {\n",
              "      background-color: #3B4455;\n",
              "      fill: #D2E3FC;\n",
              "    }\n",
              "\n",
              "    [theme=dark] .colab-df-convert:hover {\n",
              "      background-color: #434B5C;\n",
              "      box-shadow: 0px 1px 3px 1px rgba(0, 0, 0, 0.15);\n",
              "      filter: drop-shadow(0px 1px 2px rgba(0, 0, 0, 0.3));\n",
              "      fill: #FFFFFF;\n",
              "    }\n",
              "  </style>\n",
              "\n",
              "      <script>\n",
              "        const buttonEl =\n",
              "          document.querySelector('#df-950a8236-9f7c-43b5-96a7-1e2bd1723f4d button.colab-df-convert');\n",
              "        buttonEl.style.display =\n",
              "          google.colab.kernel.accessAllowed ? 'block' : 'none';\n",
              "\n",
              "        async function convertToInteractive(key) {\n",
              "          const element = document.querySelector('#df-950a8236-9f7c-43b5-96a7-1e2bd1723f4d');\n",
              "          const dataTable =\n",
              "            await google.colab.kernel.invokeFunction('convertToInteractive',\n",
              "                                                     [key], {});\n",
              "          if (!dataTable) return;\n",
              "\n",
              "          const docLinkHtml = 'Like what you see? Visit the ' +\n",
              "            '<a target=\"_blank\" href=https://colab.research.google.com/notebooks/data_table.ipynb>data table notebook</a>'\n",
              "            + ' to learn more about interactive tables.';\n",
              "          element.innerHTML = '';\n",
              "          dataTable['output_type'] = 'display_data';\n",
              "          await google.colab.output.renderOutput(dataTable, element);\n",
              "          const docLink = document.createElement('div');\n",
              "          docLink.innerHTML = docLinkHtml;\n",
              "          element.appendChild(docLink);\n",
              "        }\n",
              "      </script>\n",
              "    </div>\n",
              "  </div>\n",
              "  "
            ]
          },
          "metadata": {},
          "execution_count": 4
        }
      ],
      "source": [
        "### Open Your CSV file and print the first 10 rows in a good format ###\n",
        "# importing the important libraries\n",
        "import numpy as np\n",
        "import pandas as pd\n",
        "import matplotlib.pyplot as plt\n",
        "import seaborn as sns\n",
        "sns.set_style('darkgrid')\n",
        "%matplotlib inline\n",
        "\n",
        "# Load data \n",
        "file_path = \"/content/tmdb_5000_movies.csv\"\n",
        "df = pd.read_csv(file_path)\n",
        "#and print out (first 10 rows).\n",
        "df.head(10)\n"
      ],
      "id": "d5b09cac"
    },
    {
      "cell_type": "markdown",
      "metadata": {
        "id": "0X87eClHdmHI"
      },
      "source": [
        "**Check if any NANs in your dataset and fill them with a good filer**\n"
      ],
      "id": "0X87eClHdmHI"
    },
    {
      "cell_type": "code",
      "execution_count": 5,
      "metadata": {
        "colab": {
          "base_uri": "https://localhost:8080/"
        },
        "id": "fee35922",
        "outputId": "c4bffc6b-883f-40fc-f96b-d8cc1707e36c"
      },
      "outputs": [
        {
          "output_type": "stream",
          "name": "stdout",
          "text": [
            "True\n",
            "budget                     0\n",
            "genres                     0\n",
            "homepage                3091\n",
            "id                         0\n",
            "keywords                   0\n",
            "original_language          0\n",
            "original_title             0\n",
            "overview                   3\n",
            "popularity                 0\n",
            "production_companies       0\n",
            "production_countries       0\n",
            "release_date               1\n",
            "revenue                    0\n",
            "runtime                    2\n",
            "spoken_languages           0\n",
            "status                     0\n",
            "tagline                  844\n",
            "title                      0\n",
            "vote_average               0\n",
            "vote_count                 0\n",
            "dtype: int64\n"
          ]
        }
      ],
      "source": [
        "#to show all nans in dataset\n",
        "#print(df.isnull())\n",
        "#to tell you if there is any nan vlaues any dataset or no\n",
        "print(df.isnull().values.any())\n",
        "# a list of all nans summations of each column\n",
        "print(df.isnull().sum())"
      ],
      "id": "fee35922"
    },
    {
      "cell_type": "code",
      "execution_count": 6,
      "metadata": {
        "colab": {
          "base_uri": "https://localhost:8080/"
        },
        "id": "DLnqHruw-nD9",
        "outputId": "fcbcd757-9054-49ca-b898-5961e9a14e7b"
      },
      "outputs": [
        {
          "output_type": "stream",
          "name": "stdout",
          "text": [
            "(4803, 20)\n",
            "homepage        3091\n",
            "tagline          844\n",
            "overview           3\n",
            "runtime            2\n",
            "release_date       1\n",
            "dtype: int64\n",
            "precentage of num of nan val in homepage column 64.35561107641058\n",
            "(4803, 19)\n"
          ]
        },
        {
          "output_type": "stream",
          "name": "stderr",
          "text": [
            "/usr/local/lib/python3.7/dist-packages/ipykernel_launcher.py:18: FutureWarning: In a future version of pandas all arguments of DataFrame.drop except for the argument 'labels' will be keyword-only\n"
          ]
        }
      ],
      "source": [
        "#the shape of dataframe before removing colums with num of nan values >50% \n",
        "print(df.shape)\n",
        "#make a copy\n",
        "df_clean = df.copy()\n",
        "#show the first 5 colums which have largest values of nan values\n",
        "print(df_clean.isnull().sum().nlargest(5))\n",
        "\n",
        "df_shape=df_clean.shape\n",
        "\n",
        "#home page has num of nan values more than 50%\n",
        "print(\"precentage of num of nan val in homepage column\",df['homepage'].isnull().sum()*100.0/df_shape[0])\n",
        "\n",
        "column_with_nan = df_clean.columns[df.isnull().any()]\n",
        "\n",
        "# 1--so i will remove columns with num of nan values more than 50%\n",
        "for column in column_with_nan:\n",
        "   if df[column].isnull().sum()*100.0/df_shape[0] >= 50:\n",
        "             df_clean.drop(column,1, inplace=True) \n",
        "#the shape of dataframe after removing colums with num of nan values >50% \n",
        "print(df_clean.shape)\n"
      ],
      "id": "DLnqHruw-nD9"
    },
    {
      "cell_type": "code",
      "execution_count": 7,
      "metadata": {
        "colab": {
          "base_uri": "https://localhost:8080/"
        },
        "id": "6AXPpSNQF_pC",
        "outputId": "a545158d-aa74-4bb5-b17f-e6f4e9fbf1f0"
      },
      "outputs": [
        {
          "output_type": "stream",
          "name": "stdout",
          "text": [
            "tagline         844\n",
            "overview          3\n",
            "runtime           2\n",
            "release_date      1\n",
            "budget            0\n",
            "dtype: int64\n",
            "(3959, 19)\n"
          ]
        },
        {
          "output_type": "stream",
          "name": "stderr",
          "text": [
            "/usr/local/lib/python3.7/dist-packages/ipykernel_launcher.py:4: FutureWarning: In a future version of pandas all arguments of DataFrame.drop except for the argument 'labels' will be keyword-only\n",
            "  after removing the cwd from sys.path.\n"
          ]
        }
      ],
      "source": [
        "print(df_clean.isnull().sum().nlargest(5))\n",
        "index_with_nan_tagline = df_clean['tagline'].index[df_clean.isnull().any(axis=1)]\n",
        "#drop rows with nan values\n",
        "df_clean.drop(index_with_nan_tagline,0, inplace=True)\n",
        "print(df_clean.shape)"
      ],
      "id": "6AXPpSNQF_pC"
    },
    {
      "cell_type": "code",
      "execution_count": 8,
      "metadata": {
        "colab": {
          "base_uri": "https://localhost:8080/"
        },
        "id": "hTWH5DN2IjgW",
        "outputId": "bc986648-77f0-4d12-9e07-3b39642f6774"
      },
      "outputs": [
        {
          "output_type": "stream",
          "name": "stdout",
          "text": [
            "budget               0\n",
            "genres               0\n",
            "id                   0\n",
            "keywords             0\n",
            "original_language    0\n",
            "dtype: int64\n",
            "(3959, 19)\n"
          ]
        },
        {
          "output_type": "execute_result",
          "data": {
            "text/plain": [
              "0"
            ]
          },
          "metadata": {},
          "execution_count": 8
        }
      ],
      "source": [
        "#show if there is any nan values in other columns\n",
        "print(df_clean.isnull().sum().nlargest(5))\n",
        "print(df_clean.shape) # there is no any nan values\n",
        "\n",
        "#check if there are dublicated records\n",
        "df_clean.duplicated()\n",
        "df_clean.duplicated().sum() #there is no any dublicated records\n"
      ],
      "id": "hTWH5DN2IjgW"
    },
    {
      "cell_type": "markdown",
      "metadata": {
        "id": "0mnmZYq-dUdo"
      },
      "source": [
        "**Discover the types of each columns and modify them if needed**"
      ],
      "id": "0mnmZYq-dUdo"
    },
    {
      "cell_type": "code",
      "execution_count": 9,
      "metadata": {
        "colab": {
          "base_uri": "https://localhost:8080/"
        },
        "id": "b92120fe",
        "outputId": "f79a8b0f-08e7-4066-eaa1-3bb35e6b05eb"
      },
      "outputs": [
        {
          "output_type": "stream",
          "name": "stdout",
          "text": [
            "<class 'pandas.core.frame.DataFrame'>\n",
            "Int64Index: 3959 entries, 0 to 4801\n",
            "Data columns (total 19 columns):\n",
            " #   Column                Non-Null Count  Dtype  \n",
            "---  ------                --------------  -----  \n",
            " 0   budget                3959 non-null   int64  \n",
            " 1   genres                3959 non-null   object \n",
            " 2   id                    3959 non-null   int64  \n",
            " 3   keywords              3959 non-null   object \n",
            " 4   original_language     3959 non-null   object \n",
            " 5   original_title        3959 non-null   object \n",
            " 6   overview              3959 non-null   object \n",
            " 7   popularity            3959 non-null   float64\n",
            " 8   production_companies  3959 non-null   object \n",
            " 9   production_countries  3959 non-null   object \n",
            " 10  release_date          3959 non-null   object \n",
            " 11  revenue               3959 non-null   int64  \n",
            " 12  runtime               3959 non-null   float64\n",
            " 13  spoken_languages      3959 non-null   object \n",
            " 14  status                3959 non-null   object \n",
            " 15  tagline               3959 non-null   object \n",
            " 16  title                 3959 non-null   object \n",
            " 17  vote_average          3959 non-null   float64\n",
            " 18  vote_count            3959 non-null   int64  \n",
            "dtypes: float64(3), int64(4), object(12)\n",
            "memory usage: 618.6+ KB\n"
          ]
        }
      ],
      "source": [
        "df_clean.info()"
      ],
      "id": "b92120fe"
    },
    {
      "cell_type": "code",
      "execution_count": 10,
      "metadata": {
        "colab": {
          "base_uri": "https://localhost:8080/"
        },
        "id": "eMzaOMDFW23E",
        "outputId": "aae94c4a-6982-4258-f49b-3dacd5097229"
      },
      "outputs": [
        {
          "output_type": "stream",
          "name": "stdout",
          "text": [
            "number of unique values in budget is : 393\n",
            "number of unique values in genres is : 1068\n",
            "number of unique values in id is : 3959\n",
            "number of unique values in keywords is : 3675\n",
            "number of unique values in original_language is : 29\n",
            "number of unique values in original_title is : 3957\n",
            "number of unique values in overview is : 3959\n",
            "number of unique values in popularity is : 3958\n",
            "number of unique values in production_companies is : 3163\n",
            "number of unique values in production_countries is : 381\n",
            "number of unique values in release_date is : 2886\n",
            "number of unique values in revenue is : 3030\n",
            "number of unique values in runtime is : 141\n",
            "number of unique values in spoken_languages is : 469\n",
            "number of unique values in status is : 3\n",
            "number of unique values in tagline is : 3944\n",
            "number of unique values in title is : 3956\n",
            "number of unique values in vote_average is : 65\n",
            "number of unique values in vote_count is : 1587\n",
            "_______________________________________________________________________\n",
            "number of unique value in original_language is : ['en' 'ja' 'fr' 'zh' 'es' 'de' 'hi' 'ru' 'ko' 'te' 'cn' 'it' 'nl' 'ta'\n",
            " 'sv' 'th' 'da' 'xx' 'hu' 'cs' 'pt' 'is' 'tr' 'nb' 'af' 'pl' 'he' 'ar'\n",
            " 'vi' 'ky' 'id' 'ro' 'fa' 'no' 'sl' 'ps' 'el']\n",
            "number of unique value in status is : ['Released' 'Post Production' 'Rumored']\n"
          ]
        }
      ],
      "source": [
        "# check for number of the unique values for each column\n",
        "col = list(df_clean.columns.values)\n",
        "for i in col:\n",
        "    noUniq = df_clean[i].nunique()    \n",
        "    print( \"number of unique values in {} is :\".format(i) ,noUniq)\n",
        "print(\"_______________________________________________________________________\")    \n",
        "# check for the unique values in some columns\n",
        "col = list(df_clean.columns.values)\n",
        "for i in col:\n",
        "    if i in ['original_language', 'status']:\n",
        "        unique = df[i].unique()\n",
        "        print( \"number of unique value in {} is :\".format(i) , unique )\n",
        "#unique values in original_language is : 37\n",
        "#number of unique values in status is : 3"
      ],
      "id": "eMzaOMDFW23E"
    },
    {
      "cell_type": "code",
      "execution_count": 11,
      "metadata": {
        "colab": {
          "base_uri": "https://localhost:8080/"
        },
        "id": "zSaNHq4qZ2ku",
        "outputId": "dddd6aee-42e1-4d23-a1f7-1f22b226c7d8"
      },
      "outputs": [
        {
          "output_type": "stream",
          "name": "stdout",
          "text": [
            "      original_language  status\n",
            "0                     0       0\n",
            "1                     0       0\n",
            "2                     0       0\n",
            "3                     0       0\n",
            "4                     0       0\n",
            "...                 ...     ...\n",
            "4795                  0       0\n",
            "4796                  0       0\n",
            "4798                  6       0\n",
            "4799                  0       0\n",
            "4801                  0       0\n",
            "\n",
            "[3959 rows x 2 columns]\n"
          ]
        }
      ],
      "source": [
        "#extract 'original_language','status' columns\n",
        "cols = ['original_language','status']\n",
        "df_cols = df_clean[cols]\n",
        "\n",
        "#convert all categorical columns to numeric\n",
        "df_clean[cols] =df_cols.apply(lambda x: pd.factorize(x)[0])\n",
        "#print(df_clean)\n",
        "print(df_clean[cols])"
      ],
      "id": "zSaNHq4qZ2ku"
    },
    {
      "cell_type": "code",
      "execution_count": 12,
      "metadata": {
        "id": "ZJO9ryJBF9Rt",
        "colab": {
          "base_uri": "https://localhost:8080/",
          "height": 792
        },
        "outputId": "3e3cbb47-4aeb-4ff5-ffce-bd62ce114997"
      },
      "outputs": [
        {
          "output_type": "stream",
          "name": "stdout",
          "text": [
            "datetime64[ns]\n"
          ]
        },
        {
          "output_type": "execute_result",
          "data": {
            "text/plain": [
              "      budget                                             genres      id  \\\n",
              "0  237000000  [{\"id\": 28, \"name\": \"Action\"}, {\"id\": 12, \"nam...   19995   \n",
              "1  300000000  [{\"id\": 12, \"name\": \"Adventure\"}, {\"id\": 14, \"...     285   \n",
              "2  245000000  [{\"id\": 28, \"name\": \"Action\"}, {\"id\": 12, \"nam...  206647   \n",
              "3  250000000  [{\"id\": 28, \"name\": \"Action\"}, {\"id\": 80, \"nam...   49026   \n",
              "4  260000000  [{\"id\": 28, \"name\": \"Action\"}, {\"id\": 12, \"nam...   49529   \n",
              "\n",
              "                                            keywords  original_language  \\\n",
              "0  [{\"id\": 1463, \"name\": \"culture clash\"}, {\"id\":...                  0   \n",
              "1  [{\"id\": 270, \"name\": \"ocean\"}, {\"id\": 726, \"na...                  0   \n",
              "2  [{\"id\": 470, \"name\": \"spy\"}, {\"id\": 818, \"name...                  0   \n",
              "3  [{\"id\": 849, \"name\": \"dc comics\"}, {\"id\": 853,...                  0   \n",
              "4  [{\"id\": 818, \"name\": \"based on novel\"}, {\"id\":...                  0   \n",
              "\n",
              "                             original_title  \\\n",
              "0                                    Avatar   \n",
              "1  Pirates of the Caribbean: At World's End   \n",
              "2                                   Spectre   \n",
              "3                     The Dark Knight Rises   \n",
              "4                               John Carter   \n",
              "\n",
              "                                            overview  popularity  \\\n",
              "0  In the 22nd century, a paraplegic Marine is di...  150.437577   \n",
              "1  Captain Barbossa, long believed to be dead, ha...  139.082615   \n",
              "2  A cryptic message from Bond’s past sends him o...  107.376788   \n",
              "3  Following the death of District Attorney Harve...  112.312950   \n",
              "4  John Carter is a war-weary, former military ca...   43.926995   \n",
              "\n",
              "                                production_companies  \\\n",
              "0  [{\"name\": \"Ingenious Film Partners\", \"id\": 289...   \n",
              "1  [{\"name\": \"Walt Disney Pictures\", \"id\": 2}, {\"...   \n",
              "2  [{\"name\": \"Columbia Pictures\", \"id\": 5}, {\"nam...   \n",
              "3  [{\"name\": \"Legendary Pictures\", \"id\": 923}, {\"...   \n",
              "4        [{\"name\": \"Walt Disney Pictures\", \"id\": 2}]   \n",
              "\n",
              "                                production_countries release_date     revenue  \\\n",
              "0  [{\"iso_3166_1\": \"US\", \"name\": \"United States o...   2009-12-10  2787965087   \n",
              "1  [{\"iso_3166_1\": \"US\", \"name\": \"United States o...   2007-05-19   961000000   \n",
              "2  [{\"iso_3166_1\": \"GB\", \"name\": \"United Kingdom\"...   2015-10-26   880674609   \n",
              "3  [{\"iso_3166_1\": \"US\", \"name\": \"United States o...   2012-07-16  1084939099   \n",
              "4  [{\"iso_3166_1\": \"US\", \"name\": \"United States o...   2012-03-07   284139100   \n",
              "\n",
              "   runtime                                   spoken_languages  status  \\\n",
              "0    162.0  [{\"iso_639_1\": \"en\", \"name\": \"English\"}, {\"iso...       0   \n",
              "1    169.0           [{\"iso_639_1\": \"en\", \"name\": \"English\"}]       0   \n",
              "2    148.0  [{\"iso_639_1\": \"fr\", \"name\": \"Fran\\u00e7ais\"},...       0   \n",
              "3    165.0           [{\"iso_639_1\": \"en\", \"name\": \"English\"}]       0   \n",
              "4    132.0           [{\"iso_639_1\": \"en\", \"name\": \"English\"}]       0   \n",
              "\n",
              "                                          tagline  \\\n",
              "0                     Enter the World of Pandora.   \n",
              "1  At the end of the world, the adventure begins.   \n",
              "2                           A Plan No One Escapes   \n",
              "3                                 The Legend Ends   \n",
              "4            Lost in our world, found in another.   \n",
              "\n",
              "                                      title  vote_average  vote_count  \n",
              "0                                    Avatar           7.2       11800  \n",
              "1  Pirates of the Caribbean: At World's End           6.9        4500  \n",
              "2                                   Spectre           6.3        4466  \n",
              "3                     The Dark Knight Rises           7.6        9106  \n",
              "4                               John Carter           6.1        2124  "
            ],
            "text/html": [
              "\n",
              "  <div id=\"df-673c1bfb-aeee-45b0-a2dd-527df8339843\">\n",
              "    <div class=\"colab-df-container\">\n",
              "      <div>\n",
              "<style scoped>\n",
              "    .dataframe tbody tr th:only-of-type {\n",
              "        vertical-align: middle;\n",
              "    }\n",
              "\n",
              "    .dataframe tbody tr th {\n",
              "        vertical-align: top;\n",
              "    }\n",
              "\n",
              "    .dataframe thead th {\n",
              "        text-align: right;\n",
              "    }\n",
              "</style>\n",
              "<table border=\"1\" class=\"dataframe\">\n",
              "  <thead>\n",
              "    <tr style=\"text-align: right;\">\n",
              "      <th></th>\n",
              "      <th>budget</th>\n",
              "      <th>genres</th>\n",
              "      <th>id</th>\n",
              "      <th>keywords</th>\n",
              "      <th>original_language</th>\n",
              "      <th>original_title</th>\n",
              "      <th>overview</th>\n",
              "      <th>popularity</th>\n",
              "      <th>production_companies</th>\n",
              "      <th>production_countries</th>\n",
              "      <th>release_date</th>\n",
              "      <th>revenue</th>\n",
              "      <th>runtime</th>\n",
              "      <th>spoken_languages</th>\n",
              "      <th>status</th>\n",
              "      <th>tagline</th>\n",
              "      <th>title</th>\n",
              "      <th>vote_average</th>\n",
              "      <th>vote_count</th>\n",
              "    </tr>\n",
              "  </thead>\n",
              "  <tbody>\n",
              "    <tr>\n",
              "      <th>0</th>\n",
              "      <td>237000000</td>\n",
              "      <td>[{\"id\": 28, \"name\": \"Action\"}, {\"id\": 12, \"nam...</td>\n",
              "      <td>19995</td>\n",
              "      <td>[{\"id\": 1463, \"name\": \"culture clash\"}, {\"id\":...</td>\n",
              "      <td>0</td>\n",
              "      <td>Avatar</td>\n",
              "      <td>In the 22nd century, a paraplegic Marine is di...</td>\n",
              "      <td>150.437577</td>\n",
              "      <td>[{\"name\": \"Ingenious Film Partners\", \"id\": 289...</td>\n",
              "      <td>[{\"iso_3166_1\": \"US\", \"name\": \"United States o...</td>\n",
              "      <td>2009-12-10</td>\n",
              "      <td>2787965087</td>\n",
              "      <td>162.0</td>\n",
              "      <td>[{\"iso_639_1\": \"en\", \"name\": \"English\"}, {\"iso...</td>\n",
              "      <td>0</td>\n",
              "      <td>Enter the World of Pandora.</td>\n",
              "      <td>Avatar</td>\n",
              "      <td>7.2</td>\n",
              "      <td>11800</td>\n",
              "    </tr>\n",
              "    <tr>\n",
              "      <th>1</th>\n",
              "      <td>300000000</td>\n",
              "      <td>[{\"id\": 12, \"name\": \"Adventure\"}, {\"id\": 14, \"...</td>\n",
              "      <td>285</td>\n",
              "      <td>[{\"id\": 270, \"name\": \"ocean\"}, {\"id\": 726, \"na...</td>\n",
              "      <td>0</td>\n",
              "      <td>Pirates of the Caribbean: At World's End</td>\n",
              "      <td>Captain Barbossa, long believed to be dead, ha...</td>\n",
              "      <td>139.082615</td>\n",
              "      <td>[{\"name\": \"Walt Disney Pictures\", \"id\": 2}, {\"...</td>\n",
              "      <td>[{\"iso_3166_1\": \"US\", \"name\": \"United States o...</td>\n",
              "      <td>2007-05-19</td>\n",
              "      <td>961000000</td>\n",
              "      <td>169.0</td>\n",
              "      <td>[{\"iso_639_1\": \"en\", \"name\": \"English\"}]</td>\n",
              "      <td>0</td>\n",
              "      <td>At the end of the world, the adventure begins.</td>\n",
              "      <td>Pirates of the Caribbean: At World's End</td>\n",
              "      <td>6.9</td>\n",
              "      <td>4500</td>\n",
              "    </tr>\n",
              "    <tr>\n",
              "      <th>2</th>\n",
              "      <td>245000000</td>\n",
              "      <td>[{\"id\": 28, \"name\": \"Action\"}, {\"id\": 12, \"nam...</td>\n",
              "      <td>206647</td>\n",
              "      <td>[{\"id\": 470, \"name\": \"spy\"}, {\"id\": 818, \"name...</td>\n",
              "      <td>0</td>\n",
              "      <td>Spectre</td>\n",
              "      <td>A cryptic message from Bond’s past sends him o...</td>\n",
              "      <td>107.376788</td>\n",
              "      <td>[{\"name\": \"Columbia Pictures\", \"id\": 5}, {\"nam...</td>\n",
              "      <td>[{\"iso_3166_1\": \"GB\", \"name\": \"United Kingdom\"...</td>\n",
              "      <td>2015-10-26</td>\n",
              "      <td>880674609</td>\n",
              "      <td>148.0</td>\n",
              "      <td>[{\"iso_639_1\": \"fr\", \"name\": \"Fran\\u00e7ais\"},...</td>\n",
              "      <td>0</td>\n",
              "      <td>A Plan No One Escapes</td>\n",
              "      <td>Spectre</td>\n",
              "      <td>6.3</td>\n",
              "      <td>4466</td>\n",
              "    </tr>\n",
              "    <tr>\n",
              "      <th>3</th>\n",
              "      <td>250000000</td>\n",
              "      <td>[{\"id\": 28, \"name\": \"Action\"}, {\"id\": 80, \"nam...</td>\n",
              "      <td>49026</td>\n",
              "      <td>[{\"id\": 849, \"name\": \"dc comics\"}, {\"id\": 853,...</td>\n",
              "      <td>0</td>\n",
              "      <td>The Dark Knight Rises</td>\n",
              "      <td>Following the death of District Attorney Harve...</td>\n",
              "      <td>112.312950</td>\n",
              "      <td>[{\"name\": \"Legendary Pictures\", \"id\": 923}, {\"...</td>\n",
              "      <td>[{\"iso_3166_1\": \"US\", \"name\": \"United States o...</td>\n",
              "      <td>2012-07-16</td>\n",
              "      <td>1084939099</td>\n",
              "      <td>165.0</td>\n",
              "      <td>[{\"iso_639_1\": \"en\", \"name\": \"English\"}]</td>\n",
              "      <td>0</td>\n",
              "      <td>The Legend Ends</td>\n",
              "      <td>The Dark Knight Rises</td>\n",
              "      <td>7.6</td>\n",
              "      <td>9106</td>\n",
              "    </tr>\n",
              "    <tr>\n",
              "      <th>4</th>\n",
              "      <td>260000000</td>\n",
              "      <td>[{\"id\": 28, \"name\": \"Action\"}, {\"id\": 12, \"nam...</td>\n",
              "      <td>49529</td>\n",
              "      <td>[{\"id\": 818, \"name\": \"based on novel\"}, {\"id\":...</td>\n",
              "      <td>0</td>\n",
              "      <td>John Carter</td>\n",
              "      <td>John Carter is a war-weary, former military ca...</td>\n",
              "      <td>43.926995</td>\n",
              "      <td>[{\"name\": \"Walt Disney Pictures\", \"id\": 2}]</td>\n",
              "      <td>[{\"iso_3166_1\": \"US\", \"name\": \"United States o...</td>\n",
              "      <td>2012-03-07</td>\n",
              "      <td>284139100</td>\n",
              "      <td>132.0</td>\n",
              "      <td>[{\"iso_639_1\": \"en\", \"name\": \"English\"}]</td>\n",
              "      <td>0</td>\n",
              "      <td>Lost in our world, found in another.</td>\n",
              "      <td>John Carter</td>\n",
              "      <td>6.1</td>\n",
              "      <td>2124</td>\n",
              "    </tr>\n",
              "  </tbody>\n",
              "</table>\n",
              "</div>\n",
              "      <button class=\"colab-df-convert\" onclick=\"convertToInteractive('df-673c1bfb-aeee-45b0-a2dd-527df8339843')\"\n",
              "              title=\"Convert this dataframe to an interactive table.\"\n",
              "              style=\"display:none;\">\n",
              "        \n",
              "  <svg xmlns=\"http://www.w3.org/2000/svg\" height=\"24px\"viewBox=\"0 0 24 24\"\n",
              "       width=\"24px\">\n",
              "    <path d=\"M0 0h24v24H0V0z\" fill=\"none\"/>\n",
              "    <path d=\"M18.56 5.44l.94 2.06.94-2.06 2.06-.94-2.06-.94-.94-2.06-.94 2.06-2.06.94zm-11 1L8.5 8.5l.94-2.06 2.06-.94-2.06-.94L8.5 2.5l-.94 2.06-2.06.94zm10 10l.94 2.06.94-2.06 2.06-.94-2.06-.94-.94-2.06-.94 2.06-2.06.94z\"/><path d=\"M17.41 7.96l-1.37-1.37c-.4-.4-.92-.59-1.43-.59-.52 0-1.04.2-1.43.59L10.3 9.45l-7.72 7.72c-.78.78-.78 2.05 0 2.83L4 21.41c.39.39.9.59 1.41.59.51 0 1.02-.2 1.41-.59l7.78-7.78 2.81-2.81c.8-.78.8-2.07 0-2.86zM5.41 20L4 18.59l7.72-7.72 1.47 1.35L5.41 20z\"/>\n",
              "  </svg>\n",
              "      </button>\n",
              "      \n",
              "  <style>\n",
              "    .colab-df-container {\n",
              "      display:flex;\n",
              "      flex-wrap:wrap;\n",
              "      gap: 12px;\n",
              "    }\n",
              "\n",
              "    .colab-df-convert {\n",
              "      background-color: #E8F0FE;\n",
              "      border: none;\n",
              "      border-radius: 50%;\n",
              "      cursor: pointer;\n",
              "      display: none;\n",
              "      fill: #1967D2;\n",
              "      height: 32px;\n",
              "      padding: 0 0 0 0;\n",
              "      width: 32px;\n",
              "    }\n",
              "\n",
              "    .colab-df-convert:hover {\n",
              "      background-color: #E2EBFA;\n",
              "      box-shadow: 0px 1px 2px rgba(60, 64, 67, 0.3), 0px 1px 3px 1px rgba(60, 64, 67, 0.15);\n",
              "      fill: #174EA6;\n",
              "    }\n",
              "\n",
              "    [theme=dark] .colab-df-convert {\n",
              "      background-color: #3B4455;\n",
              "      fill: #D2E3FC;\n",
              "    }\n",
              "\n",
              "    [theme=dark] .colab-df-convert:hover {\n",
              "      background-color: #434B5C;\n",
              "      box-shadow: 0px 1px 3px 1px rgba(0, 0, 0, 0.15);\n",
              "      filter: drop-shadow(0px 1px 2px rgba(0, 0, 0, 0.3));\n",
              "      fill: #FFFFFF;\n",
              "    }\n",
              "  </style>\n",
              "\n",
              "      <script>\n",
              "        const buttonEl =\n",
              "          document.querySelector('#df-673c1bfb-aeee-45b0-a2dd-527df8339843 button.colab-df-convert');\n",
              "        buttonEl.style.display =\n",
              "          google.colab.kernel.accessAllowed ? 'block' : 'none';\n",
              "\n",
              "        async function convertToInteractive(key) {\n",
              "          const element = document.querySelector('#df-673c1bfb-aeee-45b0-a2dd-527df8339843');\n",
              "          const dataTable =\n",
              "            await google.colab.kernel.invokeFunction('convertToInteractive',\n",
              "                                                     [key], {});\n",
              "          if (!dataTable) return;\n",
              "\n",
              "          const docLinkHtml = 'Like what you see? Visit the ' +\n",
              "            '<a target=\"_blank\" href=https://colab.research.google.com/notebooks/data_table.ipynb>data table notebook</a>'\n",
              "            + ' to learn more about interactive tables.';\n",
              "          element.innerHTML = '';\n",
              "          dataTable['output_type'] = 'display_data';\n",
              "          await google.colab.output.renderOutput(dataTable, element);\n",
              "          const docLink = document.createElement('div');\n",
              "          docLink.innerHTML = docLinkHtml;\n",
              "          element.appendChild(docLink);\n",
              "        }\n",
              "      </script>\n",
              "    </div>\n",
              "  </div>\n",
              "  "
            ]
          },
          "metadata": {},
          "execution_count": 12
        }
      ],
      "source": [
        "#change the datatype of \"id\" column to be strings\n",
        "df_clean['id'] = df_clean['id'].astype(str)\n",
        "\n",
        "#the Change the datatype of 'release_date' column into be in Datetime\n",
        "df_clean[\"release_date\"] = pd.to_datetime(df_clean['release_date']).dt.date.astype('datetime64[ns]')\n",
        "\n",
        "#check outcome\n",
        "print (df_clean[\"release_date\"].dtypes)\n",
        "df_clean.head()"
      ],
      "id": "ZJO9ryJBF9Rt"
    },
    {
      "cell_type": "markdown",
      "source": [
        "Give a very simple statistical analsys for the numerical columns"
      ],
      "metadata": {
        "id": "IFSawNSEG0am"
      },
      "id": "IFSawNSEG0am"
    },
    {
      "cell_type": "code",
      "execution_count": 13,
      "metadata": {
        "colab": {
          "base_uri": "https://localhost:8080/"
        },
        "id": "78b98f6f",
        "outputId": "9ab73a5e-e42d-4422-bd11-f2a762ca5bd9"
      },
      "outputs": [
        {
          "output_type": "stream",
          "name": "stdout",
          "text": [
            "0       2009\n",
            "1       2007\n",
            "2       2015\n",
            "3       2012\n",
            "4       2012\n",
            "        ... \n",
            "4795    1995\n",
            "4796    2004\n",
            "4798    1992\n",
            "4799    2011\n",
            "4801    2012\n",
            "Name: year, Length: 3959, dtype: int64\n"
          ]
        }
      ],
      "source": [
        "list=[]\n",
        "for i in df_clean['release_date']:\n",
        "  i=i.year\n",
        "  list.append(i)\n",
        "\n",
        "df_clean['year']=list\n",
        "  \n",
        "print(df_clean['year'])\n",
        "\n",
        "### Ex: Average Movies Rate at 2009 is 6.065587 ###"
      ],
      "id": "78b98f6f"
    },
    {
      "cell_type": "code",
      "source": [
        "#make group of the data according to their release year and count the total number of movies in each year and pot.\n",
        "df_clean.groupby('year').count()['id'].plot(xticks = np.arange(1916,2016,3))\n",
        "#set the figure size and labels\n",
        "sns.set(rc={'figure.figsize':(20,5)})\n",
        "plt.title(\"Year Vs Number Of Movies\",fontsize = 14)\n",
        "plt.xlabel('Release year',fontsize = 13)\n",
        "plt.ylabel('Number Of Movies',fontsize = 13)\n",
        "#set the style sheet\n",
        "sns.set_style(\"whitegrid\")"
      ],
      "metadata": {
        "colab": {
          "base_uri": "https://localhost:8080/",
          "height": 327
        },
        "id": "1pBeHAVX3bl_",
        "outputId": "177392c9-b57c-4d69-9aa6-0a1beffb3f57"
      },
      "id": "1pBeHAVX3bl_",
      "execution_count": 200,
      "outputs": [
        {
          "output_type": "display_data",
          "data": {
            "text/plain": [
              "<Figure size 1440x360 with 1 Axes>"
            ],
            "image/png": "[encoded data removed]"
          },
          "metadata": {}
        }
      ]
    },
    {
      "cell_type": "code",
      "execution_count": null,
      "metadata": {
        "id": "0ecf153d"
      },
      "outputs": [],
      "source": [
        "### Give a very simple statistical analsys for the numerical columns ###\n",
        "ax = sns.countplot(x=df_clean.budget, hue=df_clean.revenue)\n",
        "ax.set_title(\"Show-No-Show for each Gender\")\n",
        "x_ticks_labels=['F', 'M']\n",
        "plt.show();\n"
      ],
      "id": "0ecf153d"
    },
    {
      "cell_type": "markdown",
      "source": [
        "Calculate the mean rate for [1999, 1980, 2004, 2017] the movies grouped by years"
      ],
      "metadata": {
        "id": "H82KT9v-CCwB"
      },
      "id": "H82KT9v-CCwB"
    },
    {
      "cell_type": "code",
      "source": [
        "### Calculate the mean rate for [1999, 1980, 2004, 2017] the movies grouped by years ###\n",
        "d1=df_clean.vote_average[df_clean[\"year\"]==1999]\n",
        "d2=df_clean.vote_average[df_clean[\"year\"]==1980]\n",
        "d3=df_clean.vote_average[df_clean[\"year\"]==2004]\n",
        "d4=df_clean.vote_average[df_clean[\"year\"]==2017]\n",
        " \n",
        "print(\"the mean rate for 1999\",d1.sum()/d1.count())\n",
        "print(\"the mean rate for 1980\",d2.sum()/d2.count())\n",
        "print(\"the mean rate for 2004\",d3.sum()/d3.count())\n",
        "print(\"the mean rate for 2017\",d4.sum()/d4.count())\n"
      ],
      "metadata": {
        "colab": {
          "base_uri": "https://localhost:8080/"
        },
        "id": "CCB-UTh-OJUQ",
        "outputId": "e56fae69-c798-43c7-f703-1286d7fc8c00"
      },
      "id": "CCB-UTh-OJUQ",
      "execution_count": 278,
      "outputs": [
        {
          "output_type": "stream",
          "name": "stdout",
          "text": [
            "the mean rate for 1999 6.115107913669065\n",
            "the mean rate for 1980 6.584999999999999\n",
            "the mean rate for 2004 6.203030303030304\n",
            "the mean rate for 2017 7.4\n"
          ]
        }
      ]
    },
    {
      "cell_type": "markdown",
      "source": [
        " Rearange the dataframe based on revenue - budget values "
      ],
      "metadata": {
        "id": "tzSNpy46QCQc"
      },
      "id": "tzSNpy46QCQc"
    },
    {
      "cell_type": "code",
      "execution_count": 14,
      "metadata": {
        "id": "117093cb",
        "colab": {
          "base_uri": "https://localhost:8080/"
        },
        "outputId": "0243a908-c5e3-4cad-e6f4-df57f9797d69"
      },
      "outputs": [
        {
          "output_type": "stream",
          "name": "stdout",
          "text": [
            "        budget                                             genres      id  \\\n",
            "265          0  [{\"id\": 35, \"name\": \"Comedy\"}, {\"id\": 14, \"nam...   10588   \n",
            "406          0  [{\"id\": 18, \"name\": \"Drama\"}, {\"id\": 16, \"name...   51052   \n",
            "453          0  [{\"id\": 28, \"name\": \"Action\"}, {\"id\": 35, \"nam...   12096   \n",
            "463          0  [{\"id\": 10749, \"name\": \"Romance\"}, {\"id\": 18, ...  161795   \n",
            "584          0                    [{\"id\": 14, \"name\": \"Fantasy\"}]   10395   \n",
            "..         ...                                                ...     ...   \n",
            "44   190000000                     [{\"id\": 28, \"name\": \"Action\"}]  168259   \n",
            "28   150000000  [{\"id\": 28, \"name\": \"Action\"}, {\"id\": 12, \"nam...  135397   \n",
            "16   220000000  [{\"id\": 878, \"name\": \"Science Fiction\"}, {\"id\"...   24428   \n",
            "25   200000000  [{\"id\": 18, \"name\": \"Drama\"}, {\"id\": 10749, \"n...     597   \n",
            "0    237000000  [{\"id\": 28, \"name\": \"Action\"}, {\"id\": 12, \"nam...   19995   \n",
            "\n",
            "                                              keywords  original_language  \\\n",
            "265  [{\"id\": 977, \"name\": \"cat\"}, {\"id\": 1155, \"nam...                  0   \n",
            "406  [{\"id\": 65, \"name\": \"holiday\"}, {\"id\": 1991, \"...                  0   \n",
            "453  [{\"id\": 642, \"name\": \"robbery\"}, {\"id\": 5340, ...                  0   \n",
            "463  [{\"id\": 9673, \"name\": \"love\"}, {\"id\": 14638, \"...                  0   \n",
            "584  [{\"id\": 596, \"name\": \"adultery\"}, {\"id\": 2499,...                  0   \n",
            "..                                                 ...                ...   \n",
            "44   [{\"id\": 830, \"name\": \"car race\"}, {\"id\": 3428,...                  0   \n",
            "28   [{\"id\": 1299, \"name\": \"monster\"}, {\"id\": 1718,...                  0   \n",
            "16   [{\"id\": 242, \"name\": \"new york\"}, {\"id\": 5539,...                  0   \n",
            "25   [{\"id\": 2580, \"name\": \"shipwreck\"}, {\"id\": 298...                  0   \n",
            "0    [{\"id\": 1463, \"name\": \"culture clash\"}, {\"id\":...                  0   \n",
            "\n",
            "         original_title                                           overview  \\\n",
            "265  The Cat in the Hat  Conrad and Sally Walden are home alone with th...   \n",
            "406    Arthur Christmas  Each Christmas, Santa and his vast army of hig...   \n",
            "453    The Pink Panther  When the coach of the France soccer team is ki...   \n",
            "463             Déjà Vu  L.A. shop owner Dana and Englishman Sean meet ...   \n",
            "584                Wolf  Publisher Will Randall becomes a werewolf and ...   \n",
            "..                  ...                                                ...   \n",
            "44            Furious 7  Deckard Shaw seeks revenge against Dominic Tor...   \n",
            "28       Jurassic World  Twenty-two years after the events of Jurassic ...   \n",
            "16         The Avengers  When an unexpected enemy emerges and threatens...   \n",
            "25              Titanic  84 years later, a 101-year-old woman named Ros...   \n",
            "0                Avatar  In the 22nd century, a paraplegic Marine is di...   \n",
            "\n",
            "     popularity                               production_companies  \\\n",
            "265   18.251129  [{\"name\": \"Imagine Entertainment\", \"id\": 23}, ...   \n",
            "406   19.836830  [{\"name\": \"Columbia Pictures\", \"id\": 5}, {\"nam...   \n",
            "453   25.450534  [{\"name\": \"Columbia Pictures\", \"id\": 5}, {\"nam...   \n",
            "463    0.605645  [{\"name\": \"Rainbow Film Company, The\", \"id\": 2...   \n",
            "584   13.758526           [{\"name\": \"Columbia Pictures\", \"id\": 5}]   \n",
            "..          ...                                                ...   \n",
            "44   102.322217  [{\"name\": \"Universal Pictures\", \"id\": 33}, {\"n...   \n",
            "28   418.708552  [{\"name\": \"Universal Studios\", \"id\": 13}, {\"na...   \n",
            "16   144.448633  [{\"name\": \"Paramount Pictures\", \"id\": 4}, {\"na...   \n",
            "25   100.025899  [{\"name\": \"Paramount Pictures\", \"id\": 4}, {\"na...   \n",
            "0    150.437577  [{\"name\": \"Ingenious Film Partners\", \"id\": 289...   \n",
            "\n",
            "                                  production_countries release_date  \\\n",
            "265  [{\"iso_3166_1\": \"US\", \"name\": \"United States o...   2003-11-21   \n",
            "406  [{\"iso_3166_1\": \"US\", \"name\": \"United States o...   2011-02-22   \n",
            "453  [{\"iso_3166_1\": \"US\", \"name\": \"United States o...   2006-01-18   \n",
            "463  [{\"iso_3166_1\": \"US\", \"name\": \"United States o...   1998-04-22   \n",
            "584  [{\"iso_3166_1\": \"US\", \"name\": \"United States o...   1994-06-17   \n",
            "..                                                 ...          ...   \n",
            "44   [{\"iso_3166_1\": \"JP\", \"name\": \"Japan\"}, {\"iso_...   2015-04-01   \n",
            "28   [{\"iso_3166_1\": \"US\", \"name\": \"United States o...   2015-06-09   \n",
            "16   [{\"iso_3166_1\": \"US\", \"name\": \"United States o...   2012-04-25   \n",
            "25   [{\"iso_3166_1\": \"US\", \"name\": \"United States o...   1997-11-18   \n",
            "0    [{\"iso_3166_1\": \"US\", \"name\": \"United States o...   2009-12-10   \n",
            "\n",
            "        revenue  runtime                                   spoken_languages  \\\n",
            "265           0     82.0           [{\"iso_639_1\": \"en\", \"name\": \"English\"}]   \n",
            "406           0     97.0           [{\"iso_639_1\": \"en\", \"name\": \"English\"}]   \n",
            "453           0     93.0           [{\"iso_639_1\": \"en\", \"name\": \"English\"}]   \n",
            "463           0    117.0           [{\"iso_639_1\": \"en\", \"name\": \"English\"}]   \n",
            "584           0    125.0           [{\"iso_639_1\": \"en\", \"name\": \"English\"}]   \n",
            "..          ...      ...                                                ...   \n",
            "44   1506249360    137.0           [{\"iso_639_1\": \"en\", \"name\": \"English\"}]   \n",
            "28   1513528810    124.0           [{\"iso_639_1\": \"en\", \"name\": \"English\"}]   \n",
            "16   1519557910    143.0           [{\"iso_639_1\": \"en\", \"name\": \"English\"}]   \n",
            "25   1845034188    194.0  [{\"iso_639_1\": \"en\", \"name\": \"English\"}, {\"iso...   \n",
            "0    2787965087    162.0  [{\"iso_639_1\": \"en\", \"name\": \"English\"}, {\"iso...   \n",
            "\n",
            "     status                                            tagline  \\\n",
            "265       0                           Don't mess with the hat.   \n",
            "406       0  Ever wonder how 2 Billion presents get deliver...   \n",
            "453       0                                 Pardon His French.   \n",
            "463       0                              Your future is set...   \n",
            "584       0                                 The animal is out.   \n",
            "..      ...                                                ...   \n",
            "44        0                                Vengeance Hits Home   \n",
            "28        0                                  The park is open.   \n",
            "16        0                            Some assembly required.   \n",
            "25        0          Nothing on Earth could come between them.   \n",
            "0         0                        Enter the World of Pandora.   \n",
            "\n",
            "                  title  vote_average  vote_count  year  \n",
            "265  The Cat in the Hat           4.9         366  2003  \n",
            "406    Arthur Christmas           6.7         333  2011  \n",
            "453    The Pink Panther           5.6         550  2006  \n",
            "463             Déjà Vu           8.0           1  1998  \n",
            "584                Wolf           6.0         216  1994  \n",
            "..                  ...           ...         ...   ...  \n",
            "44            Furious 7           7.3        4176  2015  \n",
            "28       Jurassic World           6.5        8662  2015  \n",
            "16         The Avengers           7.4       11776  2012  \n",
            "25              Titanic           7.5        7562  1997  \n",
            "0                Avatar           7.2       11800  2009  \n",
            "\n",
            "[3959 rows x 20 columns]\n"
          ]
        }
      ],
      "source": [
        "#sorting data frame by revenue - budget values\n",
        "df_clean.sort_values([\"revenue\", \"budget\"], axis=0,\n",
        "                 ascending=True, inplace=True)\n",
        "print(df_clean)"
      ],
      "id": "117093cb"
    },
    {
      "cell_type": "code",
      "execution_count": null,
      "metadata": {
        "id": "fd99627a"
      },
      "outputs": [],
      "source": [
        "### Allocate the year with the largest movies released in ['Action', 'Romance'] ###\n",
        "\n"
      ],
      "id": "fd99627a"
    },
    {
      "cell_type": "code",
      "source": [
        "high_index = df_clean['budget'].idxmax()\n",
        "min_index = df_clean['budget'].idxmin()\n",
        "high = pd.DataFrame(df_clean.loc[high_index,:])\n",
        "low = pd.DataFrame(df_clean.loc[min_index,:])\n",
        "print(\"Movie Which Has Highest \"+ 'budget' + \" : \",df_clean['original_title'][high_index])\n",
        "print(df_clean['original_title'][high_index])"
      ],
      "metadata": {
        "colab": {
          "base_uri": "https://localhost:8080/"
        },
        "id": "E5_Ju5bJpdYE",
        "outputId": "e59face7-5195-43f0-c861-40fad24c7038"
      },
      "id": "E5_Ju5bJpdYE",
      "execution_count": 299,
      "outputs": [
        {
          "output_type": "stream",
          "name": "stdout",
          "text": [
            "Movie Which Has Highest budget :  Pirates of the Caribbean: On Stranger Tides\n",
            "Pirates of the Caribbean: On Stranger Tides\n"
          ]
        }
      ]
    },
    {
      "cell_type": "code",
      "execution_count": 148,
      "metadata": {
        "id": "74517a71",
        "colab": {
          "base_uri": "https://localhost:8080/"
        },
        "outputId": "50d39059-0eb4-4ecb-981c-42762949219d"
      },
      "outputs": [
        {
          "output_type": "stream",
          "name": "stdout",
          "text": [
            "17    Pirates of the Caribbean: On Stranger Tides\n",
            "1        Pirates of the Caribbean: At World's End\n",
            "7                         Avengers: Age of Ultron\n",
            "4                                     John Carter\n",
            "6                                         Tangled\n",
            "Name: original_title, dtype: object\n"
          ]
        }
      ],
      "source": [
        "### Find the movies with top 5 revenue - budget value ###\n",
        "info = pd.DataFrame(df_clean['revenue'].sort_values(ascending = False))\n",
        "info = pd.DataFrame(df_clean['budget'].sort_values(ascending = False))\n",
        "info['original_title'] = df_clean['original_title']\n",
        "print(info['original_title'][:5])\n"
      ],
      "id": "74517a71"
    },
    {
      "cell_type": "markdown",
      "source": [
        "Find the year with the highest number of movies release"
      ],
      "metadata": {
        "id": "44_-kzTNYpoS"
      },
      "id": "44_-kzTNYpoS"
    },
    {
      "cell_type": "code",
      "execution_count": 35,
      "metadata": {
        "id": "8ae0da0e",
        "colab": {
          "base_uri": "https://localhost:8080/"
        },
        "outputId": "7d1ff812-5359-4cb4-dd1d-51faded38e98"
      },
      "outputs": [
        {
          "output_type": "stream",
          "name": "stdout",
          "text": [
            "the year with the highest number of movies release 2006\n"
          ]
        }
      ],
      "source": [
        "### Find the year with the highest number of movies release ###\n",
        "#count the number of movies in each year \n",
        "data=df_clean.groupby('year').count()['id'].idxmax()\n",
        "print(\"the year with the highest number of movies release\",data)\n"
      ],
      "id": "8ae0da0e"
    },
    {
      "cell_type": "code",
      "execution_count": null,
      "metadata": {
        "id": "f5d4edda"
      },
      "outputs": [],
      "source": [
        "### Find the top 2 countries with the highest production movies number ###\n"
      ],
      "id": "f5d4edda"
    },
    {
      "cell_type": "code",
      "execution_count": null,
      "metadata": {
        "id": "6c162029"
      },
      "outputs": [],
      "source": [
        "### Find the top 1 company with the highest production movies number ###\n",
        "\n"
      ],
      "id": "6c162029"
    },
    {
      "cell_type": "markdown",
      "source": [
        "Is there any relation between the runtime and average vote value"
      ],
      "metadata": {
        "id": "UBQcOen6l_vS"
      },
      "id": "UBQcOen6l_vS"
    },
    {
      "cell_type": "code",
      "execution_count": 91,
      "metadata": {
        "id": "ebcae1b2",
        "colab": {
          "base_uri": "https://localhost:8080/",
          "height": 385
        },
        "outputId": "bb82a2b6-b8bf-4fc3-d925-67256b6d07e4"
      },
      "outputs": [
        {
          "output_type": "stream",
          "name": "stdout",
          "text": [
            "0.39880450431635595\n"
          ]
        },
        {
          "output_type": "execute_result",
          "data": {
            "text/plain": [
              "<matplotlib.axes._subplots.AxesSubplot at 0x7fda8f0c8050>"
            ]
          },
          "metadata": {},
          "execution_count": 91
        },
        {
          "output_type": "display_data",
          "data": {
            "text/plain": [
              "<Figure size 432x288 with 2 Axes>"
            ],
            "image/png": "[encoded data removed]"
          },
          "metadata": {
            "needs_background": "light"
          }
        }
      ],
      "source": [
        "### Is there any relation between the runtime and average vote value ### **\n",
        "print(df_clean['runtime'].corr(df_clean['vote_average']))\n",
        "corr = df_clean.corr()\n",
        "sns.heatmap(corr)"
      ],
      "id": "ebcae1b2"
    },
    {
      "cell_type": "code",
      "source": [
        "df_clean.groupby('runtime')['vote_average'].mean().plot(figsize = (13,5),xticks=np.arange(0,1000,100))\n",
        "\n",
        "#setup the title of the figure\n",
        "plt.title(\"Runtime Vs vote_average\",fontsize = 14)\n",
        "plt.xlabel('Runtime',fontsize = 13)\n",
        "plt.ylabel('vote average',fontsize = 13)\n",
        "#setup the figure size.\n",
        "sns.set(rc={'figure.figsize':(10,10)})\n",
        "sns.set_style(\"whitegrid\")"
      ],
      "metadata": {
        "colab": {
          "base_uri": "https://localhost:8080/",
          "height": 356
        },
        "id": "sl-FACJylC1q",
        "outputId": "fcef9180-f9cd-4ada-da26-771e89aac3c1"
      },
      "id": "sl-FACJylC1q",
      "execution_count": 96,
      "outputs": [
        {
          "output_type": "display_data",
          "data": {
            "text/plain": [
              "<Figure size 936x360 with 1 Axes>"
            ],
            "image/png": "[encoded data removed]"
          },
          "metadata": {}
        }
      ]
    },
    {
      "cell_type": "markdown",
      "source": [
        "there is no strong relation between them"
      ],
      "metadata": {
        "id": "ShNKdWWtllIc"
      },
      "id": "ShNKdWWtllIc"
    },
    {
      "cell_type": "markdown",
      "source": [
        "Find the top 5 movies with the highest rate, and find if there anything common between them."
      ],
      "metadata": {
        "id": "FYCsWMmbraNr"
      },
      "id": "FYCsWMmbraNr"
    },
    {
      "cell_type": "code",
      "source": [
        "#top 5 highets rated movies.\n",
        "#sort the 'vote_average' column in decending order and store it in the new dataframe.\n",
        "info = pd.DataFrame(df_clean['vote_average'].sort_values(ascending = False))\n",
        "print(info['vote_average'][:5])\n",
        "info['original_title'] = df_clean['original_title']\n",
        "print(info['original_title'][:5])"
      ],
      "metadata": {
        "colab": {
          "base_uri": "https://localhost:8080/"
        },
        "id": "q2mYqhCwpcWf",
        "outputId": "21ba1d4e-50eb-4df0-dace-b661a1b206b0"
      },
      "id": "q2mYqhCwpcWf",
      "execution_count": 138,
      "outputs": [
        {
          "output_type": "stream",
          "name": "stdout",
          "text": [
            "4247    10.0\n",
            "4045    10.0\n",
            "2386     9.3\n",
            "1881     8.5\n",
            "3337     8.4\n",
            "Name: vote_average, dtype: float64\n",
            "4247       Me You and Five Bucks\n",
            "4045       Dancer, Texas Pop. 81\n",
            "2386              One Man's Hero\n",
            "1881    The Shawshank Redemption\n",
            "3337               The Godfather\n",
            "Name: original_title, dtype: object\n"
          ]
        }
      ]
    },
    {
      "cell_type": "code",
      "execution_count": 149,
      "metadata": {
        "id": "7ec87260",
        "colab": {
          "base_uri": "https://localhost:8080/"
        },
        "outputId": "526d1f32-d149-47dd-a286-d834933af0c5"
      },
      "outputs": [
        {
          "output_type": "stream",
          "name": "stdout",
          "text": [
            "265                   The Cat in the Hat\n",
            "4414    ZMD: Zombies of Mass Destruction\n",
            "4420                          Black Rock\n",
            "4421                       Truth or Dare\n",
            "4426                         A Fine Step\n",
            "Name: original_title, dtype: object\n"
          ]
        }
      ],
      "source": [
        "### Find the most unsuccessful movie along time in terms of revenue - budget ###\n",
        "info = pd.DataFrame(df_clean['revenue'].sort_values(ascending = True))\n",
        "info = pd.DataFrame(df_clean['budget'].sort_values(ascending = True))\n",
        "info['original_title'] = df_clean['original_title']\n",
        "print(info['original_title'][:5])\n"
      ],
      "id": "7ec87260"
    },
    {
      "cell_type": "code",
      "execution_count": 150,
      "metadata": {
        "id": "f33e1ef0"
      },
      "outputs": [],
      "source": [
        "### Rearange the dataframe based on vote_average column values ###\n",
        "df_clean.sort_values([\"vote_average\"], axis=0,\n",
        "                 ascending=True, inplace=True)"
      ],
      "id": "f33e1ef0"
    },
    {
      "cell_type": "code",
      "execution_count": 151,
      "metadata": {
        "id": "7afae7b1"
      },
      "outputs": [],
      "source": [
        "### Rearange the dataframe based on runtime column values ###\n",
        "df_clean.sort_values([\"runtime\"], axis=0,\n",
        "                 ascending=True, inplace=True)\n"
      ],
      "id": "7afae7b1"
    },
    {
      "cell_type": "code",
      "execution_count": null,
      "metadata": {
        "id": "68404b64"
      },
      "outputs": [],
      "source": [
        "### Find the top 5 successful years for the USA cinema based on the total income devided by number of movies  ###\n",
        "\n"
      ],
      "id": "68404b64"
    },
    {
      "cell_type": "code",
      "execution_count": null,
      "metadata": {
        "id": "332a581a"
      },
      "outputs": [],
      "source": [
        "### Find the most succesfull movie in [USA, UK] ###\n",
        "\n"
      ],
      "id": "332a581a"
    },
    {
      "cell_type": "code",
      "execution_count": 143,
      "metadata": {
        "id": "b83b49f9",
        "colab": {
          "base_uri": "https://localhost:8080/",
          "height": 723
        },
        "outputId": "f3e12221-d65e-43b6-c216-39d104af8cc6"
      },
      "outputs": [
        {
          "output_type": "stream",
          "name": "stdout",
          "text": [
            "0.7720604039478292\n",
            "the vote count is the highest variable that affects the revenue value : 0.7720604039478292\n"
          ]
        },
        {
          "output_type": "display_data",
          "data": {
            "text/plain": [
              "<Figure size 720x720 with 2 Axes>"
            ],
            "image/png": "[encoded data removed]"
          },
          "metadata": {}
        }
      ],
      "source": [
        "### In your opinion what is the highest variable that affects the revenue value (high coloration) ### PONUS\n",
        "print(df_clean['revenue'].corr(df_clean['vote_count']))\n",
        "corr = df_clean.corr()\n",
        "sns.heatmap(corr)\n",
        "print(\"the vote count is the highest variable that affects the revenue value :\",0.7720604039478292)"
      ],
      "id": "b83b49f9"
    },
    {
      "cell_type": "markdown",
      "metadata": {
        "id": "a3ec6afe"
      },
      "source": [
        "#  <span style=\"color:brown\">Problem 16\n",
        "\n",
        "## <span style=\"color:blue\">Problem statment\n",
        "\n",
        "The content, tone, and format of job bulletins can influence the quality of the applicant pool. Overly-specific job requirements may discourage diversity. The Los Angeles Mayor’s Office wants to reimagine the city’s job bulletins by using text analysis to identify needed improvements, in order to achive this use the daatset in the relative diretcotry ./Datasets/la_jobs.csv, and this is the decomentation for the useful columns you should use:\n",
        "\n",
        "- FILE_NAME: The bulletins file name.\n",
        "- JOB_CLASS_TITLE: Job title.\n",
        "- JOB_CLASS_NO: Job number.\n",
        "- JOB_DUTIES: The duties of this job.\n",
        "- EDUCATION_YEARS: Number of education yeras needed to apply for this job.\n",
        "- SCHOOL_TYPE: The type of school you need to study in.\n",
        "- EDUCATION_MAJOR: The eductaion major you study in this school.\n",
        "- EXPERIENCE_LENGTH: The number of experience years needed to apply for this job .\n",
        "- FULL_TIME_PART_TIME: If the job is full time or part time or both.\n",
        "- EXP_JOB_CLASS_TITLE: The title of the job you must have experience in before applying in this job.\n",
        "- COURSE_COUNT: Number of courses neede to apply for this job.\n",
        "- COURSE_LENGTH: The course length in years or months.\n",
        "- COURSE_SUBJECT: The course subject tha is needed to be accepted in this job.\n",
        "- DRIVERS_LICENSE_REQ: Is driver license required or not for this job.\n",
        "- EXAM_TYPE: Type of exams neededin the hiring process.\n",
        "- ENTRY_SALARY: Salary range in this job.\n",
        "- OPEN_DATE: Date at it the job bulliten got open.\n",
        "- REQUIREMENT_SET_TEXT: The requirments set need for this job in points.\n",
        "\n",
        "    \n",
        "\n",
        "#### The goal is to answer the following questions\n",
        " "
      ],
      "id": "a3ec6afe"
    },
    {
      "cell_type": "markdown",
      "metadata": {
        "id": "396bd69e"
      },
      "source": [
        "### <span style=\"color:brown\">Q1:\n",
        "\n",
        "A non-experienced job seeker wants to know what is the best job for him?"
      ],
      "id": "396bd69e"
    },
    {
      "cell_type": "code",
      "execution_count": null,
      "metadata": {
        "id": "ec5e2906"
      },
      "outputs": [],
      "source": [
        "### Write your answer here ###\n",
        "\n",
        "# Load data \n",
        "file_path = \"/content/la_jobs.csv\"\n",
        "df2 = pd.read_csv(file_path)\n",
        "#and print out (first 10 rows).\n",
        "df2.head(10)"
      ],
      "id": "ec5e2906"
    },
    {
      "cell_type": "code",
      "source": [
        "print(df2.isnull().values.any())\n",
        "# a list of all nans summations of each column\n",
        "print(df2.isnull().sum())"
      ],
      "metadata": {
        "colab": {
          "base_uri": "https://localhost:8080/"
        },
        "id": "SHw0w1VB0msC",
        "outputId": "daf47ea8-3456-4649-c0ee-c958b40d700b"
      },
      "id": "SHw0w1VB0msC",
      "execution_count": 153,
      "outputs": [
        {
          "output_type": "stream",
          "name": "stdout",
          "text": [
            "False\n",
            "Unnamed: 0                 0\n",
            "FILE_NAME                  0\n",
            "JOB_CLASS_TITLE            0\n",
            "JOB_CLASS_NO               0\n",
            "REQUIREMENT_SET_ID         0\n",
            "REQUIREMENT_SUBSET_ID      0\n",
            "JOB_DUTIES                 0\n",
            "EDUCATION_YEARS            0\n",
            "SCHOOL_TYPE                0\n",
            "EDUCATION_MAJOR            0\n",
            "EXPERIENCE_LENGTH          0\n",
            "FULL_TIME_PART_TIME        0\n",
            "EXP_JOB_CLASS_TITLE        0\n",
            "EXP_JOB_CLASS_ALT_RESP     0\n",
            "EXP_JOB_CLASS_FUNCTION     0\n",
            "COURSE_COUNT               0\n",
            "COURSE_LENGTH              0\n",
            "COURSE_SUBJECT             0\n",
            "MISC_COURSE_DETAILS        0\n",
            "DRIVERS_LICENSE_REQ        0\n",
            "DRIV_LIC_TYPE              0\n",
            "ADDTL_LIC                  0\n",
            "EXAM_TYPE                  0\n",
            "ENTRY_SALARY_GEN           0\n",
            "ENTRY_SALARY_DWP           0\n",
            "OPEN_DATE                  0\n",
            "REQUIREMENT_SET_TEXT       0\n",
            "REQUIREMENT_SUBSET_TEXT    0\n",
            "REQUIREMENT_CONJUNCTION    0\n",
            "dtype: int64\n"
          ]
        }
      ]
    },
    {
      "cell_type": "markdown",
      "metadata": {
        "id": "86abeb40"
      },
      "source": [
        "### <span style=\"color:brown\">Q2:\n",
        "\n",
        "A concerned parents contacts you to tell them if there is a spicific school type that would guaranteed for their child a good future if you can tell, and which is it ?"
      ],
      "id": "86abeb40"
    },
    {
      "cell_type": "code",
      "execution_count": null,
      "metadata": {
        "id": "2649be23"
      },
      "outputs": [],
      "source": [
        "### Write your answer here ###"
      ],
      "id": "2649be23"
    },
    {
      "cell_type": "markdown",
      "metadata": {
        "id": "9b2d5bb5"
      },
      "source": [
        "### <span style=\"color:brown\">Q3:\n",
        "\n",
        "What the best time in the year to be ready for a job applying in any experience level?"
      ],
      "id": "9b2d5bb5"
    },
    {
      "cell_type": "code",
      "execution_count": null,
      "metadata": {
        "id": "1d328d4d"
      },
      "outputs": [],
      "source": [
        "### Write your answer here ###"
      ],
      "id": "1d328d4d"
    },
    {
      "cell_type": "markdown",
      "metadata": {
        "id": "ca3d3f6d"
      },
      "source": [
        "### <span style=\"color:brown\">Q4:\n",
        "\n",
        "Is experience more important than educational level?"
      ],
      "id": "ca3d3f6d"
    },
    {
      "cell_type": "code",
      "execution_count": null,
      "metadata": {
        "id": "4b2ed29c"
      },
      "outputs": [],
      "source": [
        "### Write your answer here ###"
      ],
      "id": "4b2ed29c"
    },
    {
      "cell_type": "markdown",
      "metadata": {
        "id": "677aa4be"
      },
      "source": [
        "### <span style=\"color:brown\">Q5:\n",
        "\n",
        "Which fresh grade job that will guarantee many job offers in the future for him?"
      ],
      "id": "677aa4be"
    },
    {
      "cell_type": "code",
      "execution_count": null,
      "metadata": {
        "id": "615eb576"
      },
      "outputs": [],
      "source": [
        "### Write your answer here ###"
      ],
      "id": "615eb576"
    },
    {
      "cell_type": "markdown",
      "metadata": {
        "id": "8db3bb10"
      },
      "source": [
        "### <span style=\"color:brown\">Q6:\n",
        "\n",
        "\"The City of Los Angeles does not discriminate on the basis of race, religion, national origin, sex, age, marital status, sexual orientation, gender identity, gender expression, disability, creed, color, ancestry, medical condition (cancer), or Acquired Immune Deficiency Syndrome.\n",
        "\n",
        "AN EQUAL EMPLOYMENT OPPORTUNITY EMPLOYER \n",
        "\"\n",
        "\n",
        "The above statment is qouted from one of the job descriptions.\n",
        "\n",
        "Based on the jobs requirments column above do you think that LA governate may bais a little for men over women or the applicant marital status for example may effect his chance to gain the job?"
      ],
      "id": "8db3bb10"
    },
    {
      "cell_type": "code",
      "execution_count": null,
      "metadata": {
        "id": "ae78ea6b"
      },
      "outputs": [],
      "source": [
        "### Write your answer here ###"
      ],
      "id": "ae78ea6b"
    },
    {
      "cell_type": "markdown",
      "metadata": {
        "id": "549a5513"
      },
      "source": [
        "#  <span style=\"color:brown\">Pythone Implementation"
      ],
      "id": "549a5513"
    },
    {
      "cell_type": "markdown",
      "metadata": {
        "id": "5d4ec7fa"
      },
      "source": [
        "## Problem 17\n",
        "\n",
        "### <span style=\"color:Blue\">Song Recommender</span>\n",
        "\n",
        "#### <a id='seq_1'></a> Build a simple program that recommend songs to the user , based on his feelings and current mood, the songs recommendation rely on five categories:\n",
        "- Cheering\n",
        "- Sad\n",
        "- In Love\n",
        "- Motivated\n",
        "- Calm\n",
        "\n",
        "#### Each song has a total score of 5 for each category, so you should ask the user for his percentage for each category, with a simple restriction that the category score must not exceed 5.\n",
        "#### Then you should find the closest song to his feelings based on a simple difference calculation equation shown below:\n",
        "$ \\sqrt{(I_1 - R_1)^2 + (I_2 - R_2)^2 + (I_3 - R_3)^2 + (I_4 - R_4)^2} $\n",
        "##### As $ I_i $ is the input feeling value number i, and $ R_i $ is the refrence feeling value number i, as  $ i <= 4 $\n",
        "##### you will find below in the coding cell a nested dictionary with all the songs and its scores for each category, and also atatched in each dictionary a link to the song in youtube.\n",
        "\n",
        "#### Output Discription:\n",
        "|Case|Output|\n",
        "|--|--|\n",
        "|Standard|Song Name<br>Link to the video in youtube|\n",
        "\n",
        "#### Notes\n",
        "- The input categories order is as [above](#seq_1)\n",
        "- Make sure the score for each category is 5 at max.\n",
        "- All inputs must be casted to float.\n",
        "- The songs are listed in a nested dictionary with values of each category down below."
      ],
      "id": "5d4ec7fa"
    },
    {
      "cell_type": "code",
      "source": [
        "#convert from .pkl to .csv\n",
        "import pickle as pkl\n",
        "import pandas as pd\n",
        "with open(\"/content/dict_of_songs.pkl\", \"rb\") as f:\n",
        "    object = pkl.load(f)\n",
        "    \n",
        "df = pd.DataFrame(object)\n",
        "df.to_csv(r'songs.csv')\n",
        "print(df)"
      ],
      "metadata": {
        "colab": {
          "base_uri": "https://localhost:8080/"
        },
        "id": "s_7SeXmq2pUR",
        "outputId": "1b6a7ed6-d8a4-44d0-b761-75d2a6130e7c"
      },
      "id": "s_7SeXmq2pUR",
      "execution_count": 224,
      "outputs": [
        {
          "output_type": "stream",
          "name": "stdout",
          "text": [
            "                                Ed Sheeran - Perfect  \\\n",
            "0  {'Cheering': 3, 'Sad': 0, 'In love': 5, 'Motiv...   \n",
            "1        https://www.youtube.com/watch?v=2Vv-BfVoq4g   \n",
            "\n",
            "                              George Ezra - Budapest  \\\n",
            "0  {'Cheering': 1, 'Sad': 0, 'In love': 5, 'Motiv...   \n",
            "1        https://www.youtube.com/watch?v=VHrLPs3_1Fs   \n",
            "\n",
            "                           Mark Ronson - Uptown Funk  \\\n",
            "0  {'Cheering': 5, 'Sad': 0, 'In love': 2, 'Motiv...   \n",
            "1        https://www.youtube.com/watch?v=OPf0YbXqDm0   \n",
            "\n",
            "                                    Maroon 5 - Sugar  \\\n",
            "0  {'Cheering': 5, 'Sad': 0, 'In love': 4, 'Motiv...   \n",
            "1        https://www.youtube.com/watch?v=09R8_2nJtjg   \n",
            "\n",
            "                  The Lumineers - Sleep On The Floor  \\\n",
            "0  {'Cheering': 1, 'Sad': 4, 'In love': 4, 'Motiv...   \n",
            "1        https://www.youtube.com/watch?v=v4pi1LxuDHc   \n",
            "\n",
            "                            Imagine Dragons - Demons  \\\n",
            "0  {'Cheering': 3, 'Sad': 3, 'In love': 0, 'Motiv...   \n",
            "1        https://www.youtube.com/watch?v=mWRsgZuwf_8   \n",
            "\n",
            "                     David Guetta - Titanium ft. Sia  \\\n",
            "0  {'Cheering': 4, 'Sad': 1, 'In love': 0, 'Motiv...   \n",
            "1        https://www.youtube.com/watch?v=JRfuAukYTKg   \n",
            "\n",
            "                                   Linki Park - Numb  \\\n",
            "0  {'Cheering': 0, 'Sad': 5, 'In love': 0, 'Motiv...   \n",
            "1        https://www.youtube.com/watch?v=kXYiU_JCYtU   \n",
            "\n",
            "                       Lord Huron - The Night We Met  \\\n",
            "0  {'Cheering': 0, 'Sad': 5, 'In love': 5, 'Motiv...   \n",
            "1        https://www.youtube.com/watch?v=wGF7PswOENQ   \n",
            "\n",
            "                   Lana Del Rey - Summertime Sadness  \\\n",
            "0  {'Cheering': 0, 'Sad': 5, 'In love': 5, 'Motiv...   \n",
            "1        https://www.youtube.com/watch?v=TdrL3QxjyVw   \n",
            "\n",
            "                                    LP - Lost On You  \\\n",
            "0  {'Cheering': 0, 'Sad': 5, 'In love': 2, 'Motiv...   \n",
            "1        https://www.youtube.com/watch?v=wDjeBNv6ip0   \n",
            "\n",
            "             Rocky III • Eye of the Tiger • Survivor  \\\n",
            "0  {'Cheering': 5, 'Sad': 0, 'In love': 0, 'Motiv...   \n",
            "1        https://www.youtube.com/watch?v=ERT_7u5L0dc   \n",
            "\n",
            "                           The Script - Hall of Fame  \\\n",
            "0  {'Cheering': 4, 'Sad': 2, 'In love': 0, 'Motiv...   \n",
            "1        https://www.youtube.com/watch?v=mk48xRzuNvA   \n",
            "\n",
            "                Mike Posner - I Took A Pill In Ibiza  \\\n",
            "0  {'Cheering': 1, 'Sad': 5, 'In love': 0, 'Motiv...   \n",
            "1        https://www.youtube.com/watch?v=foE1mO2yM04   \n",
            "\n",
            "                          London Grammar - Nightcall  \\\n",
            "0  {'Cheering': 0, 'Sad': 5, 'In love': 0, 'Motiv...   \n",
            "1        https://www.youtube.com/watch?v=OZYw0MQp_fI   \n",
            "\n",
            "                          Lykke Li - I Follow Rivers  \n",
            "0  {'Cheering': 2, 'Sad': 5, 'In love': 5, 'Motiv...  \n",
            "1        https://www.youtube.com/watch?v=vZYbEL06lEU  \n"
          ]
        }
      ]
    },
    {
      "cell_type": "code",
      "source": [
        "print(\"enter your feeling score for each category is 5 at max\")\n",
        "Cheering=float(input(\"Enter your cheering feeling score: \"))\n",
        "Sad=float(input(\"Enter your sad feeling score: \"))\n",
        "In_Love=float(input(\"Enter your in_love feeling score: \"))\n",
        "Motivated=float(input(\"Enter your motivation feeling score: \"))\n",
        "Calm=float(input(\"Enter your calm feeling score: \"))\n"
      ],
      "metadata": {
        "colab": {
          "base_uri": "https://localhost:8080/"
        },
        "id": "rBGWcwrz5l4q",
        "outputId": "0f76eed9-f2e9-4091-ff9d-d6967adaf8af"
      },
      "id": "rBGWcwrz5l4q",
      "execution_count": 215,
      "outputs": [
        {
          "name": "stdout",
          "output_type": "stream",
          "text": [
            "enter your feeling score for each category is 5 at max\n",
            "Enter your cheering feeling score: 0\n",
            "Enter your sad feeling score: 5\n",
            "Enter your in_love feeling score: 0\n",
            "Enter your motivation feeling score: 0\n",
            "Enter your calm feeling score: 0\n"
          ]
        }
      ]
    },
    {
      "cell_type": "code",
      "execution_count": 223,
      "metadata": {
        "id": "c3583bc6",
        "colab": {
          "base_uri": "https://localhost:8080/"
        },
        "outputId": "5ccf3531-76b0-4b93-c365-74850d1fc8f5"
      },
      "outputs": [
        {
          "output_type": "stream",
          "name": "stdout",
          "text": [
            "9.1104335791443\n",
            "Maroon 5 - Sugar\n",
            "https://www.youtube.com/watch?v=09R8_2nJtjg\n"
          ]
        }
      ],
      "source": [
        "### Write your answer here ###\n",
        "import math\n",
        "max=0\n",
        "col_name =['Ed Sheeran - Perfect','George Ezra - Budapest','Mark Ronson - Uptown Funk','Maroon 5 - Sugar',\n",
        "       'The Lumineers - Sleep On The Floor','Imagine Dragons - Demons','David Guetta - Titanium ft. Sia',\n",
        "       'Linki Park - Numb','Lord Huron - The Night We Met','Lana Del Rey - Summertime Sadness',\n",
        "       'LP - Lost On You','Rocky III â€¢ Eye of the Tiger â€¢ Survivor','The Script - Hall of Fame',\n",
        "       'Mike Posner - I Took A Pill In Ibiza','London Grammar - Nightcall',\n",
        "       'Lykke Li - I Follow Rivers']\n",
        "idx=0 \n",
        "for i in df:\n",
        "    song=df[i][0]\n",
        "    cheering=float(song.get('Cheering'))\n",
        "    sad=float(song.get('Sad'))\n",
        "    in_love=float(song.get('In love'))\n",
        "    motivation=float(song.get('Motivated'))\n",
        "    calm=float(song.get('Calm'))\n",
        "  \n",
        "    eq=(Cheering-cheering)**(2)+(Sad-sad)**(2)+(In_Love-in_love)**(2)+(Motivated-motivation)**(2)+(Calm-calm)**(2)\n",
        "    sqrt = math.sqrt(eq)\n",
        "    #print(sqrt)\n",
        "    if(sqrt>max):\n",
        "      max=sqrt\n",
        "      song_name=col_name[idx]\n",
        "      link=df[i][1]\n",
        "    idx +=1\n",
        "print(max)\n",
        "print(song_name)\n",
        "print(link)\n",
        "\n",
        "\n"
      ],
      "id": "c3583bc6"
    },
    {
      "cell_type": "markdown",
      "metadata": {
        "id": "51ed13e3"
      },
      "source": [
        "## Good Luck"
      ],
      "id": "51ed13e3"
    }
  ],
  "metadata": {
    "colab": {
      "collapsed_sections": [
        "eebe09b9",
        "d1ce0e7b",
        "4f3f15ba",
        "685a30dd",
        "56ead3a8",
        "677aa4be",
        "8db3bb10",
        "5d4ec7fa",
        "51ed13e3"
      ],
      "name": "Tahluf_task.ipynb",
      "provenance": [],
      "include_colab_link": true
    },
    "kernelspec": {
      "display_name": "Python 3 (ipykernel)",
      "language": "python",
      "name": "python3"
    },
    "language_info": {
      "codemirror_mode": {
        "name": "ipython",
        "version": 3
      },
      "file_extension": ".py",
      "mimetype": "text/x-python",
      "name": "python",
      "nbconvert_exporter": "python",
      "pygments_lexer": "ipython3",
      "version": "3.9.7"
    }
  },
  "nbformat": 4,
  "nbformat_minor": 5
}