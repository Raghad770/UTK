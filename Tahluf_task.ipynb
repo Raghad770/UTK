{
  "cells": [
    {
      "cell_type": "markdown",
      "metadata": {
        "id": "view-in-github",
        "colab_type": "text"
      },
      "source": [
        "<a href=\"https://colab.research.google.com/github/Raghad770/UTK/blob/main/Tahluf_task.ipynb\" target=\"_parent\"><img src=\"https://colab.research.google.com/assets/colab-badge.svg\" alt=\"Open In Colab\"/></a>"
      ]
    },
    {
      "cell_type": "markdown",
      "id": "9fe7273d",
      "metadata": {
        "id": "9fe7273d"
      },
      "source": [
        "# Part-2 Coding Exam\n",
        "\n",
        "## Outlines\n",
        "\n",
        "- Creating Arrays\n",
        "- Initial Placeholders\n",
        "- Array Inspection\n",
        "- Array Mathematics\n",
        "- Array Manipulation\n",
        "- DataFrame\n",
        "- Selecting, Boolean Indexing & Setting\n",
        "- Dropping\n",
        "- Retrieving DataFrame Information\n",
        "\n",
        "## Notes\n",
        "- All problems MUST be solved\n",
        "- Read the problems well, before you start solving.\n",
        "- The solution MUST pass all the test cases\n",
        "- Feel free to add more cells to develope the program, BUT make sure you gather them in ONE adequately working code cell.  \n",
        "- You also should create all the numpy input arrays first.\n",
        "\n",
        "### This exam consists of 34 mini-questions based on what you toke in session and also on some simple research you should make online.\n",
        "\n",
        "#### Good Luck"
      ]
    },
    {
      "cell_type": "markdown",
      "id": "3bfe0c94",
      "metadata": {
        "id": "3bfe0c94"
      },
      "source": [
        "# Pandas and Numpy"
      ]
    },
    {
      "cell_type": "markdown",
      "id": "b9c397ee",
      "metadata": {
        "id": "b9c397ee"
      },
      "source": [
        "## Problem 1\n",
        "\n",
        "#### Write a NumPy program to test whether each element of a 1-D array is also present in a second array.\n",
        "#### Expected Output:\n",
        "#### Array1: [ 0 10 20 40 60]\n",
        "#### Array2: [0, 40]\n",
        "#### Compare each element of array1 and array2\n",
        "#### Output: [ True False False True False]"
      ]
    },
    {
      "cell_type": "code",
      "source": [
        "import numpy as np"
      ],
      "metadata": {
        "id": "K7-g4oCUKrTY"
      },
      "id": "K7-g4oCUKrTY",
      "execution_count": null,
      "outputs": []
    },
    {
      "cell_type": "code",
      "execution_count": null,
      "id": "09271c3e",
      "metadata": {
        "colab": {
          "base_uri": "https://localhost:8080/"
        },
        "id": "09271c3e",
        "outputId": "8bd5d5c4-84de-4ee0-ac06-d46efc426a37"
      },
      "outputs": [
        {
          "output_type": "stream",
          "name": "stdout",
          "text": [
            "['True', 'False', 'False', 'True', 'False']\n"
          ]
        }
      ],
      "source": [
        "### Write Your Code Here ###\n",
        "Arr1=[ 0,10, 20, 40, 60]\n",
        "Arr2=[0, 40]\n",
        "out_arr=[]\n",
        "flag='false'\n",
        "for i in range(max(len(Arr1),len(Arr2))):\n",
        "  for j in range(min(len(Arr1),len(Arr2))):\n",
        "    if(Arr1[i]==Arr2[j]):\n",
        "      flag='true'\n",
        "      break\n",
        "    else:\n",
        "      flag='false'\n",
        "  if(flag=='true'):\n",
        "      out_arr.append('True')       \n",
        "  else:\n",
        "       out_arr.append('False')  \n",
        "   \n",
        "print(out_arr)\n",
        "  "
      ]
    },
    {
      "cell_type": "markdown",
      "id": "80025289",
      "metadata": {
        "id": "80025289"
      },
      "source": [
        "## Problem 2\n",
        "#### Write a NumPy program to get the unique elements of an array\n",
        "#### Expected Output:\n",
        "#### Original array:\n",
        "#### [10 10 20 20 30 30]\n",
        "#### Unique elements of the above array:\n",
        "#### [10 20 30]\n",
        "#### Original array:\n",
        "#### [[1 1]\n",
        "#### [2 3]]\n",
        "#### Unique elements of the above array:\n",
        "#### [1 2 3]"
      ]
    },
    {
      "cell_type": "code",
      "execution_count": null,
      "id": "e3b40f43",
      "metadata": {
        "id": "e3b40f43",
        "colab": {
          "base_uri": "https://localhost:8080/"
        },
        "outputId": "2ce4ba6c-173f-436a-8c5d-b923b2219593"
      },
      "outputs": [
        {
          "output_type": "stream",
          "name": "stdout",
          "text": [
            "original array\n",
            "[1 1 2 3]\n",
            "Unique elements of the above array:\n",
            "[1, 2, 3]\n",
            "original array\n",
            "[10 10 20 20 30 30]\n",
            "Unique elements of the above array:\n",
            "[10, 20, 30]\n"
          ]
        }
      ],
      "source": [
        "### Write Your Code Here ###\n",
        "arr1=np.array([[1, 1]\n",
        ",[2, 3]])\n",
        "arr2=np.array([10, 10, 20, 20, 30, 30])\n",
        "arr1=arr1.flatten()\n",
        "arr2=arr2.flatten()\n",
        "\n",
        "def unique(list1):\n",
        "  print(\"original array\")\n",
        "  print(list1)\n",
        "  # initialize a null list\n",
        "  unique_list = []   \n",
        "  # traverse for all elements\n",
        "  for x in list1:\n",
        "  # check if exists in unique_list or not\n",
        "        if x not in unique_list:\n",
        "            unique_list.append(x)\n",
        "  print(\"Unique elements of the above array:\")         \n",
        "  print(unique_list)\n",
        "\n",
        "unique(arr1)\n",
        "unique(arr2)\n",
        "\n",
        "#print(arr2)\n"
      ]
    },
    {
      "cell_type": "markdown",
      "id": "30dfb8cb",
      "metadata": {
        "id": "30dfb8cb"
      },
      "source": [
        "## Problem 3\n",
        "#### Write a NumPy program to sort an along the first, last axis of an array.\n",
        "#### Sample array: [[2,5],[4,4]]\n",
        "#### Expected Output:\n",
        "#### Original array:\n",
        "#### [[4 6]\n",
        "#### [2 1]]\n",
        "#### Sort along the first axis:\n",
        "#### [[2 1]\n",
        "#### [4 6]]\n",
        "#### Sort along the last axis:\n",
        "#### [[1 2]\n",
        "#### [4 6]]"
      ]
    },
    {
      "cell_type": "code",
      "execution_count": null,
      "id": "3ffbb5df",
      "metadata": {
        "id": "3ffbb5df",
        "colab": {
          "base_uri": "https://localhost:8080/"
        },
        "outputId": "5e14b1e5-e35f-4073-be7c-30c798b6b54e"
      },
      "outputs": [
        {
          "output_type": "stream",
          "name": "stdout",
          "text": [
            "Original array: \n",
            "[[2 5]\n",
            " [4 4]]\n",
            "Sort along the first axis: \n",
            "[[2 4]\n",
            " [4 5]]\n",
            "Sort along the last axis: \n",
            "[[2 4]\n",
            " [4 5]]\n"
          ]
        }
      ],
      "source": [
        "### Write Your Code Here ###\n",
        "arr3 = np.array([[2,5],[4,4]])\n",
        "print(\"Original array: \")\n",
        "print(arr3)\n",
        "print(\"Sort along the first axis: \")\n",
        "x = np.sort(arr3, axis=0)\n",
        "print(x)\n",
        "print(\"Sort along the last axis: \")\n",
        "y = np.sort(x, axis=1)\n",
        "print(y)"
      ]
    },
    {
      "cell_type": "markdown",
      "id": "972e1237",
      "metadata": {
        "id": "972e1237"
      },
      "source": [
        "## Problem 4\n",
        "#### Write a NumPy program to count the occurrence of a specified item in a given NumPy array.\n",
        "#### Sample Output:\n",
        "#### Original array:\n",
        "#### [10 20 20 20 20 0 20 30 30 30 0 0 20 20 0]\n",
        "#### [4,1,7,3]"
      ]
    },
    {
      "cell_type": "code",
      "execution_count": null,
      "id": "52243fd8",
      "metadata": {
        "id": "52243fd8",
        "colab": {
          "base_uri": "https://localhost:8080/"
        },
        "outputId": "75a189ae-bebf-4cd6-a9df-52314ce71ac5"
      },
      "outputs": [
        {
          "output_type": "stream",
          "name": "stdout",
          "text": [
            "original array:\n",
            "[10 20 20 20 20  0 20 30 30 30  0  0 20 20  0]\n",
            "[4, 1, 7, 3]\n"
          ]
        }
      ],
      "source": [
        "### Write Your Code Here ###\n",
        "arr4=np.array([10, 20, 20 ,20 ,20, 0, 20, 30, 30, 30, 0, 0, 20, 20, 0])\n",
        "item=[0,10,20,30]\n",
        "list=[]\n",
        "def occurenc(org_arr,items):\n",
        "  print(\"original array:\")\n",
        "  print(org_arr)\n",
        "  for i in item:\n",
        "    count=0\n",
        "    for j in arr4:\n",
        "      if i==j:\n",
        "        count=count+1\n",
        "    list.append(count)\n",
        "  print(list)\n",
        "\n",
        "occurenc(arr4,item)\n"
      ]
    },
    {
      "cell_type": "markdown",
      "id": "95f5fcf8",
      "metadata": {
        "id": "95f5fcf8"
      },
      "source": [
        "## Problem 5\n",
        "#### Write a NumPy program to remove nan values from a given array.\n",
        "#### Sample Output:\n",
        "#### Original array:\n",
        "#### [200. 300. nan nan nan 700.]\n",
        "#### After removing nan values:\n",
        "#### [200. 300. 700.]"
      ]
    },
    {
      "cell_type": "code",
      "execution_count": null,
      "id": "82efca10",
      "metadata": {
        "id": "82efca10",
        "colab": {
          "base_uri": "https://localhost:8080/"
        },
        "outputId": "d6caedcb-2a95-4747-a505-1c82e6280485"
      },
      "outputs": [
        {
          "output_type": "stream",
          "name": "stdout",
          "text": [
            "original array\n",
            "[200. 300.  nan  nan  nan 700.]\n",
            "after removing nan values\n",
            "[200. 300. 700.]\n"
          ]
        }
      ],
      "source": [
        "### Write Your Code Here ###\n",
        "# we can use np.nan\n",
        "arr5=np.array([200., 300. ,np.nan ,np.nan ,np.nan, 700.])\n",
        "print('original array')\n",
        "print(arr5)\n",
        "# remove nan values using numpy.isnan()\n",
        "# and numpy.logical_not\n",
        "b = arr5[np.logical_not(np.isnan(arr5))]\n",
        "print('after removing nan values')\n",
        "print(b)\n",
        "\n"
      ]
    },
    {
      "cell_type": "markdown",
      "id": "d5bca96c",
      "metadata": {
        "id": "d5bca96c"
      },
      "source": [
        "## Problem 6\n",
        "#### Write a NumPy program to calculate percentiles for a sequence or single-dimensional NumPy array.\n",
        "#### Sample Output:\n",
        "#### 50th percentile (median):\n",
        "#### 3.0\n",
        "#### 40th percentile:\n",
        "#### 2.6\n",
        "#### 90th percentile:\n",
        "#### 4.6"
      ]
    },
    {
      "cell_type": "code",
      "execution_count": null,
      "id": "5eea8266",
      "metadata": {
        "id": "5eea8266"
      },
      "outputs": [],
      "source": [
        "### Write Your Code Here ###"
      ]
    },
    {
      "cell_type": "markdown",
      "id": "ed27b631",
      "metadata": {
        "id": "ed27b631"
      },
      "source": [
        "## Problem 7\n",
        "#### Write a NumPy program to find indices of elements equal to zero in a NumPy array.\n",
        "#### Sample Output:\n",
        "#### Original array:\n",
        "#### [1 0 2 0 3 0 4 5 6 7 8]\n",
        "#### Indices of elements equal to zero of the said array:\n",
        "#### [1 3 5]"
      ]
    },
    {
      "cell_type": "code",
      "execution_count": null,
      "id": "583c546a",
      "metadata": {
        "id": "583c546a",
        "colab": {
          "base_uri": "https://localhost:8080/"
        },
        "outputId": "fe7c1dfe-7d93-4892-8a21-f345a9e54acc"
      },
      "outputs": [
        {
          "output_type": "stream",
          "name": "stdout",
          "text": [
            "[1, 3, 5]\n"
          ]
        }
      ],
      "source": [
        "### Write Your Program Here ###\n",
        "arr6=np.array([1 ,0 ,2 ,0 ,3 ,0 ,4 ,5 ,6 ,7 ,8])\n",
        "list=[]\n",
        "for i in range(len(arr6)):\n",
        "  if arr6[i]==0:\n",
        "    list.append(i)\n",
        "print(list)"
      ]
    },
    {
      "cell_type": "markdown",
      "id": "eebe09b9",
      "metadata": {
        "id": "eebe09b9"
      },
      "source": [
        "## Problem 8\n",
        "\n",
        "#### Write a NumPy program to round elements of the array to the nearest integer, and then calculate the abslute value element wise.\n",
        "#### Sample Output:\n",
        "#### Original array:\n",
        "#### [-0.7 -1.5 -1.7 0.3 1.5 1.8 2. ]\n",
        "#### Round elements of the array to the nearest integer:\n",
        "#### [1. 2. 2. 0. 2. 2. 2.]"
      ]
    },
    {
      "cell_type": "code",
      "execution_count": null,
      "id": "ce5fe6b3",
      "metadata": {
        "id": "ce5fe6b3",
        "colab": {
          "base_uri": "https://localhost:8080/"
        },
        "outputId": "20fd5df4-53ba-437d-a271-00666515003b"
      },
      "outputs": [
        {
          "output_type": "stream",
          "name": "stdout",
          "text": [
            "original array\n",
            "[-0.7, -1.5, -1.7, 0.3, 1.5, 1.8, 2.0]\n",
            "Round elements of the array to the nearest integer:\n",
            "[1, 2, 2, 0, 2, 2, 2]\n"
          ]
        }
      ],
      "source": [
        "### Write Your Program Here ###\n",
        "org_arr=np.array([-0.7,-1.5, -1.7, 0.3, 1.5, 1.8, 2. ])\n",
        "print(\"original array\")\n",
        "print([-0.7,-1.5, -1.7, 0.3, 1.5, 1.8, 2. ])\n",
        "list=[]\n",
        "\n",
        "def rounding(arr):\n",
        "  for x in arr:\n",
        "    if (abs(x) - abs(int(x))) < 0.5:\n",
        "        x= abs(int(x))\n",
        "    else:\n",
        "        x= abs(int(x)) + 1\n",
        "    list.append(x)\n",
        "\n",
        "rounding(org_arr)    \n",
        "print(\"Round elements of the array to the nearest integer:\")\n",
        "print(list)"
      ]
    },
    {
      "cell_type": "markdown",
      "id": "d1ce0e7b",
      "metadata": {
        "id": "d1ce0e7b"
      },
      "source": [
        "## Problem 9\n",
        "#### Write a NumPy program to calculate the difference between neighboring elements, element-wise, and prepend [0, 0] and append[200] to a given array.\n",
        "#### Sample output:\n",
        "#### Original array:\n",
        "#### [1 3 5 7 0]\n",
        "#### Difference between neighboring elements, element-wise, and prepend [0, 0] and append[200] to the said array:\n",
        "#### [ 0 0 2 2 2 -7 200]\n",
        "#### Note:  difference between neighboring elements means: $out[i] = a[i+1] - a[i]$"
      ]
    },
    {
      "cell_type": "code",
      "execution_count": null,
      "id": "bb6a6fa2",
      "metadata": {
        "id": "bb6a6fa2",
        "colab": {
          "base_uri": "https://localhost:8080/"
        },
        "outputId": "627c708e-2159-4da0-c608-3c121fa87613"
      },
      "outputs": [
        {
          "output_type": "stream",
          "name": "stdout",
          "text": [
            "original array\n",
            "[1 3 5 7 0]\n",
            "Difference between neighboring elements, element-wise, and prepend [0, 0] and append[200] to the said array:\n",
            "[0, 0, 2, 2, 2, -7, 200]\n"
          ]
        }
      ],
      "source": [
        "### Write Your Code Here ###\n",
        "arr=np.array([1 ,3 ,5 ,7 ,0])\n",
        "print(\"original array\")\n",
        "print(arr)\n",
        "arr2=[]\n",
        "arr2.append(0)\n",
        "arr2.append(0)\n",
        "for i in range(0,len(arr)-1):\n",
        "  arr2.append(arr[i+1]-arr[i])\n",
        "arr2.append(200)  \n",
        "print(\"Difference between neighboring elements, element-wise, and prepend [0, 0] and append[200] to the said array:\")\n",
        "print(arr2)"
      ]
    },
    {
      "cell_type": "markdown",
      "id": "4f3f15ba",
      "metadata": {
        "id": "4f3f15ba"
      },
      "source": [
        "## Problem 10\n",
        "#### Write a NumPy program to get the indices of the sorted elements of a given array.\n",
        "#### Expected Output:\n",
        "#### Original array:\n",
        "#### [1023 5202 6230 1671 1682 5241 4532]\n",
        "#### Indices of the sorted elements of a given array:\n",
        "#### [0 3 4 6 1 5 2]"
      ]
    },
    {
      "cell_type": "code",
      "execution_count": null,
      "id": "e94b4236",
      "metadata": {
        "id": "e94b4236",
        "colab": {
          "base_uri": "https://localhost:8080/"
        },
        "outputId": "70395e10-1270-48be-e9e0-f8108861a09d"
      },
      "outputs": [
        {
          "output_type": "stream",
          "name": "stdout",
          "text": [
            "original array\n",
            "[1023 5202 6230 1671 1682 5241 4532]\n",
            "Indices of the sorted elements of a given array:\n",
            "[0, 3, 4, 6, 1, 5, 2]\n"
          ]
        }
      ],
      "source": [
        "### Write Your Code Here ###\n",
        "arr=np.array([1023 ,5202, 6230, 1671 ,1682 ,5241 ,4532])\n",
        "list=[0,1,2,3,4,5,6]\n",
        "\n",
        "print(\"original array\")\n",
        "print(arr)\n",
        "\n",
        "for i in range(len(arr)):\n",
        "  idxj=0\n",
        "  idxi=0\n",
        "  for j in range(i+1,len(arr)):\n",
        "    if arr[j]<arr[i]:\n",
        "      x=arr[j]\n",
        "      arr[j]=arr[i]\n",
        "      arr[i]=x\n",
        "      y=list[j]\n",
        "      list[j]=list[i]\n",
        "      list[i]=y\n",
        "      \n",
        "print(\"Indices of the sorted elements of a given array:\")  \n",
        "print(list)\n",
        "\n"
      ]
    },
    {
      "cell_type": "markdown",
      "id": "685a30dd",
      "metadata": {
        "id": "685a30dd"
      },
      "source": [
        "## Problem 11\n",
        "#### Write a NumPy program to partition a given array in a specified position and move all the smaller elements values to the left of the partition, and the remaining values to the right, in arbitrary order (based on random choice).\n",
        "#### Sample output:\n",
        "#### Original array:\n",
        "#### [ 70 50 20 30 -11 60 50 40]\n",
        "#### After partitioning on 4 the position:\n",
        "#### [-11 30 20 40 50 50 60 70]"
      ]
    },
    {
      "cell_type": "code",
      "execution_count": null,
      "id": "27720142",
      "metadata": {
        "id": "27720142",
        "colab": {
          "base_uri": "https://localhost:8080/"
        },
        "outputId": "821074c1-ebd2-4e15-953d-4a57304d5a24"
      },
      "outputs": [
        {
          "output_type": "stream",
          "name": "stdout",
          "text": [
            "original array\n",
            "[ 70  50  20  30 -11  60  50  40]\n",
            "After partitioning on 4 the position:\n",
            "[-11.  70.  50.  20.  30.  60.  50.  40.]\n"
          ]
        }
      ],
      "source": [
        "### Write Your Code Here ###\n",
        "import numpy as np\n",
        "arr=np.array([ 70, 50, 20, 30, -11, 60, 50 ,40])\n",
        "#arr=np.array([ 70, -85, 20, 30, -11, 60, -90 ,40]) for testing\n",
        "print(\"original array\")\n",
        "print(arr)\n",
        "part=4\n",
        "smallList=[]\n",
        "greatList=[]\n",
        "list=[]\n",
        "def partitioning(part,org_arr):\n",
        "  for i in range(len(arr)):\n",
        "    if arr[i]<arr[part]:\n",
        "      smallList.append(arr[i]) \n",
        "\n",
        "    elif arr[i]>arr[part]:\n",
        "      greatList.append(arr[i])\n",
        "     \n",
        "  smallList.append(arr[part])\n",
        "  r1 = np.ediff1d(list, to_begin=smallList, to_end=greatList)  \n",
        "  print(\"After partitioning on 4 the position:\")\n",
        "  print(r1) \n",
        "# print(smallList)\n",
        "#print(greatList) \n",
        "partitioning(part,arr)\n",
        "\n"
      ]
    },
    {
      "cell_type": "markdown",
      "id": "56ead3a8",
      "metadata": {
        "id": "56ead3a8"
      },
      "source": [
        "## Problem 12\n",
        "#### Compute the euclidean distance between two arrays a and b.\n",
        "\n",
        "#### Input:\n",
        "#### [1,2,3,4,5]\n",
        "#### [4,5,6,7,8]\n",
        "#### Euclidean distance is: 6.7082"
      ]
    },
    {
      "cell_type": "code",
      "execution_count": null,
      "id": "3af6863f",
      "metadata": {
        "id": "3af6863f",
        "colab": {
          "base_uri": "https://localhost:8080/"
        },
        "outputId": "2cce8612-e4fe-4efc-aca7-e3c625fe7f89"
      },
      "outputs": [
        {
          "output_type": "stream",
          "name": "stdout",
          "text": [
            "Euclidean distance is: 6.708203932499369\n",
            "Euclidean distance is: 6.708203932499369\n"
          ]
        }
      ],
      "source": [
        "### Write You Program Here ###\n",
        "from numpy.linalg import norm\n",
        "arr1=np.array([1,2,3,4,5])\n",
        "arr2=np.array([4,5,6,7,8])\n",
        "\n",
        "print(\"Euclidean distance is:\",norm(arr1-arr2))\n",
        "\n",
        "#we can use the mathematical formula\n",
        "dist = np.sqrt(np.sum(np.square(arr1-arr2)))\n",
        "print(\"Euclidean distance is:\",dist)"
      ]
    },
    {
      "cell_type": "markdown",
      "id": "65859ed2",
      "metadata": {
        "id": "65859ed2"
      },
      "source": [
        "## Problem 13\n",
        "#### Find all the peaks in a 1D numpy array a. Peaks are points surrounded by smaller values on both sides.\n",
        "\n",
        "#### Input:\n",
        "\n",
        "#### array([1, 3, 7, 1, 2, 6, 0, 1])\n",
        "\n",
        "#### Desired Output:\n",
        "\n",
        "#### array( [2, 5])\n",
        "#### where, 2 and 5 are the positions of peak values 7 and 6."
      ]
    },
    {
      "cell_type": "code",
      "execution_count": null,
      "id": "29ba788f",
      "metadata": {
        "id": "29ba788f",
        "colab": {
          "base_uri": "https://localhost:8080/"
        },
        "outputId": "092ae436-77dc-4de6-dd4c-b42616bc5204"
      },
      "outputs": [
        {
          "output_type": "stream",
          "name": "stdout",
          "text": [
            "[2, 5]\n"
          ]
        }
      ],
      "source": [
        "### Write You Program Here ###\n",
        "arr=np.array([1, 3, 7, 1, 2, 6, 0, 1])\n",
        "#arr=np.array([1, 3, 7, 1, 9, 6, 8, 1]) for testing\n",
        "list=[]\n",
        "for i in range(1,len(arr)-1):\n",
        "  if arr[i]>arr[i-1] and arr[i]>arr[i+1]:\n",
        "    list.append(i)\n",
        "print(list)"
      ]
    },
    {
      "cell_type": "markdown",
      "id": "cb5de21c",
      "metadata": {
        "id": "cb5de21c"
      },
      "source": [
        "## Problem 14\n",
        "#### Find the index of nth repetition of number i .\n",
        "#### Inputs\n",
        "#### array([1, 2, 1, 1, 3, 4, 3, 1, 1, 2, 1, 1, 2])\n",
        "#### n = 5 (from user)\n",
        "#### i = 1 (from user)\n",
        "#### Output\n",
        "#### 8"
      ]
    },
    {
      "cell_type": "code",
      "execution_count": null,
      "id": "d9334d6c",
      "metadata": {
        "id": "d9334d6c",
        "colab": {
          "base_uri": "https://localhost:8080/"
        },
        "outputId": "a4187bc9-d0d7-4fb5-83a5-05d370cd6565"
      },
      "outputs": [
        {
          "output_type": "stream",
          "name": "stdout",
          "text": [
            "8\n"
          ]
        }
      ],
      "source": [
        "### Write Your Code Here ###\n",
        "arr=np.array([1, 2, 1, 1, 3, 4, 3, 1, 1, 2, 1, 1, 2])\n",
        "n=5\n",
        "i=1\n",
        "def repetition_index(n,i,arr):\n",
        "  counter=0\n",
        "  for j in range(len(arr)):\n",
        "    if counter<n:\n",
        "      if arr[j]==i:\n",
        "        counter=counter+1\n",
        "        if  counter==n:\n",
        "          idx=j\n",
        "          print(idx)\n",
        "    if j==len(arr)-1 and counter !=n:\n",
        "      print(\"there is no nth repetion for this number\")   # for handling more cases\n",
        "\n",
        "\n",
        "repetition_index(n,i,arr)\n",
        "\n"
      ]
    },
    {
      "cell_type": "markdown",
      "id": "93888fd4",
      "metadata": {
        "id": "93888fd4"
      },
      "source": [
        "## Problem 15\n",
        "### In order to solve this set of questions you will use the dataset in the relative directory ./Datasets/tmdb_5000_movies.csv\n"
      ]
    },
    {
      "cell_type": "markdown",
      "source": [
        "**Open Your CSV file and print the first 10 rows in a good format**"
      ],
      "metadata": {
        "id": "oX94brCIdyEx"
      },
      "id": "oX94brCIdyEx"
    },
    {
      "cell_type": "code",
      "execution_count": 19,
      "id": "d5b09cac",
      "metadata": {
        "id": "d5b09cac",
        "colab": {
          "base_uri": "https://localhost:8080/",
          "height": 1000
        },
        "outputId": "cc7a01fe-1a38-4756-878a-2e71984a78d8"
      },
      "outputs": [
        {
          "output_type": "execute_result",
          "data": {
            "text/plain": [
              "      budget                                             genres  \\\n",
              "0  237000000  [{\"id\": 28, \"name\": \"Action\"}, {\"id\": 12, \"nam...   \n",
              "1  300000000  [{\"id\": 12, \"name\": \"Adventure\"}, {\"id\": 14, \"...   \n",
              "2  245000000  [{\"id\": 28, \"name\": \"Action\"}, {\"id\": 12, \"nam...   \n",
              "3  250000000  [{\"id\": 28, \"name\": \"Action\"}, {\"id\": 80, \"nam...   \n",
              "4  260000000  [{\"id\": 28, \"name\": \"Action\"}, {\"id\": 12, \"nam...   \n",
              "5  258000000  [{\"id\": 14, \"name\": \"Fantasy\"}, {\"id\": 28, \"na...   \n",
              "6  260000000  [{\"id\": 16, \"name\": \"Animation\"}, {\"id\": 10751...   \n",
              "7  280000000  [{\"id\": 28, \"name\": \"Action\"}, {\"id\": 12, \"nam...   \n",
              "8  250000000  [{\"id\": 12, \"name\": \"Adventure\"}, {\"id\": 14, \"...   \n",
              "9  250000000  [{\"id\": 28, \"name\": \"Action\"}, {\"id\": 12, \"nam...   \n",
              "\n",
              "                                            homepage      id  \\\n",
              "0                        http://www.avatarmovie.com/   19995   \n",
              "1       http://disney.go.com/disneypictures/pirates/     285   \n",
              "2        http://www.sonypictures.com/movies/spectre/  206647   \n",
              "3                 http://www.thedarkknightrises.com/   49026   \n",
              "4               http://movies.disney.com/john-carter   49529   \n",
              "5    http://www.sonypictures.com/movies/spider-man3/     559   \n",
              "6       http://disney.go.com/disneypictures/tangled/   38757   \n",
              "7  http://marvel.com/movies/movie/193/avengers_ag...   99861   \n",
              "8  http://harrypotter.warnerbros.com/harrypottera...     767   \n",
              "9       http://www.batmanvsupermandawnofjustice.com/  209112   \n",
              "\n",
              "                                            keywords original_language  \\\n",
              "0  [{\"id\": 1463, \"name\": \"culture clash\"}, {\"id\":...                en   \n",
              "1  [{\"id\": 270, \"name\": \"ocean\"}, {\"id\": 726, \"na...                en   \n",
              "2  [{\"id\": 470, \"name\": \"spy\"}, {\"id\": 818, \"name...                en   \n",
              "3  [{\"id\": 849, \"name\": \"dc comics\"}, {\"id\": 853,...                en   \n",
              "4  [{\"id\": 818, \"name\": \"based on novel\"}, {\"id\":...                en   \n",
              "5  [{\"id\": 851, \"name\": \"dual identity\"}, {\"id\": ...                en   \n",
              "6  [{\"id\": 1562, \"name\": \"hostage\"}, {\"id\": 2343,...                en   \n",
              "7  [{\"id\": 8828, \"name\": \"marvel comic\"}, {\"id\": ...                en   \n",
              "8  [{\"id\": 616, \"name\": \"witch\"}, {\"id\": 2343, \"n...                en   \n",
              "9  [{\"id\": 849, \"name\": \"dc comics\"}, {\"id\": 7002...                en   \n",
              "\n",
              "                             original_title  \\\n",
              "0                                    Avatar   \n",
              "1  Pirates of the Caribbean: At World's End   \n",
              "2                                   Spectre   \n",
              "3                     The Dark Knight Rises   \n",
              "4                               John Carter   \n",
              "5                              Spider-Man 3   \n",
              "6                                   Tangled   \n",
              "7                   Avengers: Age of Ultron   \n",
              "8    Harry Potter and the Half-Blood Prince   \n",
              "9        Batman v Superman: Dawn of Justice   \n",
              "\n",
              "                                            overview  popularity  \\\n",
              "0  In the 22nd century, a paraplegic Marine is di...  150.437577   \n",
              "1  Captain Barbossa, long believed to be dead, ha...  139.082615   \n",
              "2  A cryptic message from Bond’s past sends him o...  107.376788   \n",
              "3  Following the death of District Attorney Harve...  112.312950   \n",
              "4  John Carter is a war-weary, former military ca...   43.926995   \n",
              "5  The seemingly invincible Spider-Man goes up ag...  115.699814   \n",
              "6  When the kingdom's most wanted-and most charmi...   48.681969   \n",
              "7  When Tony Stark tries to jumpstart a dormant p...  134.279229   \n",
              "8  As Harry begins his sixth year at Hogwarts, he...   98.885637   \n",
              "9  Fearing the actions of a god-like Super Hero l...  155.790452   \n",
              "\n",
              "                                production_companies  \\\n",
              "0  [{\"name\": \"Ingenious Film Partners\", \"id\": 289...   \n",
              "1  [{\"name\": \"Walt Disney Pictures\", \"id\": 2}, {\"...   \n",
              "2  [{\"name\": \"Columbia Pictures\", \"id\": 5}, {\"nam...   \n",
              "3  [{\"name\": \"Legendary Pictures\", \"id\": 923}, {\"...   \n",
              "4        [{\"name\": \"Walt Disney Pictures\", \"id\": 2}]   \n",
              "5  [{\"name\": \"Columbia Pictures\", \"id\": 5}, {\"nam...   \n",
              "6  [{\"name\": \"Walt Disney Pictures\", \"id\": 2}, {\"...   \n",
              "7  [{\"name\": \"Marvel Studios\", \"id\": 420}, {\"name...   \n",
              "8  [{\"name\": \"Warner Bros.\", \"id\": 6194}, {\"name\"...   \n",
              "9  [{\"name\": \"DC Comics\", \"id\": 429}, {\"name\": \"A...   \n",
              "\n",
              "                                production_countries release_date     revenue  \\\n",
              "0  [{\"iso_3166_1\": \"US\", \"name\": \"United States o...   2009-12-10  2787965087   \n",
              "1  [{\"iso_3166_1\": \"US\", \"name\": \"United States o...   2007-05-19   961000000   \n",
              "2  [{\"iso_3166_1\": \"GB\", \"name\": \"United Kingdom\"...   2015-10-26   880674609   \n",
              "3  [{\"iso_3166_1\": \"US\", \"name\": \"United States o...   2012-07-16  1084939099   \n",
              "4  [{\"iso_3166_1\": \"US\", \"name\": \"United States o...   2012-03-07   284139100   \n",
              "5  [{\"iso_3166_1\": \"US\", \"name\": \"United States o...   2007-05-01   890871626   \n",
              "6  [{\"iso_3166_1\": \"US\", \"name\": \"United States o...   2010-11-24   591794936   \n",
              "7  [{\"iso_3166_1\": \"US\", \"name\": \"United States o...   2015-04-22  1405403694   \n",
              "8  [{\"iso_3166_1\": \"GB\", \"name\": \"United Kingdom\"...   2009-07-07   933959197   \n",
              "9  [{\"iso_3166_1\": \"US\", \"name\": \"United States o...   2016-03-23   873260194   \n",
              "\n",
              "   runtime                                   spoken_languages    status  \\\n",
              "0    162.0  [{\"iso_639_1\": \"en\", \"name\": \"English\"}, {\"iso...  Released   \n",
              "1    169.0           [{\"iso_639_1\": \"en\", \"name\": \"English\"}]  Released   \n",
              "2    148.0  [{\"iso_639_1\": \"fr\", \"name\": \"Fran\\u00e7ais\"},...  Released   \n",
              "3    165.0           [{\"iso_639_1\": \"en\", \"name\": \"English\"}]  Released   \n",
              "4    132.0           [{\"iso_639_1\": \"en\", \"name\": \"English\"}]  Released   \n",
              "5    139.0  [{\"iso_639_1\": \"en\", \"name\": \"English\"}, {\"iso...  Released   \n",
              "6    100.0           [{\"iso_639_1\": \"en\", \"name\": \"English\"}]  Released   \n",
              "7    141.0           [{\"iso_639_1\": \"en\", \"name\": \"English\"}]  Released   \n",
              "8    153.0           [{\"iso_639_1\": \"en\", \"name\": \"English\"}]  Released   \n",
              "9    151.0           [{\"iso_639_1\": \"en\", \"name\": \"English\"}]  Released   \n",
              "\n",
              "                                          tagline  \\\n",
              "0                     Enter the World of Pandora.   \n",
              "1  At the end of the world, the adventure begins.   \n",
              "2                           A Plan No One Escapes   \n",
              "3                                 The Legend Ends   \n",
              "4            Lost in our world, found in another.   \n",
              "5                              The battle within.   \n",
              "6        They're taking adventure to new lengths.   \n",
              "7                             A New Age Has Come.   \n",
              "8                           Dark Secrets Revealed   \n",
              "9                              Justice or revenge   \n",
              "\n",
              "                                      title  vote_average  vote_count  \n",
              "0                                    Avatar           7.2       11800  \n",
              "1  Pirates of the Caribbean: At World's End           6.9        4500  \n",
              "2                                   Spectre           6.3        4466  \n",
              "3                     The Dark Knight Rises           7.6        9106  \n",
              "4                               John Carter           6.1        2124  \n",
              "5                              Spider-Man 3           5.9        3576  \n",
              "6                                   Tangled           7.4        3330  \n",
              "7                   Avengers: Age of Ultron           7.3        6767  \n",
              "8    Harry Potter and the Half-Blood Prince           7.4        5293  \n",
              "9        Batman v Superman: Dawn of Justice           5.7        7004  "
            ],
            "text/html": [
              "\n",
              "  <div id=\"df-f683bf7c-68c1-4464-8fd4-ddc6055d815a\">\n",
              "    <div class=\"colab-df-container\">\n",
              "      <div>\n",
              "<style scoped>\n",
              "    .dataframe tbody tr th:only-of-type {\n",
              "        vertical-align: middle;\n",
              "    }\n",
              "\n",
              "    .dataframe tbody tr th {\n",
              "        vertical-align: top;\n",
              "    }\n",
              "\n",
              "    .dataframe thead th {\n",
              "        text-align: right;\n",
              "    }\n",
              "</style>\n",
              "<table border=\"1\" class=\"dataframe\">\n",
              "  <thead>\n",
              "    <tr style=\"text-align: right;\">\n",
              "      <th></th>\n",
              "      <th>budget</th>\n",
              "      <th>genres</th>\n",
              "      <th>homepage</th>\n",
              "      <th>id</th>\n",
              "      <th>keywords</th>\n",
              "      <th>original_language</th>\n",
              "      <th>original_title</th>\n",
              "      <th>overview</th>\n",
              "      <th>popularity</th>\n",
              "      <th>production_companies</th>\n",
              "      <th>production_countries</th>\n",
              "      <th>release_date</th>\n",
              "      <th>revenue</th>\n",
              "      <th>runtime</th>\n",
              "      <th>spoken_languages</th>\n",
              "      <th>status</th>\n",
              "      <th>tagline</th>\n",
              "      <th>title</th>\n",
              "      <th>vote_average</th>\n",
              "      <th>vote_count</th>\n",
              "    </tr>\n",
              "  </thead>\n",
              "  <tbody>\n",
              "    <tr>\n",
              "      <th>0</th>\n",
              "      <td>237000000</td>\n",
              "      <td>[{\"id\": 28, \"name\": \"Action\"}, {\"id\": 12, \"nam...</td>\n",
              "      <td>http://www.avatarmovie.com/</td>\n",
              "      <td>19995</td>\n",
              "      <td>[{\"id\": 1463, \"name\": \"culture clash\"}, {\"id\":...</td>\n",
              "      <td>en</td>\n",
              "      <td>Avatar</td>\n",
              "      <td>In the 22nd century, a paraplegic Marine is di...</td>\n",
              "      <td>150.437577</td>\n",
              "      <td>[{\"name\": \"Ingenious Film Partners\", \"id\": 289...</td>\n",
              "      <td>[{\"iso_3166_1\": \"US\", \"name\": \"United States o...</td>\n",
              "      <td>2009-12-10</td>\n",
              "      <td>2787965087</td>\n",
              "      <td>162.0</td>\n",
              "      <td>[{\"iso_639_1\": \"en\", \"name\": \"English\"}, {\"iso...</td>\n",
              "      <td>Released</td>\n",
              "      <td>Enter the World of Pandora.</td>\n",
              "      <td>Avatar</td>\n",
              "      <td>7.2</td>\n",
              "      <td>11800</td>\n",
              "    </tr>\n",
              "    <tr>\n",
              "      <th>1</th>\n",
              "      <td>300000000</td>\n",
              "      <td>[{\"id\": 12, \"name\": \"Adventure\"}, {\"id\": 14, \"...</td>\n",
              "      <td>http://disney.go.com/disneypictures/pirates/</td>\n",
              "      <td>285</td>\n",
              "      <td>[{\"id\": 270, \"name\": \"ocean\"}, {\"id\": 726, \"na...</td>\n",
              "      <td>en</td>\n",
              "      <td>Pirates of the Caribbean: At World's End</td>\n",
              "      <td>Captain Barbossa, long believed to be dead, ha...</td>\n",
              "      <td>139.082615</td>\n",
              "      <td>[{\"name\": \"Walt Disney Pictures\", \"id\": 2}, {\"...</td>\n",
              "      <td>[{\"iso_3166_1\": \"US\", \"name\": \"United States o...</td>\n",
              "      <td>2007-05-19</td>\n",
              "      <td>961000000</td>\n",
              "      <td>169.0</td>\n",
              "      <td>[{\"iso_639_1\": \"en\", \"name\": \"English\"}]</td>\n",
              "      <td>Released</td>\n",
              "      <td>At the end of the world, the adventure begins.</td>\n",
              "      <td>Pirates of the Caribbean: At World's End</td>\n",
              "      <td>6.9</td>\n",
              "      <td>4500</td>\n",
              "    </tr>\n",
              "    <tr>\n",
              "      <th>2</th>\n",
              "      <td>245000000</td>\n",
              "      <td>[{\"id\": 28, \"name\": \"Action\"}, {\"id\": 12, \"nam...</td>\n",
              "      <td>http://www.sonypictures.com/movies/spectre/</td>\n",
              "      <td>206647</td>\n",
              "      <td>[{\"id\": 470, \"name\": \"spy\"}, {\"id\": 818, \"name...</td>\n",
              "      <td>en</td>\n",
              "      <td>Spectre</td>\n",
              "      <td>A cryptic message from Bond’s past sends him o...</td>\n",
              "      <td>107.376788</td>\n",
              "      <td>[{\"name\": \"Columbia Pictures\", \"id\": 5}, {\"nam...</td>\n",
              "      <td>[{\"iso_3166_1\": \"GB\", \"name\": \"United Kingdom\"...</td>\n",
              "      <td>2015-10-26</td>\n",
              "      <td>880674609</td>\n",
              "      <td>148.0</td>\n",
              "      <td>[{\"iso_639_1\": \"fr\", \"name\": \"Fran\\u00e7ais\"},...</td>\n",
              "      <td>Released</td>\n",
              "      <td>A Plan No One Escapes</td>\n",
              "      <td>Spectre</td>\n",
              "      <td>6.3</td>\n",
              "      <td>4466</td>\n",
              "    </tr>\n",
              "    <tr>\n",
              "      <th>3</th>\n",
              "      <td>250000000</td>\n",
              "      <td>[{\"id\": 28, \"name\": \"Action\"}, {\"id\": 80, \"nam...</td>\n",
              "      <td>http://www.thedarkknightrises.com/</td>\n",
              "      <td>49026</td>\n",
              "      <td>[{\"id\": 849, \"name\": \"dc comics\"}, {\"id\": 853,...</td>\n",
              "      <td>en</td>\n",
              "      <td>The Dark Knight Rises</td>\n",
              "      <td>Following the death of District Attorney Harve...</td>\n",
              "      <td>112.312950</td>\n",
              "      <td>[{\"name\": \"Legendary Pictures\", \"id\": 923}, {\"...</td>\n",
              "      <td>[{\"iso_3166_1\": \"US\", \"name\": \"United States o...</td>\n",
              "      <td>2012-07-16</td>\n",
              "      <td>1084939099</td>\n",
              "      <td>165.0</td>\n",
              "      <td>[{\"iso_639_1\": \"en\", \"name\": \"English\"}]</td>\n",
              "      <td>Released</td>\n",
              "      <td>The Legend Ends</td>\n",
              "      <td>The Dark Knight Rises</td>\n",
              "      <td>7.6</td>\n",
              "      <td>9106</td>\n",
              "    </tr>\n",
              "    <tr>\n",
              "      <th>4</th>\n",
              "      <td>260000000</td>\n",
              "      <td>[{\"id\": 28, \"name\": \"Action\"}, {\"id\": 12, \"nam...</td>\n",
              "      <td>http://movies.disney.com/john-carter</td>\n",
              "      <td>49529</td>\n",
              "      <td>[{\"id\": 818, \"name\": \"based on novel\"}, {\"id\":...</td>\n",
              "      <td>en</td>\n",
              "      <td>John Carter</td>\n",
              "      <td>John Carter is a war-weary, former military ca...</td>\n",
              "      <td>43.926995</td>\n",
              "      <td>[{\"name\": \"Walt Disney Pictures\", \"id\": 2}]</td>\n",
              "      <td>[{\"iso_3166_1\": \"US\", \"name\": \"United States o...</td>\n",
              "      <td>2012-03-07</td>\n",
              "      <td>284139100</td>\n",
              "      <td>132.0</td>\n",
              "      <td>[{\"iso_639_1\": \"en\", \"name\": \"English\"}]</td>\n",
              "      <td>Released</td>\n",
              "      <td>Lost in our world, found in another.</td>\n",
              "      <td>John Carter</td>\n",
              "      <td>6.1</td>\n",
              "      <td>2124</td>\n",
              "    </tr>\n",
              "    <tr>\n",
              "      <th>5</th>\n",
              "      <td>258000000</td>\n",
              "      <td>[{\"id\": 14, \"name\": \"Fantasy\"}, {\"id\": 28, \"na...</td>\n",
              "      <td>http://www.sonypictures.com/movies/spider-man3/</td>\n",
              "      <td>559</td>\n",
              "      <td>[{\"id\": 851, \"name\": \"dual identity\"}, {\"id\": ...</td>\n",
              "      <td>en</td>\n",
              "      <td>Spider-Man 3</td>\n",
              "      <td>The seemingly invincible Spider-Man goes up ag...</td>\n",
              "      <td>115.699814</td>\n",
              "      <td>[{\"name\": \"Columbia Pictures\", \"id\": 5}, {\"nam...</td>\n",
              "      <td>[{\"iso_3166_1\": \"US\", \"name\": \"United States o...</td>\n",
              "      <td>2007-05-01</td>\n",
              "      <td>890871626</td>\n",
              "      <td>139.0</td>\n",
              "      <td>[{\"iso_639_1\": \"en\", \"name\": \"English\"}, {\"iso...</td>\n",
              "      <td>Released</td>\n",
              "      <td>The battle within.</td>\n",
              "      <td>Spider-Man 3</td>\n",
              "      <td>5.9</td>\n",
              "      <td>3576</td>\n",
              "    </tr>\n",
              "    <tr>\n",
              "      <th>6</th>\n",
              "      <td>260000000</td>\n",
              "      <td>[{\"id\": 16, \"name\": \"Animation\"}, {\"id\": 10751...</td>\n",
              "      <td>http://disney.go.com/disneypictures/tangled/</td>\n",
              "      <td>38757</td>\n",
              "      <td>[{\"id\": 1562, \"name\": \"hostage\"}, {\"id\": 2343,...</td>\n",
              "      <td>en</td>\n",
              "      <td>Tangled</td>\n",
              "      <td>When the kingdom's most wanted-and most charmi...</td>\n",
              "      <td>48.681969</td>\n",
              "      <td>[{\"name\": \"Walt Disney Pictures\", \"id\": 2}, {\"...</td>\n",
              "      <td>[{\"iso_3166_1\": \"US\", \"name\": \"United States o...</td>\n",
              "      <td>2010-11-24</td>\n",
              "      <td>591794936</td>\n",
              "      <td>100.0</td>\n",
              "      <td>[{\"iso_639_1\": \"en\", \"name\": \"English\"}]</td>\n",
              "      <td>Released</td>\n",
              "      <td>They're taking adventure to new lengths.</td>\n",
              "      <td>Tangled</td>\n",
              "      <td>7.4</td>\n",
              "      <td>3330</td>\n",
              "    </tr>\n",
              "    <tr>\n",
              "      <th>7</th>\n",
              "      <td>280000000</td>\n",
              "      <td>[{\"id\": 28, \"name\": \"Action\"}, {\"id\": 12, \"nam...</td>\n",
              "      <td>http://marvel.com/movies/movie/193/avengers_ag...</td>\n",
              "      <td>99861</td>\n",
              "      <td>[{\"id\": 8828, \"name\": \"marvel comic\"}, {\"id\": ...</td>\n",
              "      <td>en</td>\n",
              "      <td>Avengers: Age of Ultron</td>\n",
              "      <td>When Tony Stark tries to jumpstart a dormant p...</td>\n",
              "      <td>134.279229</td>\n",
              "      <td>[{\"name\": \"Marvel Studios\", \"id\": 420}, {\"name...</td>\n",
              "      <td>[{\"iso_3166_1\": \"US\", \"name\": \"United States o...</td>\n",
              "      <td>2015-04-22</td>\n",
              "      <td>1405403694</td>\n",
              "      <td>141.0</td>\n",
              "      <td>[{\"iso_639_1\": \"en\", \"name\": \"English\"}]</td>\n",
              "      <td>Released</td>\n",
              "      <td>A New Age Has Come.</td>\n",
              "      <td>Avengers: Age of Ultron</td>\n",
              "      <td>7.3</td>\n",
              "      <td>6767</td>\n",
              "    </tr>\n",
              "    <tr>\n",
              "      <th>8</th>\n",
              "      <td>250000000</td>\n",
              "      <td>[{\"id\": 12, \"name\": \"Adventure\"}, {\"id\": 14, \"...</td>\n",
              "      <td>http://harrypotter.warnerbros.com/harrypottera...</td>\n",
              "      <td>767</td>\n",
              "      <td>[{\"id\": 616, \"name\": \"witch\"}, {\"id\": 2343, \"n...</td>\n",
              "      <td>en</td>\n",
              "      <td>Harry Potter and the Half-Blood Prince</td>\n",
              "      <td>As Harry begins his sixth year at Hogwarts, he...</td>\n",
              "      <td>98.885637</td>\n",
              "      <td>[{\"name\": \"Warner Bros.\", \"id\": 6194}, {\"name\"...</td>\n",
              "      <td>[{\"iso_3166_1\": \"GB\", \"name\": \"United Kingdom\"...</td>\n",
              "      <td>2009-07-07</td>\n",
              "      <td>933959197</td>\n",
              "      <td>153.0</td>\n",
              "      <td>[{\"iso_639_1\": \"en\", \"name\": \"English\"}]</td>\n",
              "      <td>Released</td>\n",
              "      <td>Dark Secrets Revealed</td>\n",
              "      <td>Harry Potter and the Half-Blood Prince</td>\n",
              "      <td>7.4</td>\n",
              "      <td>5293</td>\n",
              "    </tr>\n",
              "    <tr>\n",
              "      <th>9</th>\n",
              "      <td>250000000</td>\n",
              "      <td>[{\"id\": 28, \"name\": \"Action\"}, {\"id\": 12, \"nam...</td>\n",
              "      <td>http://www.batmanvsupermandawnofjustice.com/</td>\n",
              "      <td>209112</td>\n",
              "      <td>[{\"id\": 849, \"name\": \"dc comics\"}, {\"id\": 7002...</td>\n",
              "      <td>en</td>\n",
              "      <td>Batman v Superman: Dawn of Justice</td>\n",
              "      <td>Fearing the actions of a god-like Super Hero l...</td>\n",
              "      <td>155.790452</td>\n",
              "      <td>[{\"name\": \"DC Comics\", \"id\": 429}, {\"name\": \"A...</td>\n",
              "      <td>[{\"iso_3166_1\": \"US\", \"name\": \"United States o...</td>\n",
              "      <td>2016-03-23</td>\n",
              "      <td>873260194</td>\n",
              "      <td>151.0</td>\n",
              "      <td>[{\"iso_639_1\": \"en\", \"name\": \"English\"}]</td>\n",
              "      <td>Released</td>\n",
              "      <td>Justice or revenge</td>\n",
              "      <td>Batman v Superman: Dawn of Justice</td>\n",
              "      <td>5.7</td>\n",
              "      <td>7004</td>\n",
              "    </tr>\n",
              "  </tbody>\n",
              "</table>\n",
              "</div>\n",
              "      <button class=\"colab-df-convert\" onclick=\"convertToInteractive('df-f683bf7c-68c1-4464-8fd4-ddc6055d815a')\"\n",
              "              title=\"Convert this dataframe to an interactive table.\"\n",
              "              style=\"display:none;\">\n",
              "        \n",
              "  <svg xmlns=\"http://www.w3.org/2000/svg\" height=\"24px\"viewBox=\"0 0 24 24\"\n",
              "       width=\"24px\">\n",
              "    <path d=\"M0 0h24v24H0V0z\" fill=\"none\"/>\n",
              "    <path d=\"M18.56 5.44l.94 2.06.94-2.06 2.06-.94-2.06-.94-.94-2.06-.94 2.06-2.06.94zm-11 1L8.5 8.5l.94-2.06 2.06-.94-2.06-.94L8.5 2.5l-.94 2.06-2.06.94zm10 10l.94 2.06.94-2.06 2.06-.94-2.06-.94-.94-2.06-.94 2.06-2.06.94z\"/><path d=\"M17.41 7.96l-1.37-1.37c-.4-.4-.92-.59-1.43-.59-.52 0-1.04.2-1.43.59L10.3 9.45l-7.72 7.72c-.78.78-.78 2.05 0 2.83L4 21.41c.39.39.9.59 1.41.59.51 0 1.02-.2 1.41-.59l7.78-7.78 2.81-2.81c.8-.78.8-2.07 0-2.86zM5.41 20L4 18.59l7.72-7.72 1.47 1.35L5.41 20z\"/>\n",
              "  </svg>\n",
              "      </button>\n",
              "      \n",
              "  <style>\n",
              "    .colab-df-container {\n",
              "      display:flex;\n",
              "      flex-wrap:wrap;\n",
              "      gap: 12px;\n",
              "    }\n",
              "\n",
              "    .colab-df-convert {\n",
              "      background-color: #E8F0FE;\n",
              "      border: none;\n",
              "      border-radius: 50%;\n",
              "      cursor: pointer;\n",
              "      display: none;\n",
              "      fill: #1967D2;\n",
              "      height: 32px;\n",
              "      padding: 0 0 0 0;\n",
              "      width: 32px;\n",
              "    }\n",
              "\n",
              "    .colab-df-convert:hover {\n",
              "      background-color: #E2EBFA;\n",
              "      box-shadow: 0px 1px 2px rgba(60, 64, 67, 0.3), 0px 1px 3px 1px rgba(60, 64, 67, 0.15);\n",
              "      fill: #174EA6;\n",
              "    }\n",
              "\n",
              "    [theme=dark] .colab-df-convert {\n",
              "      background-color: #3B4455;\n",
              "      fill: #D2E3FC;\n",
              "    }\n",
              "\n",
              "    [theme=dark] .colab-df-convert:hover {\n",
              "      background-color: #434B5C;\n",
              "      box-shadow: 0px 1px 3px 1px rgba(0, 0, 0, 0.15);\n",
              "      filter: drop-shadow(0px 1px 2px rgba(0, 0, 0, 0.3));\n",
              "      fill: #FFFFFF;\n",
              "    }\n",
              "  </style>\n",
              "\n",
              "      <script>\n",
              "        const buttonEl =\n",
              "          document.querySelector('#df-f683bf7c-68c1-4464-8fd4-ddc6055d815a button.colab-df-convert');\n",
              "        buttonEl.style.display =\n",
              "          google.colab.kernel.accessAllowed ? 'block' : 'none';\n",
              "\n",
              "        async function convertToInteractive(key) {\n",
              "          const element = document.querySelector('#df-f683bf7c-68c1-4464-8fd4-ddc6055d815a');\n",
              "          const dataTable =\n",
              "            await google.colab.kernel.invokeFunction('convertToInteractive',\n",
              "                                                     [key], {});\n",
              "          if (!dataTable) return;\n",
              "\n",
              "          const docLinkHtml = 'Like what you see? Visit the ' +\n",
              "            '<a target=\"_blank\" href=https://colab.research.google.com/notebooks/data_table.ipynb>data table notebook</a>'\n",
              "            + ' to learn more about interactive tables.';\n",
              "          element.innerHTML = '';\n",
              "          dataTable['output_type'] = 'display_data';\n",
              "          await google.colab.output.renderOutput(dataTable, element);\n",
              "          const docLink = document.createElement('div');\n",
              "          docLink.innerHTML = docLinkHtml;\n",
              "          element.appendChild(docLink);\n",
              "        }\n",
              "      </script>\n",
              "    </div>\n",
              "  </div>\n",
              "  "
            ]
          },
          "metadata": {},
          "execution_count": 19
        }
      ],
      "source": [
        "### Open Your CSV file and print the first 10 rows in a good format ###\n",
        "# importing the important libraries\n",
        "import numpy as np\n",
        "import pandas as pd\n",
        "import matplotlib.pyplot as plt\n",
        "import seaborn as sns\n",
        "sns.set_style('darkgrid')\n",
        "%matplotlib inline\n",
        "\n",
        "# Load data \n",
        "file_path = \"/tmdb_5000_movies.csv\"\n",
        "df = pd.read_csv(file_path)\n",
        "#and print out (first 10 rows).\n",
        "df.head(10)\n"
      ]
    },
    {
      "cell_type": "markdown",
      "source": [
        "**Check if any NANs in your dataset and fill them with a good filer**\n"
      ],
      "metadata": {
        "id": "0X87eClHdmHI"
      },
      "id": "0X87eClHdmHI"
    },
    {
      "cell_type": "code",
      "execution_count": 45,
      "id": "fee35922",
      "metadata": {
        "id": "fee35922",
        "colab": {
          "base_uri": "https://localhost:8080/"
        },
        "outputId": "7d20aa9d-94ac-4419-ee5e-dfd2fd542151"
      },
      "outputs": [
        {
          "output_type": "stream",
          "name": "stdout",
          "text": [
            "True\n",
            "budget                     0\n",
            "genres                     0\n",
            "homepage                3091\n",
            "id                         0\n",
            "keywords                   0\n",
            "original_language          0\n",
            "original_title             0\n",
            "overview                   3\n",
            "popularity                 0\n",
            "production_companies       0\n",
            "production_countries       0\n",
            "release_date               1\n",
            "revenue                    0\n",
            "runtime                    2\n",
            "spoken_languages           0\n",
            "status                     0\n",
            "tagline                  844\n",
            "title                      0\n",
            "vote_average               0\n",
            "vote_count                 0\n",
            "dtype: int64\n"
          ]
        }
      ],
      "source": [
        "#to show all nans in dataset\n",
        "#print(df.isnull())\n",
        "#to tell you if there is any nan vlaues any dataset or no\n",
        "print(df.isnull().values.any())\n",
        "# a list of all nans summations of each column\n",
        "print(df.isnull().sum())"
      ]
    },
    {
      "cell_type": "code",
      "source": [
        "#the shape of dataframe before removing colums with num of nan values >50% \n",
        "print(df.shape)\n",
        "#make a copy\n",
        "df_clean = df.copy()\n",
        "#show the first 5 colums which have largest values of nan values\n",
        "print(df_clean.isnull().sum().nlargest(5))\n",
        "\n",
        "df_shape=df_clean.shape\n",
        "\n",
        "#home page has num of nan values more than 50%\n",
        "print(\"precentage of num of nan val in homepage column\",df['homepage'].isnull().sum()*100.0/df_shape[0])\n",
        "\n",
        "column_with_nan = df_clean.columns[df.isnull().any()]\n",
        "\n",
        "# 1--so i will remove columns with num of nan values more than 50%\n",
        "for column in column_with_nan:\n",
        "   if df[column].isnull().sum()*100.0/df_shape[0] >= 50:\n",
        "             df_clean.drop(column,1, inplace=True) \n",
        "#the shape of dataframe after removing colums with num of nan values >50% \n",
        "print(df_clean.shape)\n"
      ],
      "metadata": {
        "colab": {
          "base_uri": "https://localhost:8080/"
        },
        "id": "DLnqHruw-nD9",
        "outputId": "885cafab-f71f-459a-f8b6-7143febca96a"
      },
      "id": "DLnqHruw-nD9",
      "execution_count": 63,
      "outputs": [
        {
          "output_type": "stream",
          "name": "stdout",
          "text": [
            "(4803, 20)\n",
            "homepage        3091\n",
            "tagline          844\n",
            "overview           3\n",
            "runtime            2\n",
            "release_date       1\n",
            "dtype: int64\n",
            "precentage of num of nan val in homepage column 64.35561107641058\n",
            "(4803, 19)\n"
          ]
        },
        {
          "output_type": "stream",
          "name": "stderr",
          "text": [
            "/usr/local/lib/python3.7/dist-packages/ipykernel_launcher.py:18: FutureWarning: In a future version of pandas all arguments of DataFrame.drop except for the argument 'labels' will be keyword-only\n"
          ]
        }
      ]
    },
    {
      "cell_type": "code",
      "source": [
        "print(df_clean.isnull().sum().nlargest(5))\n",
        "index_with_nan_tagline = df_clean['tagline'].index[df_clean.isnull().any(axis=1)]\n",
        "#drop rows with nan values\n",
        "df_clean.drop(index_with_nan_tagline,0, inplace=True)\n",
        "print(df_clean.shape)"
      ],
      "metadata": {
        "colab": {
          "base_uri": "https://localhost:8080/"
        },
        "id": "6AXPpSNQF_pC",
        "outputId": "3aee40e9-9f2d-4049-dcc0-cdbc2f5d01bb"
      },
      "id": "6AXPpSNQF_pC",
      "execution_count": 64,
      "outputs": [
        {
          "output_type": "stream",
          "name": "stdout",
          "text": [
            "tagline         844\n",
            "overview          3\n",
            "runtime           2\n",
            "release_date      1\n",
            "budget            0\n",
            "dtype: int64\n",
            "(3959, 19)\n"
          ]
        },
        {
          "output_type": "stream",
          "name": "stderr",
          "text": [
            "/usr/local/lib/python3.7/dist-packages/ipykernel_launcher.py:4: FutureWarning: In a future version of pandas all arguments of DataFrame.drop except for the argument 'labels' will be keyword-only\n",
            "  after removing the cwd from sys.path.\n"
          ]
        }
      ]
    },
    {
      "cell_type": "code",
      "source": [
        "#show if there is any nan values in other columns\n",
        "print(df_clean.isnull().sum().nlargest(5))\n",
        "print(df_clean.shape) # there is no any nan values\n",
        "\n",
        "#check if there are dublicated records\n",
        "df_clean.duplicated()\n",
        "df_clean.duplicated().sum() #there is no any dublicated records\n"
      ],
      "metadata": {
        "colab": {
          "base_uri": "https://localhost:8080/"
        },
        "id": "hTWH5DN2IjgW",
        "outputId": "be9234ea-2aed-4a06-a0a9-5997e497ffad"
      },
      "id": "hTWH5DN2IjgW",
      "execution_count": 65,
      "outputs": [
        {
          "output_type": "stream",
          "name": "stdout",
          "text": [
            "budget               0\n",
            "genres               0\n",
            "id                   0\n",
            "keywords             0\n",
            "original_language    0\n",
            "dtype: int64\n",
            "(3959, 19)\n"
          ]
        },
        {
          "output_type": "execute_result",
          "data": {
            "text/plain": [
              "0"
            ]
          },
          "metadata": {},
          "execution_count": 65
        }
      ]
    },
    {
      "cell_type": "markdown",
      "source": [
        "**Discover the types of each columns and modify them if needed**"
      ],
      "metadata": {
        "id": "0mnmZYq-dUdo"
      },
      "id": "0mnmZYq-dUdo"
    },
    {
      "cell_type": "code",
      "execution_count": 66,
      "id": "b92120fe",
      "metadata": {
        "id": "b92120fe",
        "colab": {
          "base_uri": "https://localhost:8080/"
        },
        "outputId": "0b3b8258-4fe6-4fd3-a272-bfb6e530fbd0"
      },
      "outputs": [
        {
          "output_type": "stream",
          "name": "stdout",
          "text": [
            "<class 'pandas.core.frame.DataFrame'>\n",
            "Int64Index: 3959 entries, 0 to 4801\n",
            "Data columns (total 19 columns):\n",
            " #   Column                Non-Null Count  Dtype  \n",
            "---  ------                --------------  -----  \n",
            " 0   budget                3959 non-null   int64  \n",
            " 1   genres                3959 non-null   object \n",
            " 2   id                    3959 non-null   int64  \n",
            " 3   keywords              3959 non-null   object \n",
            " 4   original_language     3959 non-null   object \n",
            " 5   original_title        3959 non-null   object \n",
            " 6   overview              3959 non-null   object \n",
            " 7   popularity            3959 non-null   float64\n",
            " 8   production_companies  3959 non-null   object \n",
            " 9   production_countries  3959 non-null   object \n",
            " 10  release_date          3959 non-null   object \n",
            " 11  revenue               3959 non-null   int64  \n",
            " 12  runtime               3959 non-null   float64\n",
            " 13  spoken_languages      3959 non-null   object \n",
            " 14  status                3959 non-null   object \n",
            " 15  tagline               3959 non-null   object \n",
            " 16  title                 3959 non-null   object \n",
            " 17  vote_average          3959 non-null   float64\n",
            " 18  vote_count            3959 non-null   int64  \n",
            "dtypes: float64(3), int64(4), object(12)\n",
            "memory usage: 618.6+ KB\n"
          ]
        }
      ],
      "source": [
        "df_clean.info()"
      ]
    },
    {
      "cell_type": "code",
      "source": [
        "# check for number of the unique values for each column\n",
        "col = list(df_clean.columns.values)\n",
        "for i in col:\n",
        "    noUniq = df_clean[i].nunique()    \n",
        "    print( \"number of unique values in {} is :\".format(i) ,noUniq)\n",
        "print(\"_______________________________________________________________________\")    \n",
        "# check for the unique values in some columns\n",
        "col = list(df_clean.columns.values)\n",
        "for i in col:\n",
        "    if i in ['original_language', 'status']:\n",
        "        unique = df[i].unique()\n",
        "        print( \"number of unique value in {} is :\".format(i) , unique )\n",
        "#unique values in original_language is : 37\n",
        "#number of unique values in status is : 3"
      ],
      "metadata": {
        "colab": {
          "base_uri": "https://localhost:8080/"
        },
        "id": "eMzaOMDFW23E",
        "outputId": "b9209e39-c4b0-4195-af2e-e2051f8a022c"
      },
      "id": "eMzaOMDFW23E",
      "execution_count": 67,
      "outputs": [
        {
          "output_type": "stream",
          "name": "stdout",
          "text": [
            "number of unique values in budget is : 393\n",
            "number of unique values in genres is : 1068\n",
            "number of unique values in id is : 3959\n",
            "number of unique values in keywords is : 3675\n",
            "number of unique values in original_language is : 29\n",
            "number of unique values in original_title is : 3957\n",
            "number of unique values in overview is : 3959\n",
            "number of unique values in popularity is : 3958\n",
            "number of unique values in production_companies is : 3163\n",
            "number of unique values in production_countries is : 381\n",
            "number of unique values in release_date is : 2886\n",
            "number of unique values in revenue is : 3030\n",
            "number of unique values in runtime is : 141\n",
            "number of unique values in spoken_languages is : 469\n",
            "number of unique values in status is : 3\n",
            "number of unique values in tagline is : 3944\n",
            "number of unique values in title is : 3956\n",
            "number of unique values in vote_average is : 65\n",
            "number of unique values in vote_count is : 1587\n",
            "_______________________________________________________________________\n",
            "number of unique value in original_language is : ['en' 'ja' 'fr' 'zh' 'es' 'de' 'hi' 'ru' 'ko' 'te' 'cn' 'it' 'nl' 'ta'\n",
            " 'sv' 'th' 'da' 'xx' 'hu' 'cs' 'pt' 'is' 'tr' 'nb' 'af' 'pl' 'he' 'ar'\n",
            " 'vi' 'ky' 'id' 'ro' 'fa' 'no' 'sl' 'ps' 'el']\n",
            "number of unique value in status is : ['Released' 'Post Production' 'Rumored']\n"
          ]
        }
      ]
    },
    {
      "cell_type": "code",
      "source": [
        "#extract 'original_language','status' columns\n",
        "cols = ['original_language','status']\n",
        "df_cols = df_clean[cols]\n",
        "\n",
        "#convert all categorical columns to numeric\n",
        "df_clean[cols] =df_cols.apply(lambda x: pd.factorize(x)[0])\n",
        "#print(df_clean)\n",
        "print(df_cols)"
      ],
      "metadata": {
        "colab": {
          "base_uri": "https://localhost:8080/"
        },
        "id": "zSaNHq4qZ2ku",
        "outputId": "2a3b3f01-cf0b-45c0-ce97-4b339f90bf42"
      },
      "id": "zSaNHq4qZ2ku",
      "execution_count": 71,
      "outputs": [
        {
          "output_type": "stream",
          "name": "stdout",
          "text": [
            "      original_language  status\n",
            "0                     0       0\n",
            "1                     0       0\n",
            "2                     0       0\n",
            "3                     0       0\n",
            "4                     0       0\n",
            "...                 ...     ...\n",
            "4795                  0       0\n",
            "4796                  0       0\n",
            "4798                  6       0\n",
            "4799                  0       0\n",
            "4801                  0       0\n",
            "\n",
            "[3959 rows x 2 columns]\n"
          ]
        }
      ]
    },
    {
      "cell_type": "code",
      "source": [
        "#change the datatype of \"id\" column to be strings\n",
        "df_clean['id'] = df_clean['id'].astype(str)\n",
        "\n",
        "#the Change the datatype of 'release_date' column into be in Datetime\n",
        "df_clean[\"release_date\"] = pd.to_datetime(df_clean['release_date']).dt.date.astype('datetime64[ns]')\n",
        "\n",
        "#check outcome\n",
        "print (df_clean[\"release_date\"].dtypes)\n",
        "df_clean.head()"
      ],
      "metadata": {
        "id": "ZJO9ryJBF9Rt"
      },
      "id": "ZJO9ryJBF9Rt",
      "execution_count": null,
      "outputs": []
    },
    {
      "cell_type": "code",
      "execution_count": null,
      "id": "0ecf153d",
      "metadata": {
        "id": "0ecf153d"
      },
      "outputs": [],
      "source": [
        "### Give a very simple statistical analsys for the numerical columns ###\n",
        "\n"
      ]
    },
    {
      "cell_type": "code",
      "execution_count": null,
      "id": "78b98f6f",
      "metadata": {
        "id": "78b98f6f"
      },
      "outputs": [],
      "source": [
        "### Calculate the mean rate for [1999, 1980, 2004, 2017] the movies grouped by years ###\n",
        "\n",
        "### Ex: Average Movies Rate at 2009 is 6.065587 ###\n",
        "\n"
      ]
    },
    {
      "cell_type": "code",
      "execution_count": null,
      "id": "117093cb",
      "metadata": {
        "id": "117093cb"
      },
      "outputs": [],
      "source": [
        "### Rearange the dataframe based on revenue - budget values ###\n",
        "\n"
      ]
    },
    {
      "cell_type": "code",
      "execution_count": null,
      "id": "fd99627a",
      "metadata": {
        "id": "fd99627a"
      },
      "outputs": [],
      "source": [
        "### Allocate the year with the largest movies released in ['Action', 'Romance'] ###\n",
        "\n"
      ]
    },
    {
      "cell_type": "code",
      "execution_count": null,
      "id": "74517a71",
      "metadata": {
        "id": "74517a71"
      },
      "outputs": [],
      "source": [
        "### Find the movies with top 5 revenue - budget value ###\n",
        "\n"
      ]
    },
    {
      "cell_type": "code",
      "execution_count": null,
      "id": "8ae0da0e",
      "metadata": {
        "id": "8ae0da0e"
      },
      "outputs": [],
      "source": [
        "### Find the year with the highest number of movies release ###\n",
        "\n"
      ]
    },
    {
      "cell_type": "code",
      "execution_count": null,
      "id": "f5d4edda",
      "metadata": {
        "id": "f5d4edda"
      },
      "outputs": [],
      "source": [
        "### Find the top 2 countries with the highest production movies number ###\n",
        "\n"
      ]
    },
    {
      "cell_type": "code",
      "execution_count": null,
      "id": "6c162029",
      "metadata": {
        "id": "6c162029"
      },
      "outputs": [],
      "source": [
        "### Find the top 1 company with the highest production movies number ###\n",
        "\n"
      ]
    },
    {
      "cell_type": "code",
      "execution_count": null,
      "id": "ebcae1b2",
      "metadata": {
        "id": "ebcae1b2"
      },
      "outputs": [],
      "source": [
        "### Is there any relation between the runtime and average vote value ### **\n",
        "\n"
      ]
    },
    {
      "cell_type": "code",
      "execution_count": null,
      "id": "6dd073a2",
      "metadata": {
        "id": "6dd073a2"
      },
      "outputs": [],
      "source": [
        "### Find the top 5 movies with the highest rate, and find if there anything common between them. ###\n",
        "\n"
      ]
    },
    {
      "cell_type": "code",
      "execution_count": null,
      "id": "7ec87260",
      "metadata": {
        "id": "7ec87260"
      },
      "outputs": [],
      "source": [
        "### Find the most unsuccessful movie along time in terms of revenue - budget ###\n",
        "\n"
      ]
    },
    {
      "cell_type": "code",
      "execution_count": null,
      "id": "f33e1ef0",
      "metadata": {
        "id": "f33e1ef0"
      },
      "outputs": [],
      "source": [
        "### Rearange the dataframe based on vote_average column values ###\n",
        "\n"
      ]
    },
    {
      "cell_type": "code",
      "execution_count": null,
      "id": "7afae7b1",
      "metadata": {
        "id": "7afae7b1"
      },
      "outputs": [],
      "source": [
        "### Rearange the dataframe based on runtime column values ###\n",
        "\n"
      ]
    },
    {
      "cell_type": "code",
      "execution_count": null,
      "id": "68404b64",
      "metadata": {
        "id": "68404b64"
      },
      "outputs": [],
      "source": [
        "### Find the top 5 successful years for the USA cinema based on the total income devided by number of movies  ###\n",
        "\n"
      ]
    },
    {
      "cell_type": "code",
      "execution_count": null,
      "id": "332a581a",
      "metadata": {
        "id": "332a581a"
      },
      "outputs": [],
      "source": [
        "### Find the most succesfull movie in [USA, UK] ###\n",
        "\n"
      ]
    },
    {
      "cell_type": "code",
      "execution_count": null,
      "id": "b83b49f9",
      "metadata": {
        "id": "b83b49f9"
      },
      "outputs": [],
      "source": [
        "### In your opinion what is the highest variable that affects the revenue value (high coloration) ### PONUS\n",
        "\n"
      ]
    },
    {
      "cell_type": "markdown",
      "id": "a3ec6afe",
      "metadata": {
        "id": "a3ec6afe"
      },
      "source": [
        "#  <span style=\"color:brown\">Problem 16\n",
        "\n",
        "## <span style=\"color:blue\">Problem statment\n",
        "\n",
        "The content, tone, and format of job bulletins can influence the quality of the applicant pool. Overly-specific job requirements may discourage diversity. The Los Angeles Mayor’s Office wants to reimagine the city’s job bulletins by using text analysis to identify needed improvements, in order to achive this use the daatset in the relative diretcotry ./Datasets/la_jobs.csv, and this is the decomentation for the useful columns you should use:\n",
        "\n",
        "- FILE_NAME: The bulletins file name.\n",
        "- JOB_CLASS_TITLE: Job title.\n",
        "- JOB_CLASS_NO: Job number.\n",
        "- JOB_DUTIES: The duties of this job.\n",
        "- EDUCATION_YEARS: Number of education yeras needed to apply for this job.\n",
        "- SCHOOL_TYPE: The type of school you need to study in.\n",
        "- EDUCATION_MAJOR: The eductaion major you study in this school.\n",
        "- EXPERIENCE_LENGTH: The number of experience years needed to apply for this job .\n",
        "- FULL_TIME_PART_TIME: If the job is full time or part time or both.\n",
        "- EXP_JOB_CLASS_TITLE: The title of the job you must have experience in before applying in this job.\n",
        "- COURSE_COUNT: Number of courses neede to apply for this job.\n",
        "- COURSE_LENGTH: The course length in years or months.\n",
        "- COURSE_SUBJECT: The course subject tha is needed to be accepted in this job.\n",
        "- DRIVERS_LICENSE_REQ: Is driver license required or not for this job.\n",
        "- EXAM_TYPE: Type of exams neededin the hiring process.\n",
        "- ENTRY_SALARY: Salary range in this job.\n",
        "- OPEN_DATE: Date at it the job bulliten got open.\n",
        "- REQUIREMENT_SET_TEXT: The requirments set need for this job in points.\n",
        "\n",
        "    \n",
        "\n",
        "#### The goal is to answer the following questions\n",
        " "
      ]
    },
    {
      "cell_type": "markdown",
      "id": "396bd69e",
      "metadata": {
        "id": "396bd69e"
      },
      "source": [
        "### <span style=\"color:brown\">Q1:\n",
        "\n",
        "A non-experienced job seeker wants to know what is the best job for him?"
      ]
    },
    {
      "cell_type": "code",
      "execution_count": null,
      "id": "ec5e2906",
      "metadata": {
        "id": "ec5e2906"
      },
      "outputs": [],
      "source": [
        "### Write your answer here ###"
      ]
    },
    {
      "cell_type": "markdown",
      "id": "86abeb40",
      "metadata": {
        "id": "86abeb40"
      },
      "source": [
        "### <span style=\"color:brown\">Q2:\n",
        "\n",
        "A concerned parents contacts you to tell them if there is a spicific school type that would guaranteed for their child a good future if you can tell, and which is it ?"
      ]
    },
    {
      "cell_type": "code",
      "execution_count": null,
      "id": "2649be23",
      "metadata": {
        "id": "2649be23"
      },
      "outputs": [],
      "source": [
        "### Write your answer here ###"
      ]
    },
    {
      "cell_type": "markdown",
      "id": "9b2d5bb5",
      "metadata": {
        "id": "9b2d5bb5"
      },
      "source": [
        "### <span style=\"color:brown\">Q3:\n",
        "\n",
        "What the best time in the year to be ready for a job applying in any experience level?"
      ]
    },
    {
      "cell_type": "code",
      "execution_count": null,
      "id": "1d328d4d",
      "metadata": {
        "id": "1d328d4d"
      },
      "outputs": [],
      "source": [
        "### Write your answer here ###"
      ]
    },
    {
      "cell_type": "markdown",
      "id": "ca3d3f6d",
      "metadata": {
        "id": "ca3d3f6d"
      },
      "source": [
        "### <span style=\"color:brown\">Q4:\n",
        "\n",
        "Is experience more important than educational level?"
      ]
    },
    {
      "cell_type": "code",
      "execution_count": null,
      "id": "4b2ed29c",
      "metadata": {
        "id": "4b2ed29c"
      },
      "outputs": [],
      "source": [
        "### Write your answer here ###"
      ]
    },
    {
      "cell_type": "markdown",
      "id": "677aa4be",
      "metadata": {
        "id": "677aa4be"
      },
      "source": [
        "### <span style=\"color:brown\">Q5:\n",
        "\n",
        "Which fresh grade job that will guarantee many job offers in the future for him?"
      ]
    },
    {
      "cell_type": "code",
      "execution_count": null,
      "id": "615eb576",
      "metadata": {
        "id": "615eb576"
      },
      "outputs": [],
      "source": [
        "### Write your answer here ###"
      ]
    },
    {
      "cell_type": "markdown",
      "id": "8db3bb10",
      "metadata": {
        "id": "8db3bb10"
      },
      "source": [
        "### <span style=\"color:brown\">Q6:\n",
        "\n",
        "\"The City of Los Angeles does not discriminate on the basis of race, religion, national origin, sex, age, marital status, sexual orientation, gender identity, gender expression, disability, creed, color, ancestry, medical condition (cancer), or Acquired Immune Deficiency Syndrome.\n",
        "\n",
        "AN EQUAL EMPLOYMENT OPPORTUNITY EMPLOYER \n",
        "\"\n",
        "\n",
        "The above statment is qouted from one of the job descriptions.\n",
        "\n",
        "Based on the jobs requirments column above do you think that LA governate may bais a little for men over women or the applicant marital status for example may effect his chance to gain the job?"
      ]
    },
    {
      "cell_type": "code",
      "execution_count": null,
      "id": "ae78ea6b",
      "metadata": {
        "id": "ae78ea6b"
      },
      "outputs": [],
      "source": [
        "### Write your answer here ###"
      ]
    },
    {
      "cell_type": "markdown",
      "id": "549a5513",
      "metadata": {
        "id": "549a5513"
      },
      "source": [
        "#  <span style=\"color:brown\">Pythone Implementation"
      ]
    },
    {
      "cell_type": "markdown",
      "id": "5d4ec7fa",
      "metadata": {
        "id": "5d4ec7fa"
      },
      "source": [
        "## Problem 17\n",
        "\n",
        "### <span style=\"color:Blue\">Song Recommender</span>\n",
        "\n",
        "#### <a id='seq_1'></a> Build a simple program that recommend songs to the user , based on his feelings and current mood, the songs recommendation rely on five categories:\n",
        "- Cheering\n",
        "- Sad\n",
        "- In Love\n",
        "- Motivated\n",
        "- Calm\n",
        "\n",
        "#### Each song has a total score of 5 for each category, so you should ask the user for his percentage for each category, with a simple restriction that the category score must not exceed 5.\n",
        "#### Then you should find the closest song to his feelings based on a simple difference calculation equation shown below:\n",
        "$ \\sqrt{(I_1 - R_1)^2 + (I_2 - R_2)^2 + (I_3 - R_3)^2 + (I_4 - R_4)^2} $\n",
        "##### As $ I_i $ is the input feeling value number i, and $ R_i $ is the refrence feeling value number i, as  $ i <= 4 $\n",
        "##### you will find below in the coding cell a nested dictionary with all the songs and its scores for each category, and also atatched in each dictionary a link to the song in youtube.\n",
        "\n",
        "#### Output Discription:\n",
        "|Case|Output|\n",
        "|--|--|\n",
        "|Standard|Song Name<br>Link to the video in youtube|\n",
        "\n",
        "#### Notes\n",
        "- The input categories order is as [above](#seq_1)\n",
        "- Make sure the score for each category is 5 at max.\n",
        "- All inputs must be casted to float.\n",
        "- The songs are listed in a nested dictionary with values of each category down below."
      ]
    },
    {
      "cell_type": "code",
      "execution_count": null,
      "id": "c3583bc6",
      "metadata": {
        "id": "c3583bc6"
      },
      "outputs": [],
      "source": [
        "### Write your answer here ###"
      ]
    },
    {
      "cell_type": "markdown",
      "id": "51ed13e3",
      "metadata": {
        "id": "51ed13e3"
      },
      "source": [
        "## Good Luck"
      ]
    }
  ],
  "metadata": {
    "kernelspec": {
      "display_name": "Python 3 (ipykernel)",
      "language": "python",
      "name": "python3"
    },
    "language_info": {
      "codemirror_mode": {
        "name": "ipython",
        "version": 3
      },
      "file_extension": ".py",
      "mimetype": "text/x-python",
      "name": "python",
      "nbconvert_exporter": "python",
      "pygments_lexer": "ipython3",
      "version": "3.9.7"
    },
    "colab": {
      "name": "Tahluf_task.ipynb",
      "provenance": [],
      "collapsed_sections": [
        "eebe09b9",
        "d1ce0e7b",
        "4f3f15ba",
        "685a30dd",
        "56ead3a8",
        "677aa4be",
        "8db3bb10",
        "5d4ec7fa",
        "51ed13e3"
      ],
      "include_colab_link": true
    }
  },
  "nbformat": 4,
  "nbformat_minor": 5
}